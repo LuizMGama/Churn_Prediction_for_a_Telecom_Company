{
 "cells": [
  {
   "cell_type": "markdown",
   "metadata": {},
   "source": [
    "# Projeto Final - Etapa 3: Relatório Solução"
   ]
  },
  {
   "cell_type": "markdown",
   "metadata": {},
   "source": [
    "Nessa etapa nós finalzimanos o projeto final do bootcamp. COm todos os modeos treinados, nos resta fazer um overview de todo o projeto e entregar a conclusão final.\n",
    "\n",
    "Montado o planejamento de preparação, manipulação e Análise Exploratória de Dados, nenhum passo foi pulado ou interrompido. A maior dificuldade envolveu preparar os quatro dataframes iniciais em um dataframe final para o treinamento, porque isso envolveu uma análise cuidadosa de cada coluna, de cada dataframe e das informações que continham. Mas toda as alterações de dados, binarizações de colunas e transformações funcionaram perfeitamente. Além disso, todas as etapas da análise exploratória foram cumpridas.\n",
    "\n",
    "Depois, alcançamos a etapa de preparação dos dados para o treinamento. Todos os passos propostos foram cumpridos. Criamos um dataframe diferente para cada alteração que fizemos, para poder avaliar o desempenho dos modelos com os dados em cada etapa, o que foi bom, porque as transformações tiveram impactos diferentes em cada um dos modelos. No final, considerando o tempo necessário para treinamento e os resultados de desempenho da AUC-ROC e a acurácia, o XGBoost "
   ]
  }
 ],
 "metadata": {
  "ExecuteTimeLog": [
   {
    "duration": 10,
    "start_time": "2025-03-28T16:56:10.557Z"
   }
  ],
  "kernelspec": {
   "display_name": "Python 3 (ipykernel)",
   "language": "python",
   "name": "python3"
  },
  "language_info": {
   "codemirror_mode": {
    "name": "ipython",
    "version": 3
   },
   "file_extension": ".py",
   "mimetype": "text/x-python",
   "name": "python",
   "nbconvert_exporter": "python",
   "pygments_lexer": "ipython3",
   "version": "3.9.19"
  },
  "toc": {
   "base_numbering": 1,
   "nav_menu": {},
   "number_sections": true,
   "sideBar": true,
   "skip_h1_title": true,
   "title_cell": "Table of Contents",
   "title_sidebar": "Contents",
   "toc_cell": false,
   "toc_position": {},
   "toc_section_display": true,
   "toc_window_display": false
  }
 },
 "nbformat": 4,
 "nbformat_minor": 2
}
