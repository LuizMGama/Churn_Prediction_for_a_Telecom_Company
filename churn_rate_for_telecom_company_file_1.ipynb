{
 "cells": [
  {
   "cell_type": "markdown",
   "metadata": {},
   "source": [
    "# Projeto Final #"
   ]
  },
  {
   "cell_type": "markdown",
   "metadata": {},
   "source": [
    "Ajudar a empresa Interconnect a prever sua taxa de churn, criando um modelo treinado que seja capaz de prever o comportamento de futuros clientes.\n",
    "\n",
    "Principais Passos (Primeira Avaliação)\n",
    "- Estudar os Dados e verificar cada uma das tabelas (temos quatro tabelas ao total)\n",
    "- Realizar a limpeza de colunas desnecessárias e dados ausentes, verificar os tipos de dados e criar uma Master Table ara os modelos\n",
    "- Realizar uma análise exploratória buscando entender o comportamento geral dos clientes e o impacto que certas colunas podem ter nos nossos dados\n",
    "- Treinar e avaliar os modelos\n",
    "- Preparar minhas conclusões"
   ]
  },
  {
   "cell_type": "markdown",
   "metadata": {},
   "source": [
    "## Planejamento de Trabalho"
   ]
  },
  {
   "cell_type": "markdown",
   "metadata": {},
   "source": [
    "Temos um trabalho que, há uma primeira vista, precisa de uma prepração de dados mais longa, pela quantidade de Daframes e pela quantidade de variáveis categóricas do tipo object. MInha primeira ideia é binarizar todas as informações possíveis e verificar a necessidade de todas as colunas, para chegarmos com um dataframe final mais limpo e simples possível. Minha AED vai ser dividida em cerca de 7 ou 8 passos, buscando entender qualquer característica dos dados que possa atrapalhar o modelo e entender padrões de perfil e comportamento de clientes, para fornecer alguns insights à empresa. Depois, vamos preparar os dados para os modelos, levando em consideração as conclusões da AED. Quero treinar cerca de 5 modelos como regressão, floresta e modelos baseados em boost, porque teremos um bom agrupamento de modelos mais simples e modelos mais robustos. Queremos atingir uma AUC ROC de 0.75, mas vamos aplicar técnicas como validação cruzada e gridsearch para buscar o melhor valor possível."
   ]
  },
  {
   "cell_type": "markdown",
   "metadata": {},
   "source": [
    "## Importando Bibliotecas e Lendo Arquivos ##"
   ]
  },
  {
   "cell_type": "code",
   "execution_count": 1,
   "metadata": {},
   "outputs": [],
   "source": [
    "import pandas as pd\n",
    "import numpy as np\n",
    "import re\n",
    "import matplotlib.pyplot as plt\n",
    "import seaborn as sns\n",
    "from scipy.stats import chi2_contingency"
   ]
  },
  {
   "cell_type": "code",
   "execution_count": 2,
   "metadata": {},
   "outputs": [],
   "source": [
    "df_contract = pd.read_csv('/datasets/final_provider/contract.csv')\n",
    "df_internet = pd.read_csv('/datasets/final_provider/internet.csv')\n",
    "df_personal = pd.read_csv('/datasets/final_provider/personal.csv')\n",
    "df_phone = pd.read_csv('/datasets/final_provider/phone.csv')"
   ]
  },
  {
   "cell_type": "markdown",
   "metadata": {},
   "source": [
    "## Preparando os Dados para a AED"
   ]
  },
  {
   "cell_type": "code",
   "execution_count": 3,
   "metadata": {},
   "outputs": [
    {
     "name": "stdout",
     "output_type": "stream",
     "text": [
      "\n",
      "===== Contract =====\n"
     ]
    },
    {
     "data": {
      "text/html": [
       "<div>\n",
       "<style scoped>\n",
       "    .dataframe tbody tr th:only-of-type {\n",
       "        vertical-align: middle;\n",
       "    }\n",
       "\n",
       "    .dataframe tbody tr th {\n",
       "        vertical-align: top;\n",
       "    }\n",
       "\n",
       "    .dataframe thead th {\n",
       "        text-align: right;\n",
       "    }\n",
       "</style>\n",
       "<table border=\"1\" class=\"dataframe\">\n",
       "  <thead>\n",
       "    <tr style=\"text-align: right;\">\n",
       "      <th></th>\n",
       "      <th>customerID</th>\n",
       "      <th>BeginDate</th>\n",
       "      <th>EndDate</th>\n",
       "      <th>Type</th>\n",
       "      <th>PaperlessBilling</th>\n",
       "      <th>PaymentMethod</th>\n",
       "      <th>MonthlyCharges</th>\n",
       "      <th>TotalCharges</th>\n",
       "    </tr>\n",
       "  </thead>\n",
       "  <tbody>\n",
       "    <tr>\n",
       "      <th>0</th>\n",
       "      <td>7590-VHVEG</td>\n",
       "      <td>2020-01-01</td>\n",
       "      <td>No</td>\n",
       "      <td>Month-to-month</td>\n",
       "      <td>Yes</td>\n",
       "      <td>Electronic check</td>\n",
       "      <td>29.85</td>\n",
       "      <td>29.85</td>\n",
       "    </tr>\n",
       "    <tr>\n",
       "      <th>1</th>\n",
       "      <td>5575-GNVDE</td>\n",
       "      <td>2017-04-01</td>\n",
       "      <td>No</td>\n",
       "      <td>One year</td>\n",
       "      <td>No</td>\n",
       "      <td>Mailed check</td>\n",
       "      <td>56.95</td>\n",
       "      <td>1889.5</td>\n",
       "    </tr>\n",
       "    <tr>\n",
       "      <th>2</th>\n",
       "      <td>3668-QPYBK</td>\n",
       "      <td>2019-10-01</td>\n",
       "      <td>2019-12-01 00:00:00</td>\n",
       "      <td>Month-to-month</td>\n",
       "      <td>Yes</td>\n",
       "      <td>Mailed check</td>\n",
       "      <td>53.85</td>\n",
       "      <td>108.15</td>\n",
       "    </tr>\n",
       "    <tr>\n",
       "      <th>3</th>\n",
       "      <td>7795-CFOCW</td>\n",
       "      <td>2016-05-01</td>\n",
       "      <td>No</td>\n",
       "      <td>One year</td>\n",
       "      <td>No</td>\n",
       "      <td>Bank transfer (automatic)</td>\n",
       "      <td>42.30</td>\n",
       "      <td>1840.75</td>\n",
       "    </tr>\n",
       "    <tr>\n",
       "      <th>4</th>\n",
       "      <td>9237-HQITU</td>\n",
       "      <td>2019-09-01</td>\n",
       "      <td>2019-11-01 00:00:00</td>\n",
       "      <td>Month-to-month</td>\n",
       "      <td>Yes</td>\n",
       "      <td>Electronic check</td>\n",
       "      <td>70.70</td>\n",
       "      <td>151.65</td>\n",
       "    </tr>\n",
       "  </tbody>\n",
       "</table>\n",
       "</div>"
      ],
      "text/plain": [
       "   customerID   BeginDate              EndDate            Type  \\\n",
       "0  7590-VHVEG  2020-01-01                   No  Month-to-month   \n",
       "1  5575-GNVDE  2017-04-01                   No        One year   \n",
       "2  3668-QPYBK  2019-10-01  2019-12-01 00:00:00  Month-to-month   \n",
       "3  7795-CFOCW  2016-05-01                   No        One year   \n",
       "4  9237-HQITU  2019-09-01  2019-11-01 00:00:00  Month-to-month   \n",
       "\n",
       "  PaperlessBilling              PaymentMethod  MonthlyCharges TotalCharges  \n",
       "0              Yes           Electronic check           29.85        29.85  \n",
       "1               No               Mailed check           56.95       1889.5  \n",
       "2              Yes               Mailed check           53.85       108.15  \n",
       "3               No  Bank transfer (automatic)           42.30      1840.75  \n",
       "4              Yes           Electronic check           70.70       151.65  "
      ]
     },
     "metadata": {},
     "output_type": "display_data"
    },
    {
     "name": "stdout",
     "output_type": "stream",
     "text": [
      "<class 'pandas.core.frame.DataFrame'>\n",
      "RangeIndex: 7043 entries, 0 to 7042\n",
      "Data columns (total 8 columns):\n",
      " #   Column            Non-Null Count  Dtype  \n",
      "---  ------            --------------  -----  \n",
      " 0   customerID        7043 non-null   object \n",
      " 1   BeginDate         7043 non-null   object \n",
      " 2   EndDate           7043 non-null   object \n",
      " 3   Type              7043 non-null   object \n",
      " 4   PaperlessBilling  7043 non-null   object \n",
      " 5   PaymentMethod     7043 non-null   object \n",
      " 6   MonthlyCharges    7043 non-null   float64\n",
      " 7   TotalCharges      7043 non-null   object \n",
      "dtypes: float64(1), object(7)\n",
      "memory usage: 440.3+ KB\n"
     ]
    },
    {
     "data": {
      "text/plain": [
       "None"
      ]
     },
     "metadata": {},
     "output_type": "display_data"
    },
    {
     "name": "stdout",
     "output_type": "stream",
     "text": [
      "\n",
      "===== Internet =====\n"
     ]
    },
    {
     "data": {
      "text/html": [
       "<div>\n",
       "<style scoped>\n",
       "    .dataframe tbody tr th:only-of-type {\n",
       "        vertical-align: middle;\n",
       "    }\n",
       "\n",
       "    .dataframe tbody tr th {\n",
       "        vertical-align: top;\n",
       "    }\n",
       "\n",
       "    .dataframe thead th {\n",
       "        text-align: right;\n",
       "    }\n",
       "</style>\n",
       "<table border=\"1\" class=\"dataframe\">\n",
       "  <thead>\n",
       "    <tr style=\"text-align: right;\">\n",
       "      <th></th>\n",
       "      <th>customerID</th>\n",
       "      <th>InternetService</th>\n",
       "      <th>OnlineSecurity</th>\n",
       "      <th>OnlineBackup</th>\n",
       "      <th>DeviceProtection</th>\n",
       "      <th>TechSupport</th>\n",
       "      <th>StreamingTV</th>\n",
       "      <th>StreamingMovies</th>\n",
       "    </tr>\n",
       "  </thead>\n",
       "  <tbody>\n",
       "    <tr>\n",
       "      <th>0</th>\n",
       "      <td>7590-VHVEG</td>\n",
       "      <td>DSL</td>\n",
       "      <td>No</td>\n",
       "      <td>Yes</td>\n",
       "      <td>No</td>\n",
       "      <td>No</td>\n",
       "      <td>No</td>\n",
       "      <td>No</td>\n",
       "    </tr>\n",
       "    <tr>\n",
       "      <th>1</th>\n",
       "      <td>5575-GNVDE</td>\n",
       "      <td>DSL</td>\n",
       "      <td>Yes</td>\n",
       "      <td>No</td>\n",
       "      <td>Yes</td>\n",
       "      <td>No</td>\n",
       "      <td>No</td>\n",
       "      <td>No</td>\n",
       "    </tr>\n",
       "    <tr>\n",
       "      <th>2</th>\n",
       "      <td>3668-QPYBK</td>\n",
       "      <td>DSL</td>\n",
       "      <td>Yes</td>\n",
       "      <td>Yes</td>\n",
       "      <td>No</td>\n",
       "      <td>No</td>\n",
       "      <td>No</td>\n",
       "      <td>No</td>\n",
       "    </tr>\n",
       "    <tr>\n",
       "      <th>3</th>\n",
       "      <td>7795-CFOCW</td>\n",
       "      <td>DSL</td>\n",
       "      <td>Yes</td>\n",
       "      <td>No</td>\n",
       "      <td>Yes</td>\n",
       "      <td>Yes</td>\n",
       "      <td>No</td>\n",
       "      <td>No</td>\n",
       "    </tr>\n",
       "    <tr>\n",
       "      <th>4</th>\n",
       "      <td>9237-HQITU</td>\n",
       "      <td>Fiber optic</td>\n",
       "      <td>No</td>\n",
       "      <td>No</td>\n",
       "      <td>No</td>\n",
       "      <td>No</td>\n",
       "      <td>No</td>\n",
       "      <td>No</td>\n",
       "    </tr>\n",
       "  </tbody>\n",
       "</table>\n",
       "</div>"
      ],
      "text/plain": [
       "   customerID InternetService OnlineSecurity OnlineBackup DeviceProtection  \\\n",
       "0  7590-VHVEG             DSL             No          Yes               No   \n",
       "1  5575-GNVDE             DSL            Yes           No              Yes   \n",
       "2  3668-QPYBK             DSL            Yes          Yes               No   \n",
       "3  7795-CFOCW             DSL            Yes           No              Yes   \n",
       "4  9237-HQITU     Fiber optic             No           No               No   \n",
       "\n",
       "  TechSupport StreamingTV StreamingMovies  \n",
       "0          No          No              No  \n",
       "1          No          No              No  \n",
       "2          No          No              No  \n",
       "3         Yes          No              No  \n",
       "4          No          No              No  "
      ]
     },
     "metadata": {},
     "output_type": "display_data"
    },
    {
     "name": "stdout",
     "output_type": "stream",
     "text": [
      "<class 'pandas.core.frame.DataFrame'>\n",
      "RangeIndex: 5517 entries, 0 to 5516\n",
      "Data columns (total 8 columns):\n",
      " #   Column            Non-Null Count  Dtype \n",
      "---  ------            --------------  ----- \n",
      " 0   customerID        5517 non-null   object\n",
      " 1   InternetService   5517 non-null   object\n",
      " 2   OnlineSecurity    5517 non-null   object\n",
      " 3   OnlineBackup      5517 non-null   object\n",
      " 4   DeviceProtection  5517 non-null   object\n",
      " 5   TechSupport       5517 non-null   object\n",
      " 6   StreamingTV       5517 non-null   object\n",
      " 7   StreamingMovies   5517 non-null   object\n",
      "dtypes: object(8)\n",
      "memory usage: 344.9+ KB\n"
     ]
    },
    {
     "data": {
      "text/plain": [
       "None"
      ]
     },
     "metadata": {},
     "output_type": "display_data"
    },
    {
     "name": "stdout",
     "output_type": "stream",
     "text": [
      "\n",
      "===== Personal =====\n"
     ]
    },
    {
     "data": {
      "text/html": [
       "<div>\n",
       "<style scoped>\n",
       "    .dataframe tbody tr th:only-of-type {\n",
       "        vertical-align: middle;\n",
       "    }\n",
       "\n",
       "    .dataframe tbody tr th {\n",
       "        vertical-align: top;\n",
       "    }\n",
       "\n",
       "    .dataframe thead th {\n",
       "        text-align: right;\n",
       "    }\n",
       "</style>\n",
       "<table border=\"1\" class=\"dataframe\">\n",
       "  <thead>\n",
       "    <tr style=\"text-align: right;\">\n",
       "      <th></th>\n",
       "      <th>customerID</th>\n",
       "      <th>gender</th>\n",
       "      <th>SeniorCitizen</th>\n",
       "      <th>Partner</th>\n",
       "      <th>Dependents</th>\n",
       "    </tr>\n",
       "  </thead>\n",
       "  <tbody>\n",
       "    <tr>\n",
       "      <th>0</th>\n",
       "      <td>7590-VHVEG</td>\n",
       "      <td>Female</td>\n",
       "      <td>0</td>\n",
       "      <td>Yes</td>\n",
       "      <td>No</td>\n",
       "    </tr>\n",
       "    <tr>\n",
       "      <th>1</th>\n",
       "      <td>5575-GNVDE</td>\n",
       "      <td>Male</td>\n",
       "      <td>0</td>\n",
       "      <td>No</td>\n",
       "      <td>No</td>\n",
       "    </tr>\n",
       "    <tr>\n",
       "      <th>2</th>\n",
       "      <td>3668-QPYBK</td>\n",
       "      <td>Male</td>\n",
       "      <td>0</td>\n",
       "      <td>No</td>\n",
       "      <td>No</td>\n",
       "    </tr>\n",
       "    <tr>\n",
       "      <th>3</th>\n",
       "      <td>7795-CFOCW</td>\n",
       "      <td>Male</td>\n",
       "      <td>0</td>\n",
       "      <td>No</td>\n",
       "      <td>No</td>\n",
       "    </tr>\n",
       "    <tr>\n",
       "      <th>4</th>\n",
       "      <td>9237-HQITU</td>\n",
       "      <td>Female</td>\n",
       "      <td>0</td>\n",
       "      <td>No</td>\n",
       "      <td>No</td>\n",
       "    </tr>\n",
       "  </tbody>\n",
       "</table>\n",
       "</div>"
      ],
      "text/plain": [
       "   customerID  gender  SeniorCitizen Partner Dependents\n",
       "0  7590-VHVEG  Female              0     Yes         No\n",
       "1  5575-GNVDE    Male              0      No         No\n",
       "2  3668-QPYBK    Male              0      No         No\n",
       "3  7795-CFOCW    Male              0      No         No\n",
       "4  9237-HQITU  Female              0      No         No"
      ]
     },
     "metadata": {},
     "output_type": "display_data"
    },
    {
     "name": "stdout",
     "output_type": "stream",
     "text": [
      "<class 'pandas.core.frame.DataFrame'>\n",
      "RangeIndex: 7043 entries, 0 to 7042\n",
      "Data columns (total 5 columns):\n",
      " #   Column         Non-Null Count  Dtype \n",
      "---  ------         --------------  ----- \n",
      " 0   customerID     7043 non-null   object\n",
      " 1   gender         7043 non-null   object\n",
      " 2   SeniorCitizen  7043 non-null   int64 \n",
      " 3   Partner        7043 non-null   object\n",
      " 4   Dependents     7043 non-null   object\n",
      "dtypes: int64(1), object(4)\n",
      "memory usage: 275.2+ KB\n"
     ]
    },
    {
     "data": {
      "text/plain": [
       "None"
      ]
     },
     "metadata": {},
     "output_type": "display_data"
    },
    {
     "name": "stdout",
     "output_type": "stream",
     "text": [
      "\n",
      "===== Phone =====\n"
     ]
    },
    {
     "data": {
      "text/html": [
       "<div>\n",
       "<style scoped>\n",
       "    .dataframe tbody tr th:only-of-type {\n",
       "        vertical-align: middle;\n",
       "    }\n",
       "\n",
       "    .dataframe tbody tr th {\n",
       "        vertical-align: top;\n",
       "    }\n",
       "\n",
       "    .dataframe thead th {\n",
       "        text-align: right;\n",
       "    }\n",
       "</style>\n",
       "<table border=\"1\" class=\"dataframe\">\n",
       "  <thead>\n",
       "    <tr style=\"text-align: right;\">\n",
       "      <th></th>\n",
       "      <th>customerID</th>\n",
       "      <th>MultipleLines</th>\n",
       "    </tr>\n",
       "  </thead>\n",
       "  <tbody>\n",
       "    <tr>\n",
       "      <th>0</th>\n",
       "      <td>5575-GNVDE</td>\n",
       "      <td>No</td>\n",
       "    </tr>\n",
       "    <tr>\n",
       "      <th>1</th>\n",
       "      <td>3668-QPYBK</td>\n",
       "      <td>No</td>\n",
       "    </tr>\n",
       "    <tr>\n",
       "      <th>2</th>\n",
       "      <td>9237-HQITU</td>\n",
       "      <td>No</td>\n",
       "    </tr>\n",
       "    <tr>\n",
       "      <th>3</th>\n",
       "      <td>9305-CDSKC</td>\n",
       "      <td>Yes</td>\n",
       "    </tr>\n",
       "    <tr>\n",
       "      <th>4</th>\n",
       "      <td>1452-KIOVK</td>\n",
       "      <td>Yes</td>\n",
       "    </tr>\n",
       "  </tbody>\n",
       "</table>\n",
       "</div>"
      ],
      "text/plain": [
       "   customerID MultipleLines\n",
       "0  5575-GNVDE            No\n",
       "1  3668-QPYBK            No\n",
       "2  9237-HQITU            No\n",
       "3  9305-CDSKC           Yes\n",
       "4  1452-KIOVK           Yes"
      ]
     },
     "metadata": {},
     "output_type": "display_data"
    },
    {
     "name": "stdout",
     "output_type": "stream",
     "text": [
      "<class 'pandas.core.frame.DataFrame'>\n",
      "RangeIndex: 6361 entries, 0 to 6360\n",
      "Data columns (total 2 columns):\n",
      " #   Column         Non-Null Count  Dtype \n",
      "---  ------         --------------  ----- \n",
      " 0   customerID     6361 non-null   object\n",
      " 1   MultipleLines  6361 non-null   object\n",
      "dtypes: object(2)\n",
      "memory usage: 99.5+ KB\n"
     ]
    },
    {
     "data": {
      "text/plain": [
       "None"
      ]
     },
     "metadata": {},
     "output_type": "display_data"
    }
   ],
   "source": [
    "for name, df in zip(['Contract', 'Internet', 'Personal', 'Phone'], \n",
    "                    [df_contract, df_internet, df_personal, df_phone]):\n",
    "    print(f\"\\n===== {name} =====\")\n",
    "    display(df.head())\n",
    "    display(df.info())"
   ]
  },
  {
   "cell_type": "markdown",
   "metadata": {},
   "source": [
    "Aqui, nós já temos uma tonelada de informações interessantes sobre nosas tabelas. O Dataframe contratos será o dataframe principal, no qual juntarmemos todos os outros pela coluna de id. Ela contém dados de todos os clientes e tem a nossa variável objetivo, que será um True or False a ser extraído da coluna EndDate. Em um primeiro momento, parece que não há dados ausentes, mas a coluna TotalCharges, que parece conter dados float, está como object. Isso indica qe provavelmente há colunas sem informação que não apresentam NaN e forçam o método info a itnerpretá-las como dados presentes. Vamos investigar isso. Vamos trocar begin_date de Object para datetime. \n",
    "\n",
    "O segundo dataframe traz informações sobre qual serviço de internet o cliente utiliza. Faz sentido ela ser menor, o que indica que nem todos os clientes tem internet. Vale verificar quais colunas do tipo object apresentam apenas Yes ou No como resposta, porque esas podem ser convertidas para o tipo booleano sem exigir o One-Hot-Encoding. \n",
    "\n",
    "O dataframe Personal traz informações pessoais sobre cada cliente. Ele possui o mesmo número de entradas que o dataframe Contract, o que é exatamente o que esperávamos ver. Pode ser interessante verificar, na AED, se alguma condição de gênero, idade ou família pode levar a um churn maior. Esse é mais um dataframe que pode ser convertido para booleano se todas as respostas forem binárias.\n",
    "\n",
    "O último dataframe só nos traz a informação se cada cliente tem mais de uma linha. Ele é menor, pela mesma razão que o dataframe de internet, mas aplicando a lógica contrária. Nem todos os clientes tem telefone. Alguns podem usar apenas a internet. Vamos verificar se as respostas são apenas Yes ou No, seguindo a mesma ideia das outras tabelas."
   ]
  },
  {
   "cell_type": "markdown",
   "metadata": {},
   "source": [
    "### Modificando as Tabelas"
   ]
  },
  {
   "cell_type": "markdown",
   "metadata": {},
   "source": [
    "#### df_contracts"
   ]
  },
  {
   "cell_type": "code",
   "execution_count": 4,
   "metadata": {},
   "outputs": [],
   "source": [
    "def camel_to_snake(name):\n",
    "    return re.sub(r'(?<=[a-z])(?=[A-Z])', '_', name).lower()\n",
    "\n",
    "df_contract.columns = [camel_to_snake(col) for col in df_contract.columns]"
   ]
  },
  {
   "cell_type": "code",
   "execution_count": 5,
   "metadata": {},
   "outputs": [
    {
     "data": {
      "text/plain": [
       "Index(['customer_id', 'begin_date', 'end_date', 'type', 'paperless_billing',\n",
       "       'payment_method', 'monthly_charges', 'total_charges'],\n",
       "      dtype='object')"
      ]
     },
     "execution_count": 5,
     "metadata": {},
     "output_type": "execute_result"
    }
   ],
   "source": [
    "df_contract.columns"
   ]
  },
  {
   "cell_type": "code",
   "execution_count": 6,
   "metadata": {},
   "outputs": [],
   "source": [
    "df_contract['begin_date'] = pd.to_datetime(df_contract['begin_date'])"
   ]
  },
  {
   "cell_type": "code",
   "execution_count": 7,
   "metadata": {},
   "outputs": [
    {
     "data": {
      "text/plain": [
       "dtype('<M8[ns]')"
      ]
     },
     "execution_count": 7,
     "metadata": {},
     "output_type": "execute_result"
    }
   ],
   "source": [
    "df_contract['begin_date'].dtypes"
   ]
  },
  {
   "cell_type": "markdown",
   "metadata": {},
   "source": [
    "Aqui, adotamos a snake_case pros títulos das colunas, para facilitar o trabalho. Por fim, convertemos begin_datye para datetime. Agora, vamos verificar o que está acontecendo com a coluna 'total_charges'. "
   ]
  },
  {
   "cell_type": "code",
   "execution_count": 8,
   "metadata": {},
   "outputs": [
    {
     "data": {
      "text/plain": [
       "         11\n",
       "20.2     11\n",
       "19.75     9\n",
       "19.9      8\n",
       "19.65     8\n",
       "20.05     8\n",
       "45.3      7\n",
       "19.55     7\n",
       "20.25     6\n",
       "20.15     6\n",
       "19.45     6\n",
       "20.45     5\n",
       "20.3      5\n",
       "20.4      4\n",
       "75.3      4\n",
       "49.9      4\n",
       "19.3      4\n",
       "70.6      4\n",
       "69.95     4\n",
       "74.7      4\n",
       "Name: total_charges, dtype: int64"
      ]
     },
     "execution_count": 8,
     "metadata": {},
     "output_type": "execute_result"
    }
   ],
   "source": [
    "df_contract['total_charges'].value_counts(dropna=False).head(20)"
   ]
  },
  {
   "cell_type": "code",
   "execution_count": 9,
   "metadata": {},
   "outputs": [
    {
     "data": {
      "text/html": [
       "<div>\n",
       "<style scoped>\n",
       "    .dataframe tbody tr th:only-of-type {\n",
       "        vertical-align: middle;\n",
       "    }\n",
       "\n",
       "    .dataframe tbody tr th {\n",
       "        vertical-align: top;\n",
       "    }\n",
       "\n",
       "    .dataframe thead th {\n",
       "        text-align: right;\n",
       "    }\n",
       "</style>\n",
       "<table border=\"1\" class=\"dataframe\">\n",
       "  <thead>\n",
       "    <tr style=\"text-align: right;\">\n",
       "      <th></th>\n",
       "      <th>customer_id</th>\n",
       "      <th>begin_date</th>\n",
       "      <th>end_date</th>\n",
       "      <th>type</th>\n",
       "      <th>paperless_billing</th>\n",
       "      <th>payment_method</th>\n",
       "      <th>monthly_charges</th>\n",
       "      <th>total_charges</th>\n",
       "    </tr>\n",
       "  </thead>\n",
       "  <tbody>\n",
       "    <tr>\n",
       "      <th>488</th>\n",
       "      <td>4472-LVYGI</td>\n",
       "      <td>2020-02-01</td>\n",
       "      <td>No</td>\n",
       "      <td>Two year</td>\n",
       "      <td>Yes</td>\n",
       "      <td>Bank transfer (automatic)</td>\n",
       "      <td>52.55</td>\n",
       "      <td></td>\n",
       "    </tr>\n",
       "    <tr>\n",
       "      <th>753</th>\n",
       "      <td>3115-CZMZD</td>\n",
       "      <td>2020-02-01</td>\n",
       "      <td>No</td>\n",
       "      <td>Two year</td>\n",
       "      <td>No</td>\n",
       "      <td>Mailed check</td>\n",
       "      <td>20.25</td>\n",
       "      <td></td>\n",
       "    </tr>\n",
       "    <tr>\n",
       "      <th>936</th>\n",
       "      <td>5709-LVOEQ</td>\n",
       "      <td>2020-02-01</td>\n",
       "      <td>No</td>\n",
       "      <td>Two year</td>\n",
       "      <td>No</td>\n",
       "      <td>Mailed check</td>\n",
       "      <td>80.85</td>\n",
       "      <td></td>\n",
       "    </tr>\n",
       "    <tr>\n",
       "      <th>1082</th>\n",
       "      <td>4367-NUYAO</td>\n",
       "      <td>2020-02-01</td>\n",
       "      <td>No</td>\n",
       "      <td>Two year</td>\n",
       "      <td>No</td>\n",
       "      <td>Mailed check</td>\n",
       "      <td>25.75</td>\n",
       "      <td></td>\n",
       "    </tr>\n",
       "    <tr>\n",
       "      <th>1340</th>\n",
       "      <td>1371-DWPAZ</td>\n",
       "      <td>2020-02-01</td>\n",
       "      <td>No</td>\n",
       "      <td>Two year</td>\n",
       "      <td>No</td>\n",
       "      <td>Credit card (automatic)</td>\n",
       "      <td>56.05</td>\n",
       "      <td></td>\n",
       "    </tr>\n",
       "    <tr>\n",
       "      <th>3331</th>\n",
       "      <td>7644-OMVMY</td>\n",
       "      <td>2020-02-01</td>\n",
       "      <td>No</td>\n",
       "      <td>Two year</td>\n",
       "      <td>No</td>\n",
       "      <td>Mailed check</td>\n",
       "      <td>19.85</td>\n",
       "      <td></td>\n",
       "    </tr>\n",
       "    <tr>\n",
       "      <th>3826</th>\n",
       "      <td>3213-VVOLG</td>\n",
       "      <td>2020-02-01</td>\n",
       "      <td>No</td>\n",
       "      <td>Two year</td>\n",
       "      <td>No</td>\n",
       "      <td>Mailed check</td>\n",
       "      <td>25.35</td>\n",
       "      <td></td>\n",
       "    </tr>\n",
       "    <tr>\n",
       "      <th>4380</th>\n",
       "      <td>2520-SGTTA</td>\n",
       "      <td>2020-02-01</td>\n",
       "      <td>No</td>\n",
       "      <td>Two year</td>\n",
       "      <td>No</td>\n",
       "      <td>Mailed check</td>\n",
       "      <td>20.00</td>\n",
       "      <td></td>\n",
       "    </tr>\n",
       "    <tr>\n",
       "      <th>5218</th>\n",
       "      <td>2923-ARZLG</td>\n",
       "      <td>2020-02-01</td>\n",
       "      <td>No</td>\n",
       "      <td>One year</td>\n",
       "      <td>Yes</td>\n",
       "      <td>Mailed check</td>\n",
       "      <td>19.70</td>\n",
       "      <td></td>\n",
       "    </tr>\n",
       "    <tr>\n",
       "      <th>6670</th>\n",
       "      <td>4075-WKNIU</td>\n",
       "      <td>2020-02-01</td>\n",
       "      <td>No</td>\n",
       "      <td>Two year</td>\n",
       "      <td>No</td>\n",
       "      <td>Mailed check</td>\n",
       "      <td>73.35</td>\n",
       "      <td></td>\n",
       "    </tr>\n",
       "    <tr>\n",
       "      <th>6754</th>\n",
       "      <td>2775-SEFEE</td>\n",
       "      <td>2020-02-01</td>\n",
       "      <td>No</td>\n",
       "      <td>Two year</td>\n",
       "      <td>Yes</td>\n",
       "      <td>Bank transfer (automatic)</td>\n",
       "      <td>61.90</td>\n",
       "      <td></td>\n",
       "    </tr>\n",
       "  </tbody>\n",
       "</table>\n",
       "</div>"
      ],
      "text/plain": [
       "     customer_id begin_date end_date      type paperless_billing  \\\n",
       "488   4472-LVYGI 2020-02-01       No  Two year               Yes   \n",
       "753   3115-CZMZD 2020-02-01       No  Two year                No   \n",
       "936   5709-LVOEQ 2020-02-01       No  Two year                No   \n",
       "1082  4367-NUYAO 2020-02-01       No  Two year                No   \n",
       "1340  1371-DWPAZ 2020-02-01       No  Two year                No   \n",
       "3331  7644-OMVMY 2020-02-01       No  Two year                No   \n",
       "3826  3213-VVOLG 2020-02-01       No  Two year                No   \n",
       "4380  2520-SGTTA 2020-02-01       No  Two year                No   \n",
       "5218  2923-ARZLG 2020-02-01       No  One year               Yes   \n",
       "6670  4075-WKNIU 2020-02-01       No  Two year                No   \n",
       "6754  2775-SEFEE 2020-02-01       No  Two year               Yes   \n",
       "\n",
       "                 payment_method  monthly_charges total_charges  \n",
       "488   Bank transfer (automatic)            52.55                \n",
       "753                Mailed check            20.25                \n",
       "936                Mailed check            80.85                \n",
       "1082               Mailed check            25.75                \n",
       "1340    Credit card (automatic)            56.05                \n",
       "3331               Mailed check            19.85                \n",
       "3826               Mailed check            25.35                \n",
       "4380               Mailed check            20.00                \n",
       "5218               Mailed check            19.70                \n",
       "6670               Mailed check            73.35                \n",
       "6754  Bank transfer (automatic)            61.90                "
      ]
     },
     "execution_count": 9,
     "metadata": {},
     "output_type": "execute_result"
    }
   ],
   "source": [
    "df_contract[df_contract['total_charges'].str.strip() == '']"
   ]
  },
  {
   "cell_type": "code",
   "execution_count": 10,
   "metadata": {},
   "outputs": [
    {
     "data": {
      "text/plain": [
       "2014-02-01    366\n",
       "2019-10-01    237\n",
       "2019-09-01    237\n",
       "2019-11-01    237\n",
       "2020-01-01    233\n",
       "             ... \n",
       "2020-02-01     11\n",
       "2014-01-01      7\n",
       "2013-12-01      3\n",
       "2013-10-01      3\n",
       "2013-11-01      2\n",
       "Name: begin_date, Length: 77, dtype: int64"
      ]
     },
     "execution_count": 10,
     "metadata": {},
     "output_type": "execute_result"
    }
   ],
   "source": [
    "df_contract['begin_date'].value_counts()"
   ]
  },
  {
   "cell_type": "code",
   "execution_count": 11,
   "metadata": {},
   "outputs": [],
   "source": [
    "df_contract['total_charges'] = pd.to_numeric(df_contract['total_charges'], errors='coerce')\n",
    "df_contract['total_charges'] = df_contract['total_charges'].fillna(0)"
   ]
  },
  {
   "cell_type": "code",
   "execution_count": 12,
   "metadata": {},
   "outputs": [
    {
     "name": "stdout",
     "output_type": "stream",
     "text": [
      "<class 'pandas.core.frame.DataFrame'>\n",
      "RangeIndex: 7043 entries, 0 to 7042\n",
      "Data columns (total 8 columns):\n",
      " #   Column             Non-Null Count  Dtype         \n",
      "---  ------             --------------  -----         \n",
      " 0   customer_id        7043 non-null   object        \n",
      " 1   begin_date         7043 non-null   datetime64[ns]\n",
      " 2   end_date           7043 non-null   object        \n",
      " 3   type               7043 non-null   object        \n",
      " 4   paperless_billing  7043 non-null   object        \n",
      " 5   payment_method     7043 non-null   object        \n",
      " 6   monthly_charges    7043 non-null   float64       \n",
      " 7   total_charges      7043 non-null   float64       \n",
      "dtypes: datetime64[ns](1), float64(2), object(5)\n",
      "memory usage: 440.3+ KB\n"
     ]
    }
   ],
   "source": [
    "df_contract.info()"
   ]
  },
  {
   "cell_type": "markdown",
   "metadata": {},
   "source": [
    "Confirmamos que exsitem 11 valores ausentes e que eles não estão presentes porque os clentes acabaram de entrar pra operadora e ainda não tem cobranças. Por isso, vamos preenchê-los com 0, mudar o tipo de dado para float. Além disso, agora, vamos verificar quais colunas do tipo Object tem apenas respostas binárias, porque essas podem ser convertidas para bool sem o uso do one-hot-encoding criando mais colunas"
   ]
  },
  {
   "cell_type": "code",
   "execution_count": 13,
   "metadata": {},
   "outputs": [
    {
     "name": "stdout",
     "output_type": "stream",
     "text": [
      "\n",
      "customer_id:\n",
      "8818-DOPVL    1\n",
      "5067-XJQFU    1\n",
      "1567-DSCIC    1\n",
      "8220-OCUFY    1\n",
      "8189-HBVRW    1\n",
      "             ..\n",
      "6736-DHUQI    1\n",
      "7777-UNYHB    1\n",
      "2923-ARZLG    1\n",
      "8063-GBATB    1\n",
      "1702-CCFNJ    1\n",
      "Name: customer_id, Length: 7043, dtype: int64\n",
      "\n",
      "end_date:\n",
      "No                     5174\n",
      "2019-11-01 00:00:00     485\n",
      "2019-12-01 00:00:00     466\n",
      "2020-01-01 00:00:00     460\n",
      "2019-10-01 00:00:00     458\n",
      "Name: end_date, dtype: int64\n",
      "\n",
      "type:\n",
      "Month-to-month    3875\n",
      "Two year          1695\n",
      "One year          1473\n",
      "Name: type, dtype: int64\n",
      "\n",
      "paperless_billing:\n",
      "Yes    4171\n",
      "No     2872\n",
      "Name: paperless_billing, dtype: int64\n",
      "\n",
      "payment_method:\n",
      "Electronic check             2365\n",
      "Mailed check                 1612\n",
      "Bank transfer (automatic)    1544\n",
      "Credit card (automatic)      1522\n",
      "Name: payment_method, dtype: int64\n"
     ]
    }
   ],
   "source": [
    "for col in df_contract.select_dtypes(include='object').columns:\n",
    "    print(f\"\\n{col}:\")\n",
    "    print(df_contract[col].value_counts())"
   ]
  },
  {
   "cell_type": "markdown",
   "metadata": {},
   "source": [
    "Em temoria, podemos transformar papperless_billing. Mas isso gerou um problema, já que o método criou NaN. Um value_counts() Não retornou valores estranhos, então deve ser espaços extras que o map não processa. Vamos limpar esses espaços, fazer o mapeamento e verificar os ausentes. Retornando zerado, nós podemos converter para bool."
   ]
  },
  {
   "cell_type": "code",
   "execution_count": 14,
   "metadata": {},
   "outputs": [],
   "source": [
    "df_contract['paperless_billing'] = df_contract['paperless_billing'].str.strip()\n",
    "df_contract['paperless_billing'] = df_contract['paperless_billing'].map({'Yes': 1, 'No': 0})"
   ]
  },
  {
   "cell_type": "code",
   "execution_count": 15,
   "metadata": {},
   "outputs": [
    {
     "data": {
      "text/plain": [
       "0"
      ]
     },
     "execution_count": 15,
     "metadata": {},
     "output_type": "execute_result"
    }
   ],
   "source": [
    "df_contract['paperless_billing'].isna().sum()"
   ]
  },
  {
   "cell_type": "code",
   "execution_count": 16,
   "metadata": {},
   "outputs": [],
   "source": [
    "df_contract['paperless_billing'] = df_contract['paperless_billing'].astype(bool)"
   ]
  },
  {
   "cell_type": "markdown",
   "metadata": {},
   "source": [
    "##### Criando o Target"
   ]
  },
  {
   "cell_type": "code",
   "execution_count": 17,
   "metadata": {},
   "outputs": [
    {
     "data": {
      "text/html": [
       "<div>\n",
       "<style scoped>\n",
       "    .dataframe tbody tr th:only-of-type {\n",
       "        vertical-align: middle;\n",
       "    }\n",
       "\n",
       "    .dataframe tbody tr th {\n",
       "        vertical-align: top;\n",
       "    }\n",
       "\n",
       "    .dataframe thead th {\n",
       "        text-align: right;\n",
       "    }\n",
       "</style>\n",
       "<table border=\"1\" class=\"dataframe\">\n",
       "  <thead>\n",
       "    <tr style=\"text-align: right;\">\n",
       "      <th></th>\n",
       "      <th>customer_id</th>\n",
       "      <th>begin_date</th>\n",
       "      <th>is_client</th>\n",
       "      <th>time_of_contract_years</th>\n",
       "      <th>type</th>\n",
       "      <th>paperless_billing</th>\n",
       "      <th>payment_method</th>\n",
       "      <th>monthly_charges</th>\n",
       "      <th>total_charges</th>\n",
       "    </tr>\n",
       "  </thead>\n",
       "  <tbody>\n",
       "    <tr>\n",
       "      <th>0</th>\n",
       "      <td>7590-VHVEG</td>\n",
       "      <td>2020-01-01</td>\n",
       "      <td>1</td>\n",
       "      <td>0.08</td>\n",
       "      <td>Month-to-month</td>\n",
       "      <td>True</td>\n",
       "      <td>Electronic check</td>\n",
       "      <td>29.85</td>\n",
       "      <td>29.85</td>\n",
       "    </tr>\n",
       "    <tr>\n",
       "      <th>1</th>\n",
       "      <td>5575-GNVDE</td>\n",
       "      <td>2017-04-01</td>\n",
       "      <td>1</td>\n",
       "      <td>2.84</td>\n",
       "      <td>One year</td>\n",
       "      <td>False</td>\n",
       "      <td>Mailed check</td>\n",
       "      <td>56.95</td>\n",
       "      <td>1889.50</td>\n",
       "    </tr>\n",
       "    <tr>\n",
       "      <th>2</th>\n",
       "      <td>3668-QPYBK</td>\n",
       "      <td>2019-10-01</td>\n",
       "      <td>0</td>\n",
       "      <td>0.17</td>\n",
       "      <td>Month-to-month</td>\n",
       "      <td>True</td>\n",
       "      <td>Mailed check</td>\n",
       "      <td>53.85</td>\n",
       "      <td>108.15</td>\n",
       "    </tr>\n",
       "    <tr>\n",
       "      <th>3</th>\n",
       "      <td>7795-CFOCW</td>\n",
       "      <td>2016-05-01</td>\n",
       "      <td>1</td>\n",
       "      <td>3.76</td>\n",
       "      <td>One year</td>\n",
       "      <td>False</td>\n",
       "      <td>Bank transfer (automatic)</td>\n",
       "      <td>42.30</td>\n",
       "      <td>1840.75</td>\n",
       "    </tr>\n",
       "    <tr>\n",
       "      <th>4</th>\n",
       "      <td>9237-HQITU</td>\n",
       "      <td>2019-09-01</td>\n",
       "      <td>0</td>\n",
       "      <td>0.17</td>\n",
       "      <td>Month-to-month</td>\n",
       "      <td>True</td>\n",
       "      <td>Electronic check</td>\n",
       "      <td>70.70</td>\n",
       "      <td>151.65</td>\n",
       "    </tr>\n",
       "  </tbody>\n",
       "</table>\n",
       "</div>"
      ],
      "text/plain": [
       "  customer_id begin_date  is_client  time_of_contract_years            type  \\\n",
       "0  7590-VHVEG 2020-01-01          1                    0.08  Month-to-month   \n",
       "1  5575-GNVDE 2017-04-01          1                    2.84        One year   \n",
       "2  3668-QPYBK 2019-10-01          0                    0.17  Month-to-month   \n",
       "3  7795-CFOCW 2016-05-01          1                    3.76        One year   \n",
       "4  9237-HQITU 2019-09-01          0                    0.17  Month-to-month   \n",
       "\n",
       "   paperless_billing             payment_method  monthly_charges  \\\n",
       "0               True           Electronic check            29.85   \n",
       "1              False               Mailed check            56.95   \n",
       "2               True               Mailed check            53.85   \n",
       "3              False  Bank transfer (automatic)            42.30   \n",
       "4               True           Electronic check            70.70   \n",
       "\n",
       "   total_charges  \n",
       "0          29.85  \n",
       "1        1889.50  \n",
       "2         108.15  \n",
       "3        1840.75  \n",
       "4         151.65  "
      ]
     },
     "execution_count": 17,
     "metadata": {},
     "output_type": "execute_result"
    }
   ],
   "source": [
    "reference_date = pd.to_datetime('2020-02-01')\n",
    "\n",
    "df_contract['end_date_clean'] = pd.to_datetime(\n",
    "    df_contract['end_date'].replace('No', reference_date)\n",
    ")\n",
    "\n",
    "df_contract['time_of_contract_years'] = (\n",
    "    (df_contract['end_date_clean'] - df_contract['begin_date']).dt.days / 365\n",
    ").round(2)\n",
    "\n",
    "df_contract['is_client'] = (df_contract['end_date'] == 'No').astype(int)\n",
    "\n",
    "df_contract.drop(columns=['end_date', 'end_date_clean'], inplace=True)\n",
    "\n",
    "cols = df_contract.columns.tolist()\n",
    "cols.remove('is_client')\n",
    "cols.remove('time_of_contract_years')\n",
    "insert_at = cols.index('begin_date') + 1\n",
    "cols = (\n",
    "    cols[:insert_at]\n",
    "    + ['is_client', 'time_of_contract_years']\n",
    "    + cols[insert_at:]\n",
    ")\n",
    "df_contract = df_contract[cols]\n",
    "\n",
    "df_contract.head()"
   ]
  },
  {
   "cell_type": "code",
   "execution_count": 18,
   "metadata": {},
   "outputs": [
    {
     "data": {
      "text/plain": [
       "1    0.73463\n",
       "0    0.26537\n",
       "Name: is_client, dtype: float64"
      ]
     },
     "execution_count": 18,
     "metadata": {},
     "output_type": "execute_result"
    }
   ],
   "source": [
    "df_contract['is_client'].value_counts(normalize=True)"
   ]
  },
  {
   "cell_type": "markdown",
   "metadata": {},
   "source": [
    "Criamos a nossa coluna target e já podemos atentar para o fato de que há um desequilíbrio nos dados. Lidaremos com isso mais pra frente. Esse código todo cria a nossa coluna target que eu chamei de \"is_client\", retornando 1 para sim e 0 para não. Exclui a coluna de final de contrato, porque, da forma como está, ela não é relevante, mas preserva a informação de quanto tempo de contrato cada cliente teve/tem, o que será uma informação valiosa para nossos modelos, com certeza. Toda essa alteração é necessária, porque tínhamos que prever um \"no\" de uma coluna object como targget. Alguns modelos podem lidar bem com variáveis categóricas como target, mas a mudança vai ajudar modelos como a regressão logística. Assim garantimos que não há perda de informação, que mesmo um humano visualiza e entende as informações e que nossos modelos vão tirarar as melhores conclusões"
   ]
  },
  {
   "cell_type": "code",
   "execution_count": 19,
   "metadata": {},
   "outputs": [
    {
     "data": {
      "text/plain": [
       "customer_id               0\n",
       "begin_date                0\n",
       "is_client                 0\n",
       "time_of_contract_years    0\n",
       "type                      0\n",
       "paperless_billing         0\n",
       "payment_method            0\n",
       "monthly_charges           0\n",
       "total_charges             0\n",
       "dtype: int64"
      ]
     },
     "execution_count": 19,
     "metadata": {},
     "output_type": "execute_result"
    }
   ],
   "source": [
    "df_contract.isna().sum()"
   ]
  },
  {
   "cell_type": "markdown",
   "metadata": {},
   "source": [
    "Sem mais nenhum valor ausente, nosso trabalho com essa tabela está pronto. podemos nos virar para as próxias tabelas. "
   ]
  },
  {
   "cell_type": "markdown",
   "metadata": {},
   "source": [
    "#### df_personal"
   ]
  },
  {
   "cell_type": "code",
   "execution_count": 20,
   "metadata": {},
   "outputs": [],
   "source": [
    "df_personal.columns = [camel_to_snake(col) for col in df_personal.columns]"
   ]
  },
  {
   "cell_type": "code",
   "execution_count": 21,
   "metadata": {},
   "outputs": [
    {
     "name": "stdout",
     "output_type": "stream",
     "text": [
      "\n",
      "customer_id:\n",
      "8818-DOPVL    1\n",
      "5067-XJQFU    1\n",
      "1567-DSCIC    1\n",
      "8220-OCUFY    1\n",
      "8189-HBVRW    1\n",
      "             ..\n",
      "6736-DHUQI    1\n",
      "7777-UNYHB    1\n",
      "2923-ARZLG    1\n",
      "8063-GBATB    1\n",
      "1702-CCFNJ    1\n",
      "Name: customer_id, Length: 7043, dtype: int64\n",
      "\n",
      "gender:\n",
      "Male      3555\n",
      "Female    3488\n",
      "Name: gender, dtype: int64\n",
      "\n",
      "partner:\n",
      "No     3641\n",
      "Yes    3402\n",
      "Name: partner, dtype: int64\n",
      "\n",
      "dependents:\n",
      "No     4933\n",
      "Yes    2110\n",
      "Name: dependents, dtype: int64\n"
     ]
    }
   ],
   "source": [
    "for col in df_personal.select_dtypes(include='object').columns:\n",
    "    print(f\"\\n{col}:\")\n",
    "    print(df_personal[col].value_counts())"
   ]
  },
  {
   "cell_type": "code",
   "execution_count": 22,
   "metadata": {},
   "outputs": [],
   "source": [
    "df_personal['gender'] = df_personal['gender'].str.strip().map({'Male': 1, 'Female': 0}).astype(int)\n",
    "df_personal['partner'] = df_personal['partner'].str.strip().map({'Yes': 1, 'No': 0}).astype(bool)\n",
    "df_personal['dependents'] = df_personal['dependents'].str.strip().map({'Yes': 1, 'No': 0}).astype(bool)"
   ]
  },
  {
   "cell_type": "code",
   "execution_count": 23,
   "metadata": {},
   "outputs": [
    {
     "name": "stdout",
     "output_type": "stream",
     "text": [
      "<class 'pandas.core.frame.DataFrame'>\n",
      "RangeIndex: 7043 entries, 0 to 7042\n",
      "Data columns (total 5 columns):\n",
      " #   Column          Non-Null Count  Dtype \n",
      "---  ------          --------------  ----- \n",
      " 0   customer_id     7043 non-null   object\n",
      " 1   gender          7043 non-null   int64 \n",
      " 2   senior_citizen  7043 non-null   int64 \n",
      " 3   partner         7043 non-null   bool  \n",
      " 4   dependents      7043 non-null   bool  \n",
      "dtypes: bool(2), int64(2), object(1)\n",
      "memory usage: 179.0+ KB\n"
     ]
    }
   ],
   "source": [
    "df_personal.info()"
   ]
  },
  {
   "cell_type": "code",
   "execution_count": 24,
   "metadata": {},
   "outputs": [
    {
     "data": {
      "text/html": [
       "<div>\n",
       "<style scoped>\n",
       "    .dataframe tbody tr th:only-of-type {\n",
       "        vertical-align: middle;\n",
       "    }\n",
       "\n",
       "    .dataframe tbody tr th {\n",
       "        vertical-align: top;\n",
       "    }\n",
       "\n",
       "    .dataframe thead th {\n",
       "        text-align: right;\n",
       "    }\n",
       "</style>\n",
       "<table border=\"1\" class=\"dataframe\">\n",
       "  <thead>\n",
       "    <tr style=\"text-align: right;\">\n",
       "      <th></th>\n",
       "      <th>customer_id</th>\n",
       "      <th>gender</th>\n",
       "      <th>senior_citizen</th>\n",
       "      <th>partner</th>\n",
       "      <th>dependents</th>\n",
       "    </tr>\n",
       "  </thead>\n",
       "  <tbody>\n",
       "    <tr>\n",
       "      <th>0</th>\n",
       "      <td>7590-VHVEG</td>\n",
       "      <td>0</td>\n",
       "      <td>0</td>\n",
       "      <td>True</td>\n",
       "      <td>False</td>\n",
       "    </tr>\n",
       "    <tr>\n",
       "      <th>1</th>\n",
       "      <td>5575-GNVDE</td>\n",
       "      <td>1</td>\n",
       "      <td>0</td>\n",
       "      <td>False</td>\n",
       "      <td>False</td>\n",
       "    </tr>\n",
       "    <tr>\n",
       "      <th>2</th>\n",
       "      <td>3668-QPYBK</td>\n",
       "      <td>1</td>\n",
       "      <td>0</td>\n",
       "      <td>False</td>\n",
       "      <td>False</td>\n",
       "    </tr>\n",
       "    <tr>\n",
       "      <th>3</th>\n",
       "      <td>7795-CFOCW</td>\n",
       "      <td>1</td>\n",
       "      <td>0</td>\n",
       "      <td>False</td>\n",
       "      <td>False</td>\n",
       "    </tr>\n",
       "    <tr>\n",
       "      <th>4</th>\n",
       "      <td>9237-HQITU</td>\n",
       "      <td>0</td>\n",
       "      <td>0</td>\n",
       "      <td>False</td>\n",
       "      <td>False</td>\n",
       "    </tr>\n",
       "  </tbody>\n",
       "</table>\n",
       "</div>"
      ],
      "text/plain": [
       "  customer_id  gender  senior_citizen  partner  dependents\n",
       "0  7590-VHVEG       0               0     True       False\n",
       "1  5575-GNVDE       1               0    False       False\n",
       "2  3668-QPYBK       1               0    False       False\n",
       "3  7795-CFOCW       1               0    False       False\n",
       "4  9237-HQITU       0               0    False       False"
      ]
     },
     "execution_count": 24,
     "metadata": {},
     "output_type": "execute_result"
    }
   ],
   "source": [
    "df_personal.head()"
   ]
  },
  {
   "cell_type": "markdown",
   "metadata": {},
   "source": [
    "Não haviam dados ausentes para nos preocupar e tudo que precisamos verificar era a mudança de tipos de dados da tabela. Assim, nossos modelos poderão lidar com todas as colunas. Aqui, todas tinham respostas binárias, que foram substituídas por 0 ou 1/Tru ou False. \n",
    "\n",
    "ATENÇÃO:\n",
    "df_personal['gender'] = male = 1, female 0"
   ]
  },
  {
   "cell_type": "markdown",
   "metadata": {},
   "source": [
    "#### df_internet"
   ]
  },
  {
   "cell_type": "markdown",
   "metadata": {},
   "source": [
    "Aqui, repetimos o processo. Temos apenas respostas binárias para todas as variáveis. Transformaremos tudo em 0 ou 1 para evitar OHE. Essa coluna é menor, o que criará valores faltantes quando fizermos o merge, mas tomaremos o cuidado de preenche-los com 0, representando false, que, seguindo a lógica até aqui, resolve nosso problema."
   ]
  },
  {
   "cell_type": "code",
   "execution_count": 25,
   "metadata": {},
   "outputs": [],
   "source": [
    "df_internet.columns = [camel_to_snake(col) for col in df_internet.columns]"
   ]
  },
  {
   "cell_type": "code",
   "execution_count": 26,
   "metadata": {},
   "outputs": [
    {
     "name": "stdout",
     "output_type": "stream",
     "text": [
      "\n",
      "customer_id:\n",
      "8818-DOPVL    1\n",
      "1833-VGRUM    1\n",
      "5312-IRCFR    1\n",
      "9903-LYSAB    1\n",
      "7439-DKZTW    1\n",
      "             ..\n",
      "8313-NDOIA    1\n",
      "7233-PAHHL    1\n",
      "5599-HVLTW    1\n",
      "9269-CQOOL    1\n",
      "1702-CCFNJ    1\n",
      "Name: customer_id, Length: 5517, dtype: int64\n",
      "\n",
      "internet_service:\n",
      "Fiber optic    3096\n",
      "DSL            2421\n",
      "Name: internet_service, dtype: int64\n",
      "\n",
      "online_security:\n",
      "No     3498\n",
      "Yes    2019\n",
      "Name: online_security, dtype: int64\n",
      "\n",
      "online_backup:\n",
      "No     3088\n",
      "Yes    2429\n",
      "Name: online_backup, dtype: int64\n",
      "\n",
      "device_protection:\n",
      "No     3095\n",
      "Yes    2422\n",
      "Name: device_protection, dtype: int64\n",
      "\n",
      "tech_support:\n",
      "No     3473\n",
      "Yes    2044\n",
      "Name: tech_support, dtype: int64\n",
      "\n",
      "streaming_tv:\n",
      "No     2810\n",
      "Yes    2707\n",
      "Name: streaming_tv, dtype: int64\n",
      "\n",
      "streaming_movies:\n",
      "No     2785\n",
      "Yes    2732\n",
      "Name: streaming_movies, dtype: int64\n"
     ]
    }
   ],
   "source": [
    "for col in df_internet.select_dtypes(include='object').columns:\n",
    "    print(f\"\\n{col}:\")\n",
    "    print(df_internet[col].value_counts(dropna=False))"
   ]
  },
  {
   "cell_type": "code",
   "execution_count": 27,
   "metadata": {},
   "outputs": [],
   "source": [
    "df_internet['internet_service'] = df_internet['internet_service'].str.strip().map({'Fiber optic': 1, 'DSL': 0}).astype(int)\n",
    "\n",
    "binary_cols = [\n",
    "    'online_security', 'online_backup', 'device_protection',\n",
    "    'tech_support', 'streaming_tv', 'streaming_movies'\n",
    "]\n",
    "\n",
    "for col in binary_cols:\n",
    "    df_internet[col] = df_internet[col].str.strip().map({'Yes': 1, 'No': 0}).astype(int)"
   ]
  },
  {
   "cell_type": "code",
   "execution_count": 28,
   "metadata": {},
   "outputs": [
    {
     "name": "stdout",
     "output_type": "stream",
     "text": [
      "<class 'pandas.core.frame.DataFrame'>\n",
      "RangeIndex: 5517 entries, 0 to 5516\n",
      "Data columns (total 8 columns):\n",
      " #   Column             Non-Null Count  Dtype \n",
      "---  ------             --------------  ----- \n",
      " 0   customer_id        5517 non-null   object\n",
      " 1   internet_service   5517 non-null   int64 \n",
      " 2   online_security    5517 non-null   int64 \n",
      " 3   online_backup      5517 non-null   int64 \n",
      " 4   device_protection  5517 non-null   int64 \n",
      " 5   tech_support       5517 non-null   int64 \n",
      " 6   streaming_tv       5517 non-null   int64 \n",
      " 7   streaming_movies   5517 non-null   int64 \n",
      "dtypes: int64(7), object(1)\n",
      "memory usage: 344.9+ KB\n"
     ]
    }
   ],
   "source": [
    "df_internet.info()"
   ]
  },
  {
   "cell_type": "markdown",
   "metadata": {},
   "source": [
    "#### df_phone"
   ]
  },
  {
   "cell_type": "code",
   "execution_count": 29,
   "metadata": {},
   "outputs": [],
   "source": [
    "df_phone.columns = [camel_to_snake(col) for col in df_phone.columns]"
   ]
  },
  {
   "cell_type": "code",
   "execution_count": 30,
   "metadata": {},
   "outputs": [
    {
     "name": "stdout",
     "output_type": "stream",
     "text": [
      "\n",
      "customer_id:\n",
      "8818-DOPVL    1\n",
      "3976-HXHCE    1\n",
      "3392-EHMNK    1\n",
      "5515-AKOAJ    1\n",
      "1178-PZGAB    1\n",
      "             ..\n",
      "9931-DCEZH    1\n",
      "9600-UDOPK    1\n",
      "1038-RQOST    1\n",
      "5201-FRKKS    1\n",
      "1702-CCFNJ    1\n",
      "Name: customer_id, Length: 6361, dtype: int64\n",
      "\n",
      "multiple_lines:\n",
      "No     3390\n",
      "Yes    2971\n",
      "Name: multiple_lines, dtype: int64\n"
     ]
    }
   ],
   "source": [
    "for col in df_phone.select_dtypes(include='object').columns:\n",
    "    print(f\"\\n{col}:\")\n",
    "    print(df_phone[col].value_counts(dropna=False))"
   ]
  },
  {
   "cell_type": "code",
   "execution_count": 31,
   "metadata": {},
   "outputs": [],
   "source": [
    "df_phone['multiple_lines'] = df_phone['multiple_lines'].str.strip().map({'Yes': 1, 'No': 0}).astype(bool)"
   ]
  },
  {
   "cell_type": "code",
   "execution_count": 32,
   "metadata": {},
   "outputs": [
    {
     "name": "stdout",
     "output_type": "stream",
     "text": [
      "<class 'pandas.core.frame.DataFrame'>\n",
      "RangeIndex: 6361 entries, 0 to 6360\n",
      "Data columns (total 2 columns):\n",
      " #   Column          Non-Null Count  Dtype \n",
      "---  ------          --------------  ----- \n",
      " 0   customer_id     6361 non-null   object\n",
      " 1   multiple_lines  6361 non-null   bool  \n",
      "dtypes: bool(1), object(1)\n",
      "memory usage: 56.0+ KB\n"
     ]
    }
   ],
   "source": [
    "df.info()"
   ]
  },
  {
   "cell_type": "markdown",
   "metadata": {},
   "source": [
    "A mesma lógica foi aplicada aqui. Nada mais a acrescentar. Vamos criar o dataframe final"
   ]
  },
  {
   "cell_type": "markdown",
   "metadata": {},
   "source": [
    "#### Criando o master_df"
   ]
  },
  {
   "cell_type": "code",
   "execution_count": 33,
   "metadata": {},
   "outputs": [],
   "source": [
    "master_df = df_contract.merge(df_personal, on='customer_id', how='left')\n",
    "\n",
    "master_df = master_df.merge(df_internet, on='customer_id', how='left')\n",
    "\n",
    "master_df = master_df.merge(df_phone, on='customer_id', how='left')\n",
    "\n",
    "master_df.fillna(0, inplace=True)"
   ]
  },
  {
   "cell_type": "code",
   "execution_count": 34,
   "metadata": {},
   "outputs": [
    {
     "data": {
      "text/html": [
       "<div>\n",
       "<style scoped>\n",
       "    .dataframe tbody tr th:only-of-type {\n",
       "        vertical-align: middle;\n",
       "    }\n",
       "\n",
       "    .dataframe tbody tr th {\n",
       "        vertical-align: top;\n",
       "    }\n",
       "\n",
       "    .dataframe thead th {\n",
       "        text-align: right;\n",
       "    }\n",
       "</style>\n",
       "<table border=\"1\" class=\"dataframe\">\n",
       "  <thead>\n",
       "    <tr style=\"text-align: right;\">\n",
       "      <th></th>\n",
       "      <th>customer_id</th>\n",
       "      <th>begin_date</th>\n",
       "      <th>is_client</th>\n",
       "      <th>time_of_contract_years</th>\n",
       "      <th>type</th>\n",
       "      <th>paperless_billing</th>\n",
       "      <th>payment_method</th>\n",
       "      <th>monthly_charges</th>\n",
       "      <th>total_charges</th>\n",
       "      <th>gender</th>\n",
       "      <th>...</th>\n",
       "      <th>partner</th>\n",
       "      <th>dependents</th>\n",
       "      <th>internet_service</th>\n",
       "      <th>online_security</th>\n",
       "      <th>online_backup</th>\n",
       "      <th>device_protection</th>\n",
       "      <th>tech_support</th>\n",
       "      <th>streaming_tv</th>\n",
       "      <th>streaming_movies</th>\n",
       "      <th>multiple_lines</th>\n",
       "    </tr>\n",
       "  </thead>\n",
       "  <tbody>\n",
       "    <tr>\n",
       "      <th>0</th>\n",
       "      <td>7590-VHVEG</td>\n",
       "      <td>2020-01-01</td>\n",
       "      <td>1</td>\n",
       "      <td>0.08</td>\n",
       "      <td>Month-to-month</td>\n",
       "      <td>True</td>\n",
       "      <td>Electronic check</td>\n",
       "      <td>29.85</td>\n",
       "      <td>29.85</td>\n",
       "      <td>0</td>\n",
       "      <td>...</td>\n",
       "      <td>True</td>\n",
       "      <td>False</td>\n",
       "      <td>0.0</td>\n",
       "      <td>0.0</td>\n",
       "      <td>1.0</td>\n",
       "      <td>0.0</td>\n",
       "      <td>0.0</td>\n",
       "      <td>0.0</td>\n",
       "      <td>0.0</td>\n",
       "      <td>0</td>\n",
       "    </tr>\n",
       "    <tr>\n",
       "      <th>1</th>\n",
       "      <td>5575-GNVDE</td>\n",
       "      <td>2017-04-01</td>\n",
       "      <td>1</td>\n",
       "      <td>2.84</td>\n",
       "      <td>One year</td>\n",
       "      <td>False</td>\n",
       "      <td>Mailed check</td>\n",
       "      <td>56.95</td>\n",
       "      <td>1889.50</td>\n",
       "      <td>1</td>\n",
       "      <td>...</td>\n",
       "      <td>False</td>\n",
       "      <td>False</td>\n",
       "      <td>0.0</td>\n",
       "      <td>1.0</td>\n",
       "      <td>0.0</td>\n",
       "      <td>1.0</td>\n",
       "      <td>0.0</td>\n",
       "      <td>0.0</td>\n",
       "      <td>0.0</td>\n",
       "      <td>False</td>\n",
       "    </tr>\n",
       "    <tr>\n",
       "      <th>2</th>\n",
       "      <td>3668-QPYBK</td>\n",
       "      <td>2019-10-01</td>\n",
       "      <td>0</td>\n",
       "      <td>0.17</td>\n",
       "      <td>Month-to-month</td>\n",
       "      <td>True</td>\n",
       "      <td>Mailed check</td>\n",
       "      <td>53.85</td>\n",
       "      <td>108.15</td>\n",
       "      <td>1</td>\n",
       "      <td>...</td>\n",
       "      <td>False</td>\n",
       "      <td>False</td>\n",
       "      <td>0.0</td>\n",
       "      <td>1.0</td>\n",
       "      <td>1.0</td>\n",
       "      <td>0.0</td>\n",
       "      <td>0.0</td>\n",
       "      <td>0.0</td>\n",
       "      <td>0.0</td>\n",
       "      <td>False</td>\n",
       "    </tr>\n",
       "    <tr>\n",
       "      <th>3</th>\n",
       "      <td>7795-CFOCW</td>\n",
       "      <td>2016-05-01</td>\n",
       "      <td>1</td>\n",
       "      <td>3.76</td>\n",
       "      <td>One year</td>\n",
       "      <td>False</td>\n",
       "      <td>Bank transfer (automatic)</td>\n",
       "      <td>42.30</td>\n",
       "      <td>1840.75</td>\n",
       "      <td>1</td>\n",
       "      <td>...</td>\n",
       "      <td>False</td>\n",
       "      <td>False</td>\n",
       "      <td>0.0</td>\n",
       "      <td>1.0</td>\n",
       "      <td>0.0</td>\n",
       "      <td>1.0</td>\n",
       "      <td>1.0</td>\n",
       "      <td>0.0</td>\n",
       "      <td>0.0</td>\n",
       "      <td>0</td>\n",
       "    </tr>\n",
       "    <tr>\n",
       "      <th>4</th>\n",
       "      <td>9237-HQITU</td>\n",
       "      <td>2019-09-01</td>\n",
       "      <td>0</td>\n",
       "      <td>0.17</td>\n",
       "      <td>Month-to-month</td>\n",
       "      <td>True</td>\n",
       "      <td>Electronic check</td>\n",
       "      <td>70.70</td>\n",
       "      <td>151.65</td>\n",
       "      <td>0</td>\n",
       "      <td>...</td>\n",
       "      <td>False</td>\n",
       "      <td>False</td>\n",
       "      <td>1.0</td>\n",
       "      <td>0.0</td>\n",
       "      <td>0.0</td>\n",
       "      <td>0.0</td>\n",
       "      <td>0.0</td>\n",
       "      <td>0.0</td>\n",
       "      <td>0.0</td>\n",
       "      <td>False</td>\n",
       "    </tr>\n",
       "  </tbody>\n",
       "</table>\n",
       "<p>5 rows × 21 columns</p>\n",
       "</div>"
      ],
      "text/plain": [
       "  customer_id begin_date  is_client  time_of_contract_years            type  \\\n",
       "0  7590-VHVEG 2020-01-01          1                    0.08  Month-to-month   \n",
       "1  5575-GNVDE 2017-04-01          1                    2.84        One year   \n",
       "2  3668-QPYBK 2019-10-01          0                    0.17  Month-to-month   \n",
       "3  7795-CFOCW 2016-05-01          1                    3.76        One year   \n",
       "4  9237-HQITU 2019-09-01          0                    0.17  Month-to-month   \n",
       "\n",
       "   paperless_billing             payment_method  monthly_charges  \\\n",
       "0               True           Electronic check            29.85   \n",
       "1              False               Mailed check            56.95   \n",
       "2               True               Mailed check            53.85   \n",
       "3              False  Bank transfer (automatic)            42.30   \n",
       "4               True           Electronic check            70.70   \n",
       "\n",
       "   total_charges  gender  ...  partner  dependents  internet_service  \\\n",
       "0          29.85       0  ...     True       False               0.0   \n",
       "1        1889.50       1  ...    False       False               0.0   \n",
       "2         108.15       1  ...    False       False               0.0   \n",
       "3        1840.75       1  ...    False       False               0.0   \n",
       "4         151.65       0  ...    False       False               1.0   \n",
       "\n",
       "   online_security  online_backup  device_protection  tech_support  \\\n",
       "0              0.0            1.0                0.0           0.0   \n",
       "1              1.0            0.0                1.0           0.0   \n",
       "2              1.0            1.0                0.0           0.0   \n",
       "3              1.0            0.0                1.0           1.0   \n",
       "4              0.0            0.0                0.0           0.0   \n",
       "\n",
       "   streaming_tv  streaming_movies  multiple_lines  \n",
       "0           0.0               0.0               0  \n",
       "1           0.0               0.0           False  \n",
       "2           0.0               0.0           False  \n",
       "3           0.0               0.0               0  \n",
       "4           0.0               0.0           False  \n",
       "\n",
       "[5 rows x 21 columns]"
      ]
     },
     "execution_count": 34,
     "metadata": {},
     "output_type": "execute_result"
    }
   ],
   "source": [
    "master_df.head()"
   ]
  },
  {
   "cell_type": "code",
   "execution_count": 35,
   "metadata": {},
   "outputs": [
    {
     "name": "stdout",
     "output_type": "stream",
     "text": [
      "<class 'pandas.core.frame.DataFrame'>\n",
      "Int64Index: 7043 entries, 0 to 7042\n",
      "Data columns (total 21 columns):\n",
      " #   Column                  Non-Null Count  Dtype         \n",
      "---  ------                  --------------  -----         \n",
      " 0   customer_id             7043 non-null   object        \n",
      " 1   begin_date              7043 non-null   datetime64[ns]\n",
      " 2   is_client               7043 non-null   int64         \n",
      " 3   time_of_contract_years  7043 non-null   float64       \n",
      " 4   type                    7043 non-null   object        \n",
      " 5   paperless_billing       7043 non-null   bool          \n",
      " 6   payment_method          7043 non-null   object        \n",
      " 7   monthly_charges         7043 non-null   float64       \n",
      " 8   total_charges           7043 non-null   float64       \n",
      " 9   gender                  7043 non-null   int64         \n",
      " 10  senior_citizen          7043 non-null   int64         \n",
      " 11  partner                 7043 non-null   bool          \n",
      " 12  dependents              7043 non-null   bool          \n",
      " 13  internet_service        7043 non-null   float64       \n",
      " 14  online_security         7043 non-null   float64       \n",
      " 15  online_backup           7043 non-null   float64       \n",
      " 16  device_protection       7043 non-null   float64       \n",
      " 17  tech_support            7043 non-null   float64       \n",
      " 18  streaming_tv            7043 non-null   float64       \n",
      " 19  streaming_movies        7043 non-null   float64       \n",
      " 20  multiple_lines          7043 non-null   object        \n",
      "dtypes: bool(3), datetime64[ns](1), float64(10), int64(3), object(4)\n",
      "memory usage: 1.0+ MB\n"
     ]
    }
   ],
   "source": [
    "master_df.info()"
   ]
  },
  {
   "cell_type": "code",
   "execution_count": 36,
   "metadata": {},
   "outputs": [],
   "source": [
    "master_df['multiple_lines'] = master_df['multiple_lines'].astype(int)"
   ]
  },
  {
   "cell_type": "code",
   "execution_count": 37,
   "metadata": {},
   "outputs": [
    {
     "data": {
      "text/html": [
       "<div>\n",
       "<style scoped>\n",
       "    .dataframe tbody tr th:only-of-type {\n",
       "        vertical-align: middle;\n",
       "    }\n",
       "\n",
       "    .dataframe tbody tr th {\n",
       "        vertical-align: top;\n",
       "    }\n",
       "\n",
       "    .dataframe thead th {\n",
       "        text-align: right;\n",
       "    }\n",
       "</style>\n",
       "<table border=\"1\" class=\"dataframe\">\n",
       "  <thead>\n",
       "    <tr style=\"text-align: right;\">\n",
       "      <th></th>\n",
       "      <th>customer_id</th>\n",
       "      <th>begin_date</th>\n",
       "      <th>is_client</th>\n",
       "      <th>time_of_contract_years</th>\n",
       "      <th>type</th>\n",
       "      <th>paperless_billing</th>\n",
       "      <th>payment_method</th>\n",
       "      <th>monthly_charges</th>\n",
       "      <th>total_charges</th>\n",
       "      <th>gender</th>\n",
       "      <th>...</th>\n",
       "      <th>partner</th>\n",
       "      <th>dependents</th>\n",
       "      <th>internet_service</th>\n",
       "      <th>online_security</th>\n",
       "      <th>online_backup</th>\n",
       "      <th>device_protection</th>\n",
       "      <th>tech_support</th>\n",
       "      <th>streaming_tv</th>\n",
       "      <th>streaming_movies</th>\n",
       "      <th>multiple_lines</th>\n",
       "    </tr>\n",
       "  </thead>\n",
       "  <tbody>\n",
       "    <tr>\n",
       "      <th>0</th>\n",
       "      <td>7590-VHVEG</td>\n",
       "      <td>2020-01-01</td>\n",
       "      <td>1</td>\n",
       "      <td>0.08</td>\n",
       "      <td>Month-to-month</td>\n",
       "      <td>True</td>\n",
       "      <td>Electronic check</td>\n",
       "      <td>29.85</td>\n",
       "      <td>29.85</td>\n",
       "      <td>0</td>\n",
       "      <td>...</td>\n",
       "      <td>True</td>\n",
       "      <td>False</td>\n",
       "      <td>0.0</td>\n",
       "      <td>0.0</td>\n",
       "      <td>1.0</td>\n",
       "      <td>0.0</td>\n",
       "      <td>0.0</td>\n",
       "      <td>0.0</td>\n",
       "      <td>0.0</td>\n",
       "      <td>0</td>\n",
       "    </tr>\n",
       "    <tr>\n",
       "      <th>1</th>\n",
       "      <td>5575-GNVDE</td>\n",
       "      <td>2017-04-01</td>\n",
       "      <td>1</td>\n",
       "      <td>2.84</td>\n",
       "      <td>One year</td>\n",
       "      <td>False</td>\n",
       "      <td>Mailed check</td>\n",
       "      <td>56.95</td>\n",
       "      <td>1889.50</td>\n",
       "      <td>1</td>\n",
       "      <td>...</td>\n",
       "      <td>False</td>\n",
       "      <td>False</td>\n",
       "      <td>0.0</td>\n",
       "      <td>1.0</td>\n",
       "      <td>0.0</td>\n",
       "      <td>1.0</td>\n",
       "      <td>0.0</td>\n",
       "      <td>0.0</td>\n",
       "      <td>0.0</td>\n",
       "      <td>0</td>\n",
       "    </tr>\n",
       "    <tr>\n",
       "      <th>2</th>\n",
       "      <td>3668-QPYBK</td>\n",
       "      <td>2019-10-01</td>\n",
       "      <td>0</td>\n",
       "      <td>0.17</td>\n",
       "      <td>Month-to-month</td>\n",
       "      <td>True</td>\n",
       "      <td>Mailed check</td>\n",
       "      <td>53.85</td>\n",
       "      <td>108.15</td>\n",
       "      <td>1</td>\n",
       "      <td>...</td>\n",
       "      <td>False</td>\n",
       "      <td>False</td>\n",
       "      <td>0.0</td>\n",
       "      <td>1.0</td>\n",
       "      <td>1.0</td>\n",
       "      <td>0.0</td>\n",
       "      <td>0.0</td>\n",
       "      <td>0.0</td>\n",
       "      <td>0.0</td>\n",
       "      <td>0</td>\n",
       "    </tr>\n",
       "    <tr>\n",
       "      <th>3</th>\n",
       "      <td>7795-CFOCW</td>\n",
       "      <td>2016-05-01</td>\n",
       "      <td>1</td>\n",
       "      <td>3.76</td>\n",
       "      <td>One year</td>\n",
       "      <td>False</td>\n",
       "      <td>Bank transfer (automatic)</td>\n",
       "      <td>42.30</td>\n",
       "      <td>1840.75</td>\n",
       "      <td>1</td>\n",
       "      <td>...</td>\n",
       "      <td>False</td>\n",
       "      <td>False</td>\n",
       "      <td>0.0</td>\n",
       "      <td>1.0</td>\n",
       "      <td>0.0</td>\n",
       "      <td>1.0</td>\n",
       "      <td>1.0</td>\n",
       "      <td>0.0</td>\n",
       "      <td>0.0</td>\n",
       "      <td>0</td>\n",
       "    </tr>\n",
       "    <tr>\n",
       "      <th>4</th>\n",
       "      <td>9237-HQITU</td>\n",
       "      <td>2019-09-01</td>\n",
       "      <td>0</td>\n",
       "      <td>0.17</td>\n",
       "      <td>Month-to-month</td>\n",
       "      <td>True</td>\n",
       "      <td>Electronic check</td>\n",
       "      <td>70.70</td>\n",
       "      <td>151.65</td>\n",
       "      <td>0</td>\n",
       "      <td>...</td>\n",
       "      <td>False</td>\n",
       "      <td>False</td>\n",
       "      <td>1.0</td>\n",
       "      <td>0.0</td>\n",
       "      <td>0.0</td>\n",
       "      <td>0.0</td>\n",
       "      <td>0.0</td>\n",
       "      <td>0.0</td>\n",
       "      <td>0.0</td>\n",
       "      <td>0</td>\n",
       "    </tr>\n",
       "  </tbody>\n",
       "</table>\n",
       "<p>5 rows × 21 columns</p>\n",
       "</div>"
      ],
      "text/plain": [
       "  customer_id begin_date  is_client  time_of_contract_years            type  \\\n",
       "0  7590-VHVEG 2020-01-01          1                    0.08  Month-to-month   \n",
       "1  5575-GNVDE 2017-04-01          1                    2.84        One year   \n",
       "2  3668-QPYBK 2019-10-01          0                    0.17  Month-to-month   \n",
       "3  7795-CFOCW 2016-05-01          1                    3.76        One year   \n",
       "4  9237-HQITU 2019-09-01          0                    0.17  Month-to-month   \n",
       "\n",
       "   paperless_billing             payment_method  monthly_charges  \\\n",
       "0               True           Electronic check            29.85   \n",
       "1              False               Mailed check            56.95   \n",
       "2               True               Mailed check            53.85   \n",
       "3              False  Bank transfer (automatic)            42.30   \n",
       "4               True           Electronic check            70.70   \n",
       "\n",
       "   total_charges  gender  ...  partner  dependents  internet_service  \\\n",
       "0          29.85       0  ...     True       False               0.0   \n",
       "1        1889.50       1  ...    False       False               0.0   \n",
       "2         108.15       1  ...    False       False               0.0   \n",
       "3        1840.75       1  ...    False       False               0.0   \n",
       "4         151.65       0  ...    False       False               1.0   \n",
       "\n",
       "   online_security  online_backup  device_protection  tech_support  \\\n",
       "0              0.0            1.0                0.0           0.0   \n",
       "1              1.0            0.0                1.0           0.0   \n",
       "2              1.0            1.0                0.0           0.0   \n",
       "3              1.0            0.0                1.0           1.0   \n",
       "4              0.0            0.0                0.0           0.0   \n",
       "\n",
       "   streaming_tv  streaming_movies  multiple_lines  \n",
       "0           0.0               0.0               0  \n",
       "1           0.0               0.0               0  \n",
       "2           0.0               0.0               0  \n",
       "3           0.0               0.0               0  \n",
       "4           0.0               0.0               0  \n",
       "\n",
       "[5 rows x 21 columns]"
      ]
     },
     "execution_count": 37,
     "metadata": {},
     "output_type": "execute_result"
    }
   ],
   "source": [
    "master_df.head()"
   ]
  },
  {
   "cell_type": "code",
   "execution_count": 38,
   "metadata": {},
   "outputs": [
    {
     "name": "stdout",
     "output_type": "stream",
     "text": [
      "<class 'pandas.core.frame.DataFrame'>\n",
      "Int64Index: 7043 entries, 0 to 7042\n",
      "Data columns (total 21 columns):\n",
      " #   Column                  Non-Null Count  Dtype         \n",
      "---  ------                  --------------  -----         \n",
      " 0   customer_id             7043 non-null   object        \n",
      " 1   begin_date              7043 non-null   datetime64[ns]\n",
      " 2   is_client               7043 non-null   int64         \n",
      " 3   time_of_contract_years  7043 non-null   float64       \n",
      " 4   type                    7043 non-null   object        \n",
      " 5   paperless_billing       7043 non-null   bool          \n",
      " 6   payment_method          7043 non-null   object        \n",
      " 7   monthly_charges         7043 non-null   float64       \n",
      " 8   total_charges           7043 non-null   float64       \n",
      " 9   gender                  7043 non-null   int64         \n",
      " 10  senior_citizen          7043 non-null   int64         \n",
      " 11  partner                 7043 non-null   bool          \n",
      " 12  dependents              7043 non-null   bool          \n",
      " 13  internet_service        7043 non-null   float64       \n",
      " 14  online_security         7043 non-null   float64       \n",
      " 15  online_backup           7043 non-null   float64       \n",
      " 16  device_protection       7043 non-null   float64       \n",
      " 17  tech_support            7043 non-null   float64       \n",
      " 18  streaming_tv            7043 non-null   float64       \n",
      " 19  streaming_movies        7043 non-null   float64       \n",
      " 20  multiple_lines          7043 non-null   int64         \n",
      "dtypes: bool(3), datetime64[ns](1), float64(10), int64(4), object(3)\n",
      "memory usage: 1.0+ MB\n"
     ]
    }
   ],
   "source": [
    "master_df.info()"
   ]
  },
  {
   "cell_type": "code",
   "execution_count": 39,
   "metadata": {},
   "outputs": [],
   "source": [
    "cols_to_int = [\n",
    "    'internet_service', 'online_security', 'online_backup',\n",
    "    'device_protection', 'tech_support', 'streaming_tv', 'streaming_movies'\n",
    "]\n",
    "\n",
    "master_df[cols_to_int] = master_df[cols_to_int].astype(int)"
   ]
  },
  {
   "cell_type": "code",
   "execution_count": 40,
   "metadata": {},
   "outputs": [
    {
     "name": "stdout",
     "output_type": "stream",
     "text": [
      "<class 'pandas.core.frame.DataFrame'>\n",
      "Int64Index: 7043 entries, 0 to 7042\n",
      "Data columns (total 21 columns):\n",
      " #   Column                  Non-Null Count  Dtype         \n",
      "---  ------                  --------------  -----         \n",
      " 0   customer_id             7043 non-null   object        \n",
      " 1   begin_date              7043 non-null   datetime64[ns]\n",
      " 2   is_client               7043 non-null   int64         \n",
      " 3   time_of_contract_years  7043 non-null   float64       \n",
      " 4   type                    7043 non-null   object        \n",
      " 5   paperless_billing       7043 non-null   bool          \n",
      " 6   payment_method          7043 non-null   object        \n",
      " 7   monthly_charges         7043 non-null   float64       \n",
      " 8   total_charges           7043 non-null   float64       \n",
      " 9   gender                  7043 non-null   int64         \n",
      " 10  senior_citizen          7043 non-null   int64         \n",
      " 11  partner                 7043 non-null   bool          \n",
      " 12  dependents              7043 non-null   bool          \n",
      " 13  internet_service        7043 non-null   int64         \n",
      " 14  online_security         7043 non-null   int64         \n",
      " 15  online_backup           7043 non-null   int64         \n",
      " 16  device_protection       7043 non-null   int64         \n",
      " 17  tech_support            7043 non-null   int64         \n",
      " 18  streaming_tv            7043 non-null   int64         \n",
      " 19  streaming_movies        7043 non-null   int64         \n",
      " 20  multiple_lines          7043 non-null   int64         \n",
      "dtypes: bool(3), datetime64[ns](1), float64(3), int64(11), object(3)\n",
      "memory usage: 1.0+ MB\n"
     ]
    }
   ],
   "source": [
    "master_df.info()"
   ]
  },
  {
   "cell_type": "markdown",
   "metadata": {},
   "source": [
    "Aqui, o merge acabou revertendo alguns tipos de dados. Essa pequena sequêcia de códigos foi necessária para corrigir tudo e garantir que os dados estivessem no tipo correto. Agora, vamos apenas eliminar a coluna de id, já que não precisamos mais dela. "
   ]
  },
  {
   "cell_type": "code",
   "execution_count": 41,
   "metadata": {},
   "outputs": [],
   "source": [
    "master_df.drop(columns='customer_id', inplace=True)"
   ]
  },
  {
   "cell_type": "code",
   "execution_count": 42,
   "metadata": {},
   "outputs": [
    {
     "data": {
      "text/html": [
       "<div>\n",
       "<style scoped>\n",
       "    .dataframe tbody tr th:only-of-type {\n",
       "        vertical-align: middle;\n",
       "    }\n",
       "\n",
       "    .dataframe tbody tr th {\n",
       "        vertical-align: top;\n",
       "    }\n",
       "\n",
       "    .dataframe thead th {\n",
       "        text-align: right;\n",
       "    }\n",
       "</style>\n",
       "<table border=\"1\" class=\"dataframe\">\n",
       "  <thead>\n",
       "    <tr style=\"text-align: right;\">\n",
       "      <th></th>\n",
       "      <th>begin_date</th>\n",
       "      <th>is_client</th>\n",
       "      <th>time_of_contract_years</th>\n",
       "      <th>type</th>\n",
       "      <th>paperless_billing</th>\n",
       "      <th>payment_method</th>\n",
       "      <th>monthly_charges</th>\n",
       "      <th>total_charges</th>\n",
       "      <th>gender</th>\n",
       "      <th>senior_citizen</th>\n",
       "      <th>partner</th>\n",
       "      <th>dependents</th>\n",
       "      <th>internet_service</th>\n",
       "      <th>online_security</th>\n",
       "      <th>online_backup</th>\n",
       "      <th>device_protection</th>\n",
       "      <th>tech_support</th>\n",
       "      <th>streaming_tv</th>\n",
       "      <th>streaming_movies</th>\n",
       "      <th>multiple_lines</th>\n",
       "    </tr>\n",
       "  </thead>\n",
       "  <tbody>\n",
       "    <tr>\n",
       "      <th>0</th>\n",
       "      <td>2020-01-01</td>\n",
       "      <td>1</td>\n",
       "      <td>0.08</td>\n",
       "      <td>Month-to-month</td>\n",
       "      <td>True</td>\n",
       "      <td>Electronic check</td>\n",
       "      <td>29.85</td>\n",
       "      <td>29.85</td>\n",
       "      <td>0</td>\n",
       "      <td>0</td>\n",
       "      <td>True</td>\n",
       "      <td>False</td>\n",
       "      <td>0</td>\n",
       "      <td>0</td>\n",
       "      <td>1</td>\n",
       "      <td>0</td>\n",
       "      <td>0</td>\n",
       "      <td>0</td>\n",
       "      <td>0</td>\n",
       "      <td>0</td>\n",
       "    </tr>\n",
       "    <tr>\n",
       "      <th>1</th>\n",
       "      <td>2017-04-01</td>\n",
       "      <td>1</td>\n",
       "      <td>2.84</td>\n",
       "      <td>One year</td>\n",
       "      <td>False</td>\n",
       "      <td>Mailed check</td>\n",
       "      <td>56.95</td>\n",
       "      <td>1889.50</td>\n",
       "      <td>1</td>\n",
       "      <td>0</td>\n",
       "      <td>False</td>\n",
       "      <td>False</td>\n",
       "      <td>0</td>\n",
       "      <td>1</td>\n",
       "      <td>0</td>\n",
       "      <td>1</td>\n",
       "      <td>0</td>\n",
       "      <td>0</td>\n",
       "      <td>0</td>\n",
       "      <td>0</td>\n",
       "    </tr>\n",
       "    <tr>\n",
       "      <th>2</th>\n",
       "      <td>2019-10-01</td>\n",
       "      <td>0</td>\n",
       "      <td>0.17</td>\n",
       "      <td>Month-to-month</td>\n",
       "      <td>True</td>\n",
       "      <td>Mailed check</td>\n",
       "      <td>53.85</td>\n",
       "      <td>108.15</td>\n",
       "      <td>1</td>\n",
       "      <td>0</td>\n",
       "      <td>False</td>\n",
       "      <td>False</td>\n",
       "      <td>0</td>\n",
       "      <td>1</td>\n",
       "      <td>1</td>\n",
       "      <td>0</td>\n",
       "      <td>0</td>\n",
       "      <td>0</td>\n",
       "      <td>0</td>\n",
       "      <td>0</td>\n",
       "    </tr>\n",
       "    <tr>\n",
       "      <th>3</th>\n",
       "      <td>2016-05-01</td>\n",
       "      <td>1</td>\n",
       "      <td>3.76</td>\n",
       "      <td>One year</td>\n",
       "      <td>False</td>\n",
       "      <td>Bank transfer (automatic)</td>\n",
       "      <td>42.30</td>\n",
       "      <td>1840.75</td>\n",
       "      <td>1</td>\n",
       "      <td>0</td>\n",
       "      <td>False</td>\n",
       "      <td>False</td>\n",
       "      <td>0</td>\n",
       "      <td>1</td>\n",
       "      <td>0</td>\n",
       "      <td>1</td>\n",
       "      <td>1</td>\n",
       "      <td>0</td>\n",
       "      <td>0</td>\n",
       "      <td>0</td>\n",
       "    </tr>\n",
       "    <tr>\n",
       "      <th>4</th>\n",
       "      <td>2019-09-01</td>\n",
       "      <td>0</td>\n",
       "      <td>0.17</td>\n",
       "      <td>Month-to-month</td>\n",
       "      <td>True</td>\n",
       "      <td>Electronic check</td>\n",
       "      <td>70.70</td>\n",
       "      <td>151.65</td>\n",
       "      <td>0</td>\n",
       "      <td>0</td>\n",
       "      <td>False</td>\n",
       "      <td>False</td>\n",
       "      <td>1</td>\n",
       "      <td>0</td>\n",
       "      <td>0</td>\n",
       "      <td>0</td>\n",
       "      <td>0</td>\n",
       "      <td>0</td>\n",
       "      <td>0</td>\n",
       "      <td>0</td>\n",
       "    </tr>\n",
       "  </tbody>\n",
       "</table>\n",
       "</div>"
      ],
      "text/plain": [
       "  begin_date  is_client  time_of_contract_years            type  \\\n",
       "0 2020-01-01          1                    0.08  Month-to-month   \n",
       "1 2017-04-01          1                    2.84        One year   \n",
       "2 2019-10-01          0                    0.17  Month-to-month   \n",
       "3 2016-05-01          1                    3.76        One year   \n",
       "4 2019-09-01          0                    0.17  Month-to-month   \n",
       "\n",
       "   paperless_billing             payment_method  monthly_charges  \\\n",
       "0               True           Electronic check            29.85   \n",
       "1              False               Mailed check            56.95   \n",
       "2               True               Mailed check            53.85   \n",
       "3              False  Bank transfer (automatic)            42.30   \n",
       "4               True           Electronic check            70.70   \n",
       "\n",
       "   total_charges  gender  senior_citizen  partner  dependents  \\\n",
       "0          29.85       0               0     True       False   \n",
       "1        1889.50       1               0    False       False   \n",
       "2         108.15       1               0    False       False   \n",
       "3        1840.75       1               0    False       False   \n",
       "4         151.65       0               0    False       False   \n",
       "\n",
       "   internet_service  online_security  online_backup  device_protection  \\\n",
       "0                 0                0              1                  0   \n",
       "1                 0                1              0                  1   \n",
       "2                 0                1              1                  0   \n",
       "3                 0                1              0                  1   \n",
       "4                 1                0              0                  0   \n",
       "\n",
       "   tech_support  streaming_tv  streaming_movies  multiple_lines  \n",
       "0             0             0                 0               0  \n",
       "1             0             0                 0               0  \n",
       "2             0             0                 0               0  \n",
       "3             1             0                 0               0  \n",
       "4             0             0                 0               0  "
      ]
     },
     "execution_count": 42,
     "metadata": {},
     "output_type": "execute_result"
    }
   ],
   "source": [
    "master_df.head()"
   ]
  },
  {
   "cell_type": "markdown",
   "metadata": {},
   "source": [
    "Com isso, finalizamos a etapa de preparação de Dados. Já temos nosso mestre Jedi dos dataframes preparado para as próximas etapas. "
   ]
  },
  {
   "cell_type": "markdown",
   "metadata": {},
   "source": [
    "## Análise Exploratória de Dados"
   ]
  },
  {
   "cell_type": "markdown",
   "metadata": {},
   "source": [
    "### A distribuição do Target"
   ]
  },
  {
   "cell_type": "code",
   "execution_count": 43,
   "metadata": {},
   "outputs": [
    {
     "name": "stdout",
     "output_type": "stream",
     "text": [
      "1    5174\n",
      "0    1869\n",
      "Name: is_client, dtype: int64\n",
      "1    0.73463\n",
      "0    0.26537\n",
      "Name: is_client, dtype: float64\n"
     ]
    }
   ],
   "source": [
    "print(master_df['is_client'].value_counts())\n",
    "print(master_df['is_client'].value_counts(normalize=True))"
   ]
  },
  {
   "cell_type": "code",
   "execution_count": 44,
   "metadata": {},
   "outputs": [
    {
     "data": {
      "image/png": "[encoded data removed]",
      "text/plain": [
       "<Figure size 500x500 with 1 Axes>"
      ]
     },
     "metadata": {},
     "output_type": "display_data"
    }
   ],
   "source": [
    "master_df['is_client'].value_counts().plot.pie(\n",
    "    autopct='%1.1f%%',\n",
    "    labels=['Cliente ativo', 'Cliente saiu'],\n",
    "    startangle=90,\n",
    "    shadow=True,\n",
    "    figsize=(5, 5),\n",
    "    explode=(0, 0.1),\n",
    "    title='Distribuição do Churn'\n",
    ")\n",
    "plt.ylabel('')\n",
    "plt.show()"
   ]
  },
  {
   "cell_type": "markdown",
   "metadata": {},
   "source": [
    "Reavaliamos a porcentagem de clientes que ficaram contra a porcentagem de cleintes que sairam. Aproveitei para plotar um gráfico e facilitar a visualização. Percebemos o desequilíbrio de classe, que, mantido como está, poderá causar problemas ao modelo. Vamos ter que aukmentar a quantidade de cleintes que sairam para deixar tudo equilibrado."
   ]
  },
  {
   "cell_type": "markdown",
   "metadata": {},
   "source": [
    "### Análise Temporal"
   ]
  },
  {
   "cell_type": "code",
   "execution_count": 45,
   "metadata": {},
   "outputs": [],
   "source": [
    "temp_df = master_df.copy()\n",
    "temp_df['ano_mes'] = temp_df['begin_date'].dt.to_period('M').astype(str)"
   ]
  },
  {
   "cell_type": "code",
   "execution_count": 46,
   "metadata": {},
   "outputs": [
    {
     "data": {
      "image/png": "[encoded data removed]",
      "text/plain": [
       "<Figure size 1400x500 with 1 Axes>"
      ]
     },
     "metadata": {},
     "output_type": "display_data"
    }
   ],
   "source": [
    "clientes_por_mes = temp_df['ano_mes'].value_counts().sort_index()\n",
    "clientes_por_mes.plot(kind='bar', figsize=(14, 5), title='Quantidade de clientes por mês de entrada')\n",
    "\n",
    "plt.xlabel('Ano e mês')\n",
    "plt.ylabel('Número de clientes')\n",
    "plt.xticks(rotation=90)\n",
    "plt.tight_layout()\n",
    "plt.show()"
   ]
  },
  {
   "cell_type": "code",
   "execution_count": 47,
   "metadata": {},
   "outputs": [
    {
     "data": {
      "image/png": "[encoded data removed]",
      "text/plain": [
       "<Figure size 1400x500 with 1 Axes>"
      ]
     },
     "metadata": {},
     "output_type": "display_data"
    }
   ],
   "source": [
    "temp_df['has_churned'] = 1 - temp_df['is_client']\n",
    "\n",
    "churn_by_month = temp_df.groupby('ano_mes')['has_churned'].mean()\n",
    "\n",
    "churn_by_month.sort_index().plot(\n",
    "    kind='bar',\n",
    "    figsize=(14, 5),\n",
    "    title='Churn médio por mês de entrada do cliente',\n",
    "    color='tomato'\n",
    ")\n",
    "\n",
    "plt.xlabel('Ano e mês de entrada')\n",
    "plt.ylabel('Churn médio')\n",
    "plt.xticks(rotation=90)\n",
    "plt.tight_layout()\n",
    "plt.show()"
   ]
  },
  {
   "cell_type": "markdown",
   "metadata": {},
   "source": [
    "Os dois gráficos já nos retornam informações valiosas. No primeiro, o pico em 2014 me parece artificial. Esse parece ser o momento que uma quantidade muito grande de clientes foi adicionada ao dataframe e não necessarimente entrou como cliente da empresa. Depois disso, a entrada de clientes segue bem estável, até começar a passar por um crescimento a partir de 2018. No meio de 2019, esse crescimento se acentua, mostrando o melhor momento da empresa no sentido de atrair novos clientes. A queda no último valor se deve ao fim da janela de observação. \n",
    "\n",
    "Já o segundo gráfico, que nos mostra o churn médio ao longo do tempo também é bem instrutivo. Os primeiros valores, atingindo a casa de 100% de churn, devem serr descosiderados. Isso acontece, porque, muito provavelmente, o database foi criado e abastecido com clientes que já não estavam mais com a empresa, cumprindo o objetivo de gerar dados, apenas. Após os primeiros registros artificiais, o churn médio se mantém relativamente estável ao longo dos anos, mas começa a crescer de forma visível a partir de 2018, com pico em 2019. \n",
    "\n",
    "Uma emrpesa que tem um aumento na atração de cleintes, seja por marketing agressivo ou promoções, tem uma tendência a perder mais clientes do que em momentos anteriores, porque ambos, o número de clientes satisfeitos e insatisfeitos tende a crescer para qualquer empresa. Mas esses dados também nos indicam que empresa pode ter uma capacidade ruim de manter os clientes satisfeitos com os serviços. Os dados também podem indicar que ela está atraindo o público errado.\n",
    "\n",
    "Com relação à interpretação do modelo, será importante remover os dados dos quatro primeiros meses, porque ele vai gerar uma tendência errada aos algorítmos treinados. Além disso, como o churn médio cresce conforme as datas se aproximam do fim do período de observação, os modelos podem acabar gerando uma tendência de churn mais alta para clientes mais novos. "
   ]
  },
  {
   "cell_type": "markdown",
   "metadata": {},
   "source": [
    "Vamos começar removendo os quatro primeiros e os dois últmos meses do dataframe, porque eles tem valores irreais de churn, que podem adicionar extremo viés aos modelos. Depois, vamos recalcular a proporção de churn, para verificar o desbalanceamento mais uma vez."
   ]
  },
  {
   "cell_type": "code",
   "execution_count": 48,
   "metadata": {},
   "outputs": [
    {
     "name": "stdout",
     "output_type": "stream",
     "text": [
      "[Period('2013-10', 'M'), Period('2013-11', 'M'), Period('2013-12', 'M'), Period('2014-01', 'M'), Period('2020-01', 'M'), Period('2020-02', 'M')]\n",
      "(6784, 20)\n"
     ]
    }
   ],
   "source": [
    "filtered_df = master_df.copy()\n",
    "\n",
    "filtered_df['ano_mes'] = filtered_df['begin_date'].dt.to_period('M')\n",
    "\n",
    "filtered_df['has_churned'] = 1 - filtered_df['is_client']\n",
    "churn_by_month = filtered_df.groupby('ano_mes')['has_churned'].mean()\n",
    "\n",
    "meses_a_remover = churn_by_month.sort_index().index[:4].tolist() + churn_by_month.sort_index().index[-2:].tolist()\n",
    "\n",
    "filtered_df = filtered_df[~filtered_df['ano_mes'].isin(meses_a_remover)]\n",
    "\n",
    "filtered_df.drop(columns=['ano_mes', 'has_churned'], inplace=True)\n",
    "\n",
    "print(meses_a_remover)\n",
    "print(filtered_df.shape)"
   ]
  },
  {
   "cell_type": "code",
   "execution_count": 49,
   "metadata": {},
   "outputs": [
    {
     "data": {
      "text/html": [
       "<div>\n",
       "<style scoped>\n",
       "    .dataframe tbody tr th:only-of-type {\n",
       "        vertical-align: middle;\n",
       "    }\n",
       "\n",
       "    .dataframe tbody tr th {\n",
       "        vertical-align: top;\n",
       "    }\n",
       "\n",
       "    .dataframe thead th {\n",
       "        text-align: right;\n",
       "    }\n",
       "</style>\n",
       "<table border=\"1\" class=\"dataframe\">\n",
       "  <thead>\n",
       "    <tr style=\"text-align: right;\">\n",
       "      <th></th>\n",
       "      <th>begin_date</th>\n",
       "      <th>is_client</th>\n",
       "      <th>time_of_contract_years</th>\n",
       "      <th>type</th>\n",
       "      <th>paperless_billing</th>\n",
       "      <th>payment_method</th>\n",
       "      <th>monthly_charges</th>\n",
       "      <th>total_charges</th>\n",
       "      <th>gender</th>\n",
       "      <th>senior_citizen</th>\n",
       "      <th>partner</th>\n",
       "      <th>dependents</th>\n",
       "      <th>internet_service</th>\n",
       "      <th>online_security</th>\n",
       "      <th>online_backup</th>\n",
       "      <th>device_protection</th>\n",
       "      <th>tech_support</th>\n",
       "      <th>streaming_tv</th>\n",
       "      <th>streaming_movies</th>\n",
       "      <th>multiple_lines</th>\n",
       "    </tr>\n",
       "  </thead>\n",
       "  <tbody>\n",
       "    <tr>\n",
       "      <th>1</th>\n",
       "      <td>2017-04-01</td>\n",
       "      <td>1</td>\n",
       "      <td>2.84</td>\n",
       "      <td>One year</td>\n",
       "      <td>False</td>\n",
       "      <td>Mailed check</td>\n",
       "      <td>56.95</td>\n",
       "      <td>1889.50</td>\n",
       "      <td>1</td>\n",
       "      <td>0</td>\n",
       "      <td>False</td>\n",
       "      <td>False</td>\n",
       "      <td>0</td>\n",
       "      <td>1</td>\n",
       "      <td>0</td>\n",
       "      <td>1</td>\n",
       "      <td>0</td>\n",
       "      <td>0</td>\n",
       "      <td>0</td>\n",
       "      <td>0</td>\n",
       "    </tr>\n",
       "    <tr>\n",
       "      <th>2</th>\n",
       "      <td>2019-10-01</td>\n",
       "      <td>0</td>\n",
       "      <td>0.17</td>\n",
       "      <td>Month-to-month</td>\n",
       "      <td>True</td>\n",
       "      <td>Mailed check</td>\n",
       "      <td>53.85</td>\n",
       "      <td>108.15</td>\n",
       "      <td>1</td>\n",
       "      <td>0</td>\n",
       "      <td>False</td>\n",
       "      <td>False</td>\n",
       "      <td>0</td>\n",
       "      <td>1</td>\n",
       "      <td>1</td>\n",
       "      <td>0</td>\n",
       "      <td>0</td>\n",
       "      <td>0</td>\n",
       "      <td>0</td>\n",
       "      <td>0</td>\n",
       "    </tr>\n",
       "    <tr>\n",
       "      <th>3</th>\n",
       "      <td>2016-05-01</td>\n",
       "      <td>1</td>\n",
       "      <td>3.76</td>\n",
       "      <td>One year</td>\n",
       "      <td>False</td>\n",
       "      <td>Bank transfer (automatic)</td>\n",
       "      <td>42.30</td>\n",
       "      <td>1840.75</td>\n",
       "      <td>1</td>\n",
       "      <td>0</td>\n",
       "      <td>False</td>\n",
       "      <td>False</td>\n",
       "      <td>0</td>\n",
       "      <td>1</td>\n",
       "      <td>0</td>\n",
       "      <td>1</td>\n",
       "      <td>1</td>\n",
       "      <td>0</td>\n",
       "      <td>0</td>\n",
       "      <td>0</td>\n",
       "    </tr>\n",
       "    <tr>\n",
       "      <th>4</th>\n",
       "      <td>2019-09-01</td>\n",
       "      <td>0</td>\n",
       "      <td>0.17</td>\n",
       "      <td>Month-to-month</td>\n",
       "      <td>True</td>\n",
       "      <td>Electronic check</td>\n",
       "      <td>70.70</td>\n",
       "      <td>151.65</td>\n",
       "      <td>0</td>\n",
       "      <td>0</td>\n",
       "      <td>False</td>\n",
       "      <td>False</td>\n",
       "      <td>1</td>\n",
       "      <td>0</td>\n",
       "      <td>0</td>\n",
       "      <td>0</td>\n",
       "      <td>0</td>\n",
       "      <td>0</td>\n",
       "      <td>0</td>\n",
       "      <td>0</td>\n",
       "    </tr>\n",
       "    <tr>\n",
       "      <th>5</th>\n",
       "      <td>2019-03-01</td>\n",
       "      <td>0</td>\n",
       "      <td>0.67</td>\n",
       "      <td>Month-to-month</td>\n",
       "      <td>True</td>\n",
       "      <td>Electronic check</td>\n",
       "      <td>99.65</td>\n",
       "      <td>820.50</td>\n",
       "      <td>0</td>\n",
       "      <td>0</td>\n",
       "      <td>False</td>\n",
       "      <td>False</td>\n",
       "      <td>1</td>\n",
       "      <td>0</td>\n",
       "      <td>0</td>\n",
       "      <td>1</td>\n",
       "      <td>0</td>\n",
       "      <td>1</td>\n",
       "      <td>1</td>\n",
       "      <td>1</td>\n",
       "    </tr>\n",
       "  </tbody>\n",
       "</table>\n",
       "</div>"
      ],
      "text/plain": [
       "  begin_date  is_client  time_of_contract_years            type  \\\n",
       "1 2017-04-01          1                    2.84        One year   \n",
       "2 2019-10-01          0                    0.17  Month-to-month   \n",
       "3 2016-05-01          1                    3.76        One year   \n",
       "4 2019-09-01          0                    0.17  Month-to-month   \n",
       "5 2019-03-01          0                    0.67  Month-to-month   \n",
       "\n",
       "   paperless_billing             payment_method  monthly_charges  \\\n",
       "1              False               Mailed check            56.95   \n",
       "2               True               Mailed check            53.85   \n",
       "3              False  Bank transfer (automatic)            42.30   \n",
       "4               True           Electronic check            70.70   \n",
       "5               True           Electronic check            99.65   \n",
       "\n",
       "   total_charges  gender  senior_citizen  partner  dependents  \\\n",
       "1        1889.50       1               0    False       False   \n",
       "2         108.15       1               0    False       False   \n",
       "3        1840.75       1               0    False       False   \n",
       "4         151.65       0               0    False       False   \n",
       "5         820.50       0               0    False       False   \n",
       "\n",
       "   internet_service  online_security  online_backup  device_protection  \\\n",
       "1                 0                1              0                  1   \n",
       "2                 0                1              1                  0   \n",
       "3                 0                1              0                  1   \n",
       "4                 1                0              0                  0   \n",
       "5                 1                0              0                  1   \n",
       "\n",
       "   tech_support  streaming_tv  streaming_movies  multiple_lines  \n",
       "1             0             0                 0               0  \n",
       "2             0             0                 0               0  \n",
       "3             1             0                 0               0  \n",
       "4             0             0                 0               0  \n",
       "5             0             1                 1               1  "
      ]
     },
     "execution_count": 49,
     "metadata": {},
     "output_type": "execute_result"
    }
   ],
   "source": [
    "filtered_df.head()"
   ]
  },
  {
   "cell_type": "code",
   "execution_count": 50,
   "metadata": {},
   "outputs": [
    {
     "data": {
      "image/png": "[encoded data removed]",
      "text/plain": [
       "<Figure size 1400x500 with 1 Axes>"
      ]
     },
     "metadata": {},
     "output_type": "display_data"
    }
   ],
   "source": [
    "filtered_df['ano_mes'] = filtered_df['begin_date'].dt.to_period('M').astype(str)\n",
    "filtered_df['has_churned'] = 1 - filtered_df['is_client']\n",
    "\n",
    "churn_by_month_filtered = filtered_df.groupby('ano_mes')['has_churned'].mean()\n",
    "\n",
    "churn_by_month_filtered.sort_index().plot(\n",
    "    kind='bar',\n",
    "    figsize=(14, 5),\n",
    "    title='Churn médio por mês de entrada (dados filtrados)',\n",
    "    color='tomato'\n",
    ")\n",
    "\n",
    "plt.xlabel('Ano e mês de entrada')\n",
    "plt.ylabel('Churn médio')\n",
    "plt.xticks(rotation=90)\n",
    "plt.tight_layout()\n",
    "plt.show()"
   ]
  },
  {
   "cell_type": "markdown",
   "metadata": {},
   "source": [
    "Sem grandes mistérios aqui. Agora, podemos ver o mesmo gráfico do passo anterior, mas com os meses de valores distorcidos devidamente removidos. Isso vai ser muito importante para garantir que os modelos não tenham viés."
   ]
  },
  {
   "cell_type": "markdown",
   "metadata": {},
   "source": [
    "####  Verificando o Desbalanceamento no novo df"
   ]
  },
  {
   "cell_type": "code",
   "execution_count": 51,
   "metadata": {},
   "outputs": [
    {
     "name": "stdout",
     "output_type": "stream",
     "text": [
      "1    0.72671\n",
      "0    0.27329\n",
      "Name: is_client, dtype: float64\n",
      "1    4930\n",
      "0    1854\n",
      "Name: is_client, dtype: int64\n"
     ]
    }
   ],
   "source": [
    "print(filtered_df['is_client'].value_counts(normalize=True))\n",
    "print(filtered_df['is_client'].value_counts())"
   ]
  },
  {
   "cell_type": "code",
   "execution_count": 52,
   "metadata": {},
   "outputs": [
    {
     "data": {
      "image/png": "[encoded data removed]",
      "text/plain": [
       "<Figure size 500x500 with 1 Axes>"
      ]
     },
     "metadata": {},
     "output_type": "display_data"
    }
   ],
   "source": [
    "filtered_df['is_client'].value_counts().plot.pie(\n",
    "    autopct='%1.1f%%',\n",
    "    labels=['Cliente ativo', 'Cliente saiu'],\n",
    "    startangle=90,\n",
    "    shadow=True,\n",
    "    figsize=(5, 5),\n",
    "    explode=(0, 0.1),\n",
    "    title='Distribuição do Churn'\n",
    ")\n",
    "plt.ylabel('')\n",
    "plt.show()"
   ]
  },
  {
   "cell_type": "markdown",
   "metadata": {},
   "source": [
    "Não tivemos grandes mudanças por aqui. Podemos retomar o trabalho de onde paramos."
   ]
  },
  {
   "cell_type": "markdown",
   "metadata": {},
   "source": [
    "#### Retomando a Análise Temporal"
   ]
  },
  {
   "cell_type": "markdown",
   "metadata": {},
   "source": [
    "#### Churn por tempo de contrato"
   ]
  },
  {
   "cell_type": "markdown",
   "metadata": {},
   "source": [
    "Nessa análise, vamos dividir os clientes com contrato vigente em três grupos: Os que tem menos de um ano de casa são os clientes novos. Os que tem entre 1 e 2 são os antigos. Os que tem mais de dois anos são os muito antigos. Então, veremos a proporção de churn para cada grupo."
   ]
  },
  {
   "cell_type": "code",
   "execution_count": 53,
   "metadata": {},
   "outputs": [],
   "source": [
    "filtered_df.drop(columns=['has_churned', 'ano_mes'], inplace=True)"
   ]
  },
  {
   "cell_type": "code",
   "execution_count": 54,
   "metadata": {},
   "outputs": [
    {
     "name": "stdout",
     "output_type": "stream",
     "text": [
      "contract_age_group\n",
      "Antigo (1-2 anos)         0.295129\n",
      "Muito antigo (>2 anos)    0.139571\n",
      "Novo (<1 ano)             0.547397\n",
      "Name: is_client, dtype: float64\n"
     ]
    }
   ],
   "source": [
    "def categorizar_tempo_contrato(anos):\n",
    "    if anos < 1:\n",
    "        return 'Novo (<1 ano)'\n",
    "    elif anos < 2:\n",
    "        return 'Antigo (1-2 anos)'\n",
    "    else:\n",
    "        return 'Muito antigo (>2 anos)'\n",
    "\n",
    "filtered_df['contract_age_group'] = filtered_df['time_of_contract_years'].apply(categorizar_tempo_contrato)\n",
    "\n",
    "churn_por_grupo = filtered_df.groupby('contract_age_group')['is_client'].apply(lambda x: 1 - x.mean()).sort_index()\n",
    "\n",
    "print(churn_por_grupo)"
   ]
  },
  {
   "cell_type": "code",
   "execution_count": 55,
   "metadata": {},
   "outputs": [
    {
     "data": {
      "image/png": "[encoded data removed]",
      "text/plain": [
       "<Figure size 800x500 with 1 Axes>"
      ]
     },
     "metadata": {},
     "output_type": "display_data"
    }
   ],
   "source": [
    "churn_por_grupo = (\n",
    "    1 - filtered_df.groupby('contract_age_group')['is_client'].mean()\n",
    ").sort_values(ascending=False)\n",
    "\n",
    "plt.figure(figsize=(8, 5))\n",
    "plt.bar(churn_por_grupo.index, churn_por_grupo.values, color='salmon')\n",
    "\n",
    "plt.title('Taxa de churn por tempo de contrato')\n",
    "plt.ylabel('Taxa de churn')\n",
    "plt.xlabel('Tempo de contrato')\n",
    "plt.tight_layout()\n",
    "plt.show()"
   ]
  },
  {
   "cell_type": "markdown",
   "metadata": {},
   "source": [
    "Aqui, percebemos um hurn alto para clientes novos. A empresa realmente está tendo problemas para segurar os clientes. Poderia ser interessante pensar em estratégias para segurar mais as pessoas. Os clientes antigos ainda saem bastante, mas em quantidade consideravelmente menor. Ao mesmo tempo, percebemos que a empresa vai muito bem em manter clientes já fidelizados. Para empresas de telecomunicações, a tendência é que os planos fiquem com preços e qualidade/velocidade do serviço defazada, mas, mesmo assim, a retenção aqui é boa. Isso pode indicar que a empresa vai bem nessa atualização para clientes antigos e trabalha bem o relacionamento com eles. Essa tendêcia será capturada pelos modelos, mas podemos seguir tranquilos."
   ]
  },
  {
   "cell_type": "code",
   "execution_count": 56,
   "metadata": {},
   "outputs": [],
   "source": [
    "filtered_df = filtered_df.drop(columns='contract_age_group')"
   ]
  },
  {
   "cell_type": "markdown",
   "metadata": {},
   "source": [
    "### Perfil do Cliente"
   ]
  },
  {
   "cell_type": "markdown",
   "metadata": {},
   "source": [
    "Agora, começaremos uma série de análises para identificar se quaisquer das características que a nossa tabela apresenta influencia na taxa do churn. O primeiro passo é verificar os insights dos dados trazidos pelo dataframe personal."
   ]
  },
  {
   "cell_type": "code",
   "execution_count": 57,
   "metadata": {},
   "outputs": [
    {
     "data": {
      "image/png": "[encoded data removed]",
      "text/plain": [
       "<Figure size 1000x600 with 1 Axes>"
      ]
     },
     "metadata": {},
     "output_type": "display_data"
    }
   ],
   "source": [
    "profile_cols = ['gender', 'senior_citizen', 'partner', 'dependents']\n",
    "\n",
    "churn_profile_data = {'Atributo': [], 'Valor': [], 'Churn médio': []}\n",
    "\n",
    "for col in profile_cols:\n",
    "    for val, label in zip([0, 1], ['Não', 'Sim']):\n",
    "        churn_mean = filtered_df[filtered_df[col] == val]['is_client'].apply(lambda x: 1 - x).mean()\n",
    "        churn_profile_data['Atributo'].append(col.replace('_', ' ').title())\n",
    "        churn_profile_data['Valor'].append(label)\n",
    "        churn_profile_data['Churn médio'].append(churn_mean)\n",
    "\n",
    "churn_profile_df = pd.DataFrame(churn_profile_data)\n",
    "\n",
    "plt.figure(figsize=(10, 6))\n",
    "sns.barplot(data=churn_profile_df, x='Atributo', y='Churn médio', hue='Valor', palette='pastel')\n",
    "plt.title('Churn médio por perfil do cliente')\n",
    "plt.ylabel('Churn médio')\n",
    "plt.xlabel('Atributo')\n",
    "plt.xticks(rotation=15)\n",
    "plt.tight_layout()\n",
    "plt.show()"
   ]
  },
  {
   "cell_type": "raw",
   "metadata": {},
   "source": [
    "Esse primeiro gráfico nos revela várias coisas. Primeiro, a diferença entre os gêneros é quase inexistente em termos de churn. Homens eram representados pelo valor 1 e foram traduzidos como sim. O gráfico nos indica que mulheres tem uma tendência minimamente maior de sair em relação aos homens. Estatisticamente, a diferença é irrelevante, e a variável muito provavelmente terá pouca importância. Já no Senior_citizen, percebemos que a quantidade de idosos que deixam a empresa é grande se comparado com os clientes mais novos. Isso mostra que um trabalho melhor de acompanhamento  e asistência para idosos pode ser uma boa estratégia de retenção, por exemplo. Pode ser interessante pensar em maneiras para mantê-los mais. Também é certo que os modelos darão importância para essa variável. \n",
    "\n",
    "Agora, tanto partner quanto dependents mostram que pessoas casadas ou com dependentes, como filhos, têm a tendência de se manter mais na empresa. Isso faz sentido, porque quanto mais pessoas vivem com você, maior é a chance delas dependerem mais ativamente de serviços como TV e Internet. O que faz com que você precise se manter na empresa. Essas também são características interessantes que os modelos vão avaliar. Seguimos sem problemas. "
   ]
  },
  {
   "cell_type": "markdown",
   "metadata": {},
   "source": [
    "### Informações Contratuais"
   ]
  },
  {
   "cell_type": "markdown",
   "metadata": {},
   "source": [
    "Ainda seguindo a lógica, vamos verificar o que as informações contratuais que temos nos revelam"
   ]
  },
  {
   "cell_type": "code",
   "execution_count": 58,
   "metadata": {},
   "outputs": [
    {
     "data": {
      "image/png": "[encoded data removed]",
      "text/plain": [
       "<Figure size 1200x600 with 1 Axes>"
      ]
     },
     "metadata": {},
     "output_type": "display_data"
    }
   ],
   "source": [
    "contract_columns = ['type', 'paperless_billing', 'payment_method']\n",
    "\n",
    "contract_churn = pd.DataFrame()\n",
    "\n",
    "for col in contract_columns:\n",
    "    churn_mean = filtered_df.groupby(col)['is_client'].apply(lambda x: 1 - x.mean())\n",
    "    churn_mean = churn_mean.reset_index()\n",
    "    churn_mean.columns = ['Categoria', 'Churn médio']\n",
    "    churn_mean['Coluna'] = col\n",
    "    contract_churn = pd.concat([contract_churn, churn_mean], ignore_index=True)\n",
    "\n",
    "contract_churn['Coluna'] = contract_churn['Coluna'].map({\n",
    "    'type': 'Tipo de contrato',\n",
    "    'paperless_billing': 'Fatura digital',\n",
    "    'payment_method': 'Método de pagamento'\n",
    "})\n",
    "\n",
    "contract_churn['Categoria'] = contract_churn['Categoria'].replace({\n",
    "    0: 'Não',\n",
    "    1: 'Sim'\n",
    "})\n",
    "\n",
    "plt.figure(figsize=(12, 6))\n",
    "sns.barplot(\n",
    "    data=contract_churn,\n",
    "    x='Coluna',\n",
    "    y='Churn médio',\n",
    "    hue='Categoria'\n",
    ")\n",
    "\n",
    "plt.title('Churn médio por informação contratual')\n",
    "plt.ylabel('Churn médio')\n",
    "plt.xlabel('')\n",
    "plt.legend(title='Categoria')\n",
    "plt.tight_layout()\n",
    "plt.show()"
   ]
  },
  {
   "cell_type": "markdown",
   "metadata": {},
   "source": [
    "Mais comportamentos interessantes a se discutir. No tipo de contrato, temos exatamente o que esperamos ver. Clientes que não tem contratos longos tendem a sair muito mais, porque não existe um prazo longo o multas a pagar, caso ele queira partir. Faz muito sentido que esse seja o tipo de contrato que mais tenha churn. O valor cai absurdamente quando temos um ano de contrato e cai ainda mais quando temos 2 anos de contrato. O desafio seria encontrar maneiras de manter os clientes que fecham de mês a mês.\n",
    "\n",
    "As taxas de churn desse gráfico não são tão altas, o que é bom. Para a fatura digital, percebemos que os clientes saem quase duas vezes mais do que os que a recebem por outros meios. Essa é uma tendência difícil de explicar, mas é válida. Não me parece nada problemático.\n",
    "\n",
    "Para o método de pagamento, vemos que o cheque eletrônico domina a quantidade de churn. Seguido muito de longe por mailed check, que está próximo das cobranças automáticas. O fato de as cobranças automáticas trazerem menos churn faz sentido, porque é de se imaginar que a necessidade de ativamente pagar exige uma atenção maior à empresa e suas cobranças constatemente. Esses momentos em que a empresa \"vem a tona\" para o cliente potencialmente isatisfeito pode levar à uma busca mais acentuada pelo cancelamento. Nas cobranças automáticas, isso acontece bem menos.\n",
    "\n",
    "Para a empresa pode ser importante revisitar o processo de geração e envio de cheques eletrônicos. Algum problema ou dificuldade nesse serviço pode estar levando ao churn mais acentuado. Para os modelos, todos os padrões me parecem bons. "
   ]
  },
  {
   "cell_type": "markdown",
   "metadata": {},
   "source": [
    "### Serviços de Internet"
   ]
  },
  {
   "cell_type": "code",
   "execution_count": 59,
   "metadata": {},
   "outputs": [
    {
     "data": {
      "image/png": "[encoded data removed]",
      "text/plain": [
       "<Figure size 1400x600 with 1 Axes>"
      ]
     },
     "metadata": {},
     "output_type": "display_data"
    }
   ],
   "source": [
    "internet_cols = [\n",
    "    'internet_service', 'online_security', 'online_backup',\n",
    "    'device_protection', 'tech_support', 'streaming_tv', 'streaming_movies'\n",
    "]\n",
    "\n",
    "dados_plot = []\n",
    "\n",
    "for col in internet_cols:\n",
    "    churn_por_categoria = filtered_df.groupby(col)['is_client'].mean()\n",
    "    for valor, media in churn_por_categoria.items():\n",
    "        dados_plot.append({\n",
    "            'Serviço': col.replace('_', ' ').title(),\n",
    "            'Categoria': 'Sim' if valor == 1 else 'Não',\n",
    "            'Churn Médio': 1 - media\n",
    "        })\n",
    "\n",
    "plot_df = pd.DataFrame(dados_plot)\n",
    "\n",
    "plt.figure(figsize=(14, 6))\n",
    "sns.barplot(data=plot_df, x='Serviço', y='Churn Médio', hue='Categoria')\n",
    "plt.title('Churn médio por serviço de internet')\n",
    "plt.xticks(rotation=45)\n",
    "plt.tight_layout()\n",
    "plt.show()"
   ]
  },
  {
   "cell_type": "markdown",
   "metadata": {},
   "source": [
    "As pessoas que usam o serviço de internet saem muito mais do que as que não usam. Isso indica que o serviço de internet da companhia talvez não seja tão bom. Uma avaliação ou uma pesquisa pra entender a satisfação dos clientes com esse serviço poderia ser uma boa ideia. A segurança online se mostra mais eficiente. Quem usa tende a ficar bem mais do que aqueles que não usam. Online backup e device protection seguem mais ou menos a mesma linha, apesar de os valores serem mais próximo. Quem conta com esses serviços tem uma tendência um pouco maior de ficar.\n",
    "\n",
    "O suporte técnico da empresa também parece bom de forma geral, porque quem usa fica bem mais do que quem não usa. Agora, os streeamings são um problema. Aqueles que tem o serviço saem mais do que os que não usam. Vale revisitar catálogos e preços para entender porque os concorrentees parecem levar a melhor aqui. Estabilidade geral do serviço é um fator que pode impactar a internet e o streaming, os dois tipos de serviço com mais taxa de churn. \n",
    "\n",
    "Para os mdelos, internet_service parece ter mais peso, mas julgo que essa diferença não é grande o suficiente para gerar desequilíbrio. "
   ]
  },
  {
   "cell_type": "markdown",
   "metadata": {},
   "source": [
    "### Linhas Múltiplas"
   ]
  },
  {
   "cell_type": "code",
   "execution_count": 60,
   "metadata": {},
   "outputs": [
    {
     "data": {
      "image/png": "[encoded data removed]",
      "text/plain": [
       "<Figure size 600x500 with 1 Axes>"
      ]
     },
     "metadata": {},
     "output_type": "display_data"
    }
   ],
   "source": [
    "churn_phone = (\n",
    "    filtered_df\n",
    "    .groupby('multiple_lines')['is_client']\n",
    "    .apply(lambda x: 1 - x.mean())\n",
    "    .reset_index()\n",
    ")\n",
    "\n",
    "churn_phone['multiple_lines'] = churn_phone['multiple_lines'].map({0: 'Não', 1: 'Sim'})\n",
    "\n",
    "import seaborn as sns\n",
    "import matplotlib.pyplot as plt\n",
    "\n",
    "plt.figure(figsize=(6, 5))\n",
    "sns.barplot(\n",
    "    data=churn_phone,\n",
    "    x='multiple_lines',\n",
    "    y='is_client',\n",
    "    palette='muted'\n",
    ")\n",
    "\n",
    "plt.title('Churn médio por uso de múltiplas linhas')\n",
    "plt.xlabel('Cliente com múltiplas linhas')\n",
    "plt.ylabel('Churn médio')\n",
    "plt.tight_layout()\n",
    "plt.show()"
   ]
  },
  {
   "cell_type": "markdown",
   "metadata": {},
   "source": [
    "Aqui, seu eu tivesse que ter apostado sem ver o gráfico, perderia. Achei que mais linhas gerriam mais dependência e um envolvimento mais com a empresa, mas clientes com multiplas linhas saem até mais do que os clientes com uma linh só. Comportamento curioso, mas, além disso, bem equilibrado. É dif´cil de imaginar que essa variável terá um grande poder nos estudos do modelo."
   ]
  },
  {
   "cell_type": "markdown",
   "metadata": {},
   "source": [
    "### Correlação"
   ]
  },
  {
   "cell_type": "code",
   "execution_count": 61,
   "metadata": {},
   "outputs": [
    {
     "name": "stdout",
     "output_type": "stream",
     "text": [
      "time_of_contract_years    0.402339\n",
      "internet_service         -0.300282\n",
      "total_charges             0.234312\n",
      "online_security           0.185700\n",
      "tech_support              0.180770\n",
      "monthly_charges          -0.176322\n",
      "senior_citizen           -0.147230\n",
      "online_backup             0.099697\n",
      "device_protection         0.085677\n",
      "streaming_tv             -0.046591\n",
      "streaming_movies         -0.044303\n",
      "multiple_lines           -0.022929\n",
      "gender                    0.005839\n",
      "Name: is_client, dtype: float64\n"
     ]
    }
   ],
   "source": [
    "colunas_numericas = filtered_df.select_dtypes(include='number')\n",
    "\n",
    "correlacoes = colunas_numericas.corr()\n",
    "\n",
    "correlacoes_is_client = correlacoes['is_client'].drop('is_client')\n",
    "\n",
    "correlacoes_ordenadas = correlacoes_is_client.reindex(correlacoes_is_client.abs().sort_values(ascending=False).index)\n",
    "\n",
    "print(correlacoes_ordenadas)"
   ]
  },
  {
   "cell_type": "code",
   "execution_count": 62,
   "metadata": {},
   "outputs": [
    {
     "name": "stdout",
     "output_type": "stream",
     "text": [
      "type                 0.441102\n",
      "payment_method       0.311272\n",
      "paperless_billing    0.187532\n",
      "dependents           0.171436\n",
      "partner              0.170372\n",
      "dtype: float64\n"
     ]
    }
   ],
   "source": [
    "def cramers_v(x, y):\n",
    "    confusion_matrix = pd.crosstab(x, y)\n",
    "    chi2 = chi2_contingency(confusion_matrix, correction=False)[0]\n",
    "    n = confusion_matrix.sum().sum()\n",
    "    r, k = confusion_matrix.shape\n",
    "    return np.sqrt(chi2 / (n * (min(r, k) - 1)))\n",
    "\n",
    "cat_cols = filtered_df.select_dtypes(include=['object', 'bool']).columns.tolist()\n",
    "\n",
    "cramers_v_results = {\n",
    "    col: cramers_v(filtered_df[col], filtered_df['is_client'])\n",
    "    for col in cat_cols\n",
    "}\n",
    "\n",
    "cramers_v_series = pd.Series(cramers_v_results).sort_values(ascending=False)\n",
    "print(cramers_v_series)"
   ]
  },
  {
   "cell_type": "code",
   "execution_count": 63,
   "metadata": {},
   "outputs": [
    {
     "data": {
      "image/png": "[encoded data removed]",
      "text/plain": [
       "<Figure size 1200x800 with 2 Axes>"
      ]
     },
     "metadata": {},
     "output_type": "display_data"
    }
   ],
   "source": [
    "plt.figure(figsize=(12, 8))\n",
    "sns.heatmap(correlacoes, annot=True, fmt=\".2f\", cmap=\"coolwarm\", square=True)\n",
    "plt.title(\"Heatmap de Correlação de Pearson\")\n",
    "plt.tight_layout()\n",
    "plt.show()"
   ]
  },
  {
   "cell_type": "markdown",
   "metadata": {},
   "source": [
    "Cálculamos a correlação de pearson e o gráfico nos retorna os valores que já havíamos avaliado. Temos um modelo com as correlações bem equilibradas, o que nos mostra que não precisaremos alterar pesos de colunas"
   ]
  },
  {
   "cell_type": "code",
   "execution_count": null,
   "metadata": {},
   "outputs": [],
   "source": [
    "plt.figure(figsize=(8, 4))\n",
    "sns.heatmap(\n",
    "    cramers_v_series.to_frame(name='Cramér\\'s V'),\n",
    "    annot=True, cmap='YlGnBu', cbar=False,\n",
    "    fmt=\".2f\", linewidths=0.5\n",
    ")\n",
    "\n",
    "plt.title('Heatmap de Correlação de Cramér\\'s V (variáveis categóricas)')\n",
    "plt.yticks(rotation=0)\n",
    "plt.tight_layout()\n",
    "plt.show()"
   ]
  },
  {
   "cell_type": "markdown",
   "metadata": {},
   "source": [
    "Com isso, temos os resultados das correlações. Vimos aqui que algumas colunas terão importancia razoável para a predição dos nossos modelos, mas fica claro que a variável target não tem correlação muito forte com nenhuma outra, o que é bom para nós.\n",
    "time_of_contract_years,internet_service , type e payment_method serão as mais importantes. Mas, no mais, podemos seguir em frente"
   ]
  },
  {
   "cell_type": "markdown",
   "metadata": {},
   "source": [
    "### Conclusão  da AED"
   ]
  },
  {
   "cell_type": "markdown",
   "metadata": {},
   "source": [
    "Terminamos aqui a etapa de pré processamento e EAD dos dados. Foi bem trabalhoso, mas acredito que temos um resultado bem completo, com insights interessantes para a empresa e comentários sobre o impacto dos dados para os modelos que vamos treinar. "
   ]
  },
  {
   "cell_type": "markdown",
   "metadata": {},
   "source": [
    "## Próximos Passos"
   ]
  },
  {
   "cell_type": "markdown",
   "metadata": {},
   "source": [
    "Aqui, pelo que eu entendi do projeto, é importante deixar uma lista do que eu acredito que sejam os próximos passos, para o Felipe Coutinho avaliar. E estou planejando entrar numa fase de preparação dos dados para os modelos, onde vou:\n",
    "\n",
    "- Aplicar escalonamento nas variáveis numéricas\n",
    "- Utilizar One-Hot Encoding para variáveis categóricas\n",
    "- Verificar o desbalanceamento na variável target\n",
    "- Dividir os Dados em Conjuntos\n",
    "\n",
    "Depois, minha ideia é treinar os seguintes modelos:\n",
    "\n",
    "- Regrssao logistica, \n",
    "- Randon_forest, \n",
    "- Arvore de decisão, \n",
    "- cat_boost, \n",
    "- xg_boost\n",
    "\n",
    "Nessa etapa, eu pretendo aplicar a validação cruzada e o gridsearch para afiar o treinmento e encontrar os melhores parâmetros para cada modelo. Assim, buscamos atingir o melhor AUC-ROC possível. "
   ]
  },
  {
   "cell_type": "markdown",
   "metadata": {},
   "source": [
    "### Dúvidas"
   ]
  },
  {
   "cell_type": "markdown",
   "metadata": {},
   "source": [
    "Não fiquei com muuuitas dúvidas até aqui, mas queria saber a sua análise de tudo o que fiz nessa etapa. Essa preparação de Dados e essa EAD estão boas? Faltou alguma coisa? O tamanho do projeto está dentro do que você esperava?\n",
    "\n",
    "Usei o gpt pros códigos. Precisei lidar com todos os tradicionais problemas e erros de lógica que ele acaba gerando e acho que fiz isso bem feito. O que voc~e achou da estrutura? Os códigos estão bem estruturados como vc esperava? Há algum problema como redundância ou sei lá?\n",
    "\n",
    "Vi que temos um ponto extra a ganhar, que, pelo que eu entendi, vem do uso da acurácia como métrica secundária. Qual o valor que precismaos atingir pra garantir esse ponto?\n",
    "\n",
    "Há mais alguma coisa que vc acha que eu preciso melhorar?"
   ]
  },
  {
   "cell_type": "code",
   "execution_count": 65,
   "metadata": {},
   "outputs": [
    {
     "name": "stdout",
     "output_type": "stream",
     "text": [
      "<class 'pandas.core.frame.DataFrame'>\n",
      "Int64Index: 6784 entries, 1 to 7042\n",
      "Data columns (total 20 columns):\n",
      " #   Column                  Non-Null Count  Dtype         \n",
      "---  ------                  --------------  -----         \n",
      " 0   begin_date              6784 non-null   datetime64[ns]\n",
      " 1   is_client               6784 non-null   int64         \n",
      " 2   time_of_contract_years  6784 non-null   float64       \n",
      " 3   type                    6784 non-null   object        \n",
      " 4   paperless_billing       6784 non-null   bool          \n",
      " 5   payment_method          6784 non-null   object        \n",
      " 6   monthly_charges         6784 non-null   float64       \n",
      " 7   total_charges           6784 non-null   float64       \n",
      " 8   gender                  6784 non-null   int64         \n",
      " 9   senior_citizen          6784 non-null   int64         \n",
      " 10  partner                 6784 non-null   bool          \n",
      " 11  dependents              6784 non-null   bool          \n",
      " 12  internet_service        6784 non-null   int64         \n",
      " 13  online_security         6784 non-null   int64         \n",
      " 14  online_backup           6784 non-null   int64         \n",
      " 15  device_protection       6784 non-null   int64         \n",
      " 16  tech_support            6784 non-null   int64         \n",
      " 17  streaming_tv            6784 non-null   int64         \n",
      " 18  streaming_movies        6784 non-null   int64         \n",
      " 19  multiple_lines          6784 non-null   int64         \n",
      "dtypes: bool(3), datetime64[ns](1), float64(3), int64(11), object(2)\n",
      "memory usage: 973.9+ KB\n"
     ]
    }
   ],
   "source": [
    "filtered_df.info()"
   ]
  },
  {
   "cell_type": "code",
   "execution_count": 67,
   "metadata": {},
   "outputs": [],
   "source": [
    "df.to_csv('dataframe_filtrado_projeto_final.csv', index=False)"
   ]
  },
  {
   "cell_type": "code",
   "execution_count": 68,
   "metadata": {},
   "outputs": [],
   "source": [
    "teste = pd.read_csv('dataframe_filtrado_projeto_final.csv')"
   ]
  },
  {
   "cell_type": "code",
   "execution_count": 69,
   "metadata": {},
   "outputs": [
    {
     "data": {
      "text/html": [
       "<div>\n",
       "<style scoped>\n",
       "    .dataframe tbody tr th:only-of-type {\n",
       "        vertical-align: middle;\n",
       "    }\n",
       "\n",
       "    .dataframe tbody tr th {\n",
       "        vertical-align: top;\n",
       "    }\n",
       "\n",
       "    .dataframe thead th {\n",
       "        text-align: right;\n",
       "    }\n",
       "</style>\n",
       "<table border=\"1\" class=\"dataframe\">\n",
       "  <thead>\n",
       "    <tr style=\"text-align: right;\">\n",
       "      <th></th>\n",
       "      <th>begin_date</th>\n",
       "      <th>is_client</th>\n",
       "      <th>time_of_contract_years</th>\n",
       "      <th>type</th>\n",
       "      <th>paperless_billing</th>\n",
       "      <th>payment_method</th>\n",
       "      <th>monthly_charges</th>\n",
       "      <th>total_charges</th>\n",
       "      <th>gender</th>\n",
       "      <th>senior_citizen</th>\n",
       "      <th>partner</th>\n",
       "      <th>dependents</th>\n",
       "      <th>internet_service</th>\n",
       "      <th>online_security</th>\n",
       "      <th>online_backup</th>\n",
       "      <th>device_protection</th>\n",
       "      <th>tech_support</th>\n",
       "      <th>streaming_tv</th>\n",
       "      <th>streaming_movies</th>\n",
       "      <th>multiple_lines</th>\n",
       "    </tr>\n",
       "  </thead>\n",
       "  <tbody>\n",
       "    <tr>\n",
       "      <th>0</th>\n",
       "      <td>2017-04-01</td>\n",
       "      <td>1</td>\n",
       "      <td>2.84</td>\n",
       "      <td>One year</td>\n",
       "      <td>False</td>\n",
       "      <td>Mailed check</td>\n",
       "      <td>56.95</td>\n",
       "      <td>1889.50</td>\n",
       "      <td>1</td>\n",
       "      <td>0</td>\n",
       "      <td>False</td>\n",
       "      <td>False</td>\n",
       "      <td>0</td>\n",
       "      <td>1</td>\n",
       "      <td>0</td>\n",
       "      <td>1</td>\n",
       "      <td>0</td>\n",
       "      <td>0</td>\n",
       "      <td>0</td>\n",
       "      <td>0</td>\n",
       "    </tr>\n",
       "    <tr>\n",
       "      <th>1</th>\n",
       "      <td>2019-10-01</td>\n",
       "      <td>0</td>\n",
       "      <td>0.17</td>\n",
       "      <td>Month-to-month</td>\n",
       "      <td>True</td>\n",
       "      <td>Mailed check</td>\n",
       "      <td>53.85</td>\n",
       "      <td>108.15</td>\n",
       "      <td>1</td>\n",
       "      <td>0</td>\n",
       "      <td>False</td>\n",
       "      <td>False</td>\n",
       "      <td>0</td>\n",
       "      <td>1</td>\n",
       "      <td>1</td>\n",
       "      <td>0</td>\n",
       "      <td>0</td>\n",
       "      <td>0</td>\n",
       "      <td>0</td>\n",
       "      <td>0</td>\n",
       "    </tr>\n",
       "    <tr>\n",
       "      <th>2</th>\n",
       "      <td>2016-05-01</td>\n",
       "      <td>1</td>\n",
       "      <td>3.76</td>\n",
       "      <td>One year</td>\n",
       "      <td>False</td>\n",
       "      <td>Bank transfer (automatic)</td>\n",
       "      <td>42.30</td>\n",
       "      <td>1840.75</td>\n",
       "      <td>1</td>\n",
       "      <td>0</td>\n",
       "      <td>False</td>\n",
       "      <td>False</td>\n",
       "      <td>0</td>\n",
       "      <td>1</td>\n",
       "      <td>0</td>\n",
       "      <td>1</td>\n",
       "      <td>1</td>\n",
       "      <td>0</td>\n",
       "      <td>0</td>\n",
       "      <td>0</td>\n",
       "    </tr>\n",
       "    <tr>\n",
       "      <th>3</th>\n",
       "      <td>2019-09-01</td>\n",
       "      <td>0</td>\n",
       "      <td>0.17</td>\n",
       "      <td>Month-to-month</td>\n",
       "      <td>True</td>\n",
       "      <td>Electronic check</td>\n",
       "      <td>70.70</td>\n",
       "      <td>151.65</td>\n",
       "      <td>0</td>\n",
       "      <td>0</td>\n",
       "      <td>False</td>\n",
       "      <td>False</td>\n",
       "      <td>1</td>\n",
       "      <td>0</td>\n",
       "      <td>0</td>\n",
       "      <td>0</td>\n",
       "      <td>0</td>\n",
       "      <td>0</td>\n",
       "      <td>0</td>\n",
       "      <td>0</td>\n",
       "    </tr>\n",
       "    <tr>\n",
       "      <th>4</th>\n",
       "      <td>2019-03-01</td>\n",
       "      <td>0</td>\n",
       "      <td>0.67</td>\n",
       "      <td>Month-to-month</td>\n",
       "      <td>True</td>\n",
       "      <td>Electronic check</td>\n",
       "      <td>99.65</td>\n",
       "      <td>820.50</td>\n",
       "      <td>0</td>\n",
       "      <td>0</td>\n",
       "      <td>False</td>\n",
       "      <td>False</td>\n",
       "      <td>1</td>\n",
       "      <td>0</td>\n",
       "      <td>0</td>\n",
       "      <td>1</td>\n",
       "      <td>0</td>\n",
       "      <td>1</td>\n",
       "      <td>1</td>\n",
       "      <td>1</td>\n",
       "    </tr>\n",
       "  </tbody>\n",
       "</table>\n",
       "</div>"
      ],
      "text/plain": [
       "   begin_date  is_client  time_of_contract_years            type  \\\n",
       "0  2017-04-01          1                    2.84        One year   \n",
       "1  2019-10-01          0                    0.17  Month-to-month   \n",
       "2  2016-05-01          1                    3.76        One year   \n",
       "3  2019-09-01          0                    0.17  Month-to-month   \n",
       "4  2019-03-01          0                    0.67  Month-to-month   \n",
       "\n",
       "   paperless_billing             payment_method  monthly_charges  \\\n",
       "0              False               Mailed check            56.95   \n",
       "1               True               Mailed check            53.85   \n",
       "2              False  Bank transfer (automatic)            42.30   \n",
       "3               True           Electronic check            70.70   \n",
       "4               True           Electronic check            99.65   \n",
       "\n",
       "   total_charges  gender  senior_citizen  partner  dependents  \\\n",
       "0        1889.50       1               0    False       False   \n",
       "1         108.15       1               0    False       False   \n",
       "2        1840.75       1               0    False       False   \n",
       "3         151.65       0               0    False       False   \n",
       "4         820.50       0               0    False       False   \n",
       "\n",
       "   internet_service  online_security  online_backup  device_protection  \\\n",
       "0                 0                1              0                  1   \n",
       "1                 0                1              1                  0   \n",
       "2                 0                1              0                  1   \n",
       "3                 1                0              0                  0   \n",
       "4                 1                0              0                  1   \n",
       "\n",
       "   tech_support  streaming_tv  streaming_movies  multiple_lines  \n",
       "0             0             0                 0               0  \n",
       "1             0             0                 0               0  \n",
       "2             1             0                 0               0  \n",
       "3             0             0                 0               0  \n",
       "4             0             1                 1               1  "
      ]
     },
     "execution_count": 69,
     "metadata": {},
     "output_type": "execute_result"
    }
   ],
   "source": [
    "teste.head()"
   ]
  },
  {
   "cell_type": "code",
   "execution_count": null,
   "metadata": {},
   "outputs": [],
   "source": []
  }
 ],
 "metadata": {
  "ExecuteTimeLog": [
   {
    "duration": 2504,
    "start_time": "2025-03-20T14:12:38.232Z"
   },
   {
    "duration": 72,
    "start_time": "2025-03-20T14:45:34.431Z"
   },
   {
    "duration": 56,
    "start_time": "2025-03-20T14:47:55.331Z"
   },
   {
    "duration": 3,
    "start_time": "2025-03-20T15:52:22.954Z"
   },
   {
    "duration": 3,
    "start_time": "2025-03-20T15:52:45.064Z"
   },
   {
    "duration": 7,
    "start_time": "2025-03-20T15:53:16.424Z"
   },
   {
    "duration": 5,
    "start_time": "2025-03-20T19:03:16.605Z"
   },
   {
    "duration": 4,
    "start_time": "2025-03-20T19:03:17.385Z"
   },
   {
    "duration": 8,
    "start_time": "2025-03-20T19:09:42.663Z"
   },
   {
    "duration": 10,
    "start_time": "2025-03-20T19:14:27.919Z"
   },
   {
    "duration": 13,
    "start_time": "2025-03-20T19:17:28.215Z"
   },
   {
    "duration": 5,
    "start_time": "2025-03-20T19:20:38.925Z"
   },
   {
    "duration": 5,
    "start_time": "2025-03-20T19:23:53.425Z"
   },
   {
    "duration": 11,
    "start_time": "2025-03-20T19:24:24.640Z"
   },
   {
    "duration": 5,
    "start_time": "2025-03-20T19:28:44.582Z"
   },
   {
    "duration": 13,
    "start_time": "2025-03-20T19:29:06.292Z"
   },
   {
    "duration": 5,
    "start_time": "2025-03-20T19:31:38.776Z"
   },
   {
    "duration": 858,
    "start_time": "2025-03-20T19:31:53.609Z"
   },
   {
    "duration": 7,
    "start_time": "2025-03-20T19:33:22.682Z"
   },
   {
    "duration": 3,
    "start_time": "2025-03-20T19:36:29.967Z"
   },
   {
    "duration": 40,
    "start_time": "2025-03-20T19:36:29.972Z"
   },
   {
    "duration": 54,
    "start_time": "2025-03-20T19:36:30.013Z"
   },
   {
    "duration": 3,
    "start_time": "2025-03-20T19:36:30.070Z"
   },
   {
    "duration": 38,
    "start_time": "2025-03-20T19:36:30.075Z"
   },
   {
    "duration": 6,
    "start_time": "2025-03-20T19:36:30.115Z"
   },
   {
    "duration": 5,
    "start_time": "2025-03-20T19:36:30.123Z"
   },
   {
    "duration": 8,
    "start_time": "2025-03-20T19:36:30.129Z"
   },
   {
    "duration": 11,
    "start_time": "2025-03-20T19:36:30.140Z"
   },
   {
    "duration": 5,
    "start_time": "2025-03-20T19:36:30.153Z"
   },
   {
    "duration": 6,
    "start_time": "2025-03-20T19:36:30.160Z"
   },
   {
    "duration": 51,
    "start_time": "2025-03-20T19:36:30.168Z"
   },
   {
    "duration": 13,
    "start_time": "2025-03-20T19:36:30.220Z"
   },
   {
    "duration": 4,
    "start_time": "2025-03-20T19:39:35.432Z"
   },
   {
    "duration": 6,
    "start_time": "2025-03-20T19:41:23.415Z"
   },
   {
    "duration": 4,
    "start_time": "2025-03-20T19:41:41.615Z"
   },
   {
    "duration": 3,
    "start_time": "2025-03-20T19:44:13.484Z"
   },
   {
    "duration": 7,
    "start_time": "2025-03-20T19:52:39.843Z"
   },
   {
    "duration": 13,
    "start_time": "2025-03-20T19:57:19.320Z"
   },
   {
    "duration": 7,
    "start_time": "2025-03-20T19:59:11.924Z"
   },
   {
    "duration": 3,
    "start_time": "2025-03-20T20:06:31.661Z"
   },
   {
    "duration": 12,
    "start_time": "2025-03-20T20:06:59.869Z"
   },
   {
    "duration": 12,
    "start_time": "2025-03-20T20:09:17.411Z"
   },
   {
    "duration": 10,
    "start_time": "2025-03-20T20:10:13.495Z"
   },
   {
    "duration": 8,
    "start_time": "2025-03-20T20:12:16.734Z"
   },
   {
    "duration": 126,
    "start_time": "2025-03-20T20:14:39.847Z"
   },
   {
    "duration": 3,
    "start_time": "2025-03-20T20:16:12.796Z"
   },
   {
    "duration": 41,
    "start_time": "2025-03-20T20:16:12.804Z"
   },
   {
    "duration": 71,
    "start_time": "2025-03-20T20:16:12.848Z"
   },
   {
    "duration": 3,
    "start_time": "2025-03-20T20:16:12.921Z"
   },
   {
    "duration": 3,
    "start_time": "2025-03-20T20:16:12.927Z"
   },
   {
    "duration": 4,
    "start_time": "2025-03-20T20:16:12.932Z"
   },
   {
    "duration": 3,
    "start_time": "2025-03-20T20:16:12.938Z"
   },
   {
    "duration": 7,
    "start_time": "2025-03-20T20:16:12.943Z"
   },
   {
    "duration": 12,
    "start_time": "2025-03-20T20:16:12.952Z"
   },
   {
    "duration": 46,
    "start_time": "2025-03-20T20:16:12.966Z"
   },
   {
    "duration": 5,
    "start_time": "2025-03-20T20:16:13.014Z"
   },
   {
    "duration": 10,
    "start_time": "2025-03-20T20:16:13.021Z"
   },
   {
    "duration": 11,
    "start_time": "2025-03-20T20:16:13.032Z"
   },
   {
    "duration": 6,
    "start_time": "2025-03-20T20:16:13.045Z"
   },
   {
    "duration": 5,
    "start_time": "2025-03-20T20:16:13.052Z"
   },
   {
    "duration": 3,
    "start_time": "2025-03-20T20:16:13.058Z"
   },
   {
    "duration": 6,
    "start_time": "2025-03-20T20:16:13.063Z"
   },
   {
    "duration": 5,
    "start_time": "2025-03-20T20:16:13.111Z"
   },
   {
    "duration": 5,
    "start_time": "2025-03-20T20:16:13.118Z"
   },
   {
    "duration": 2,
    "start_time": "2025-03-20T20:16:13.125Z"
   },
   {
    "duration": 12,
    "start_time": "2025-03-20T20:16:13.128Z"
   },
   {
    "duration": 11,
    "start_time": "2025-03-20T20:16:13.142Z"
   },
   {
    "duration": 8,
    "start_time": "2025-03-20T20:16:13.155Z"
   },
   {
    "duration": 6,
    "start_time": "2025-03-20T20:16:13.165Z"
   },
   {
    "duration": 22,
    "start_time": "2025-03-20T21:09:05.925Z"
   },
   {
    "duration": 9,
    "start_time": "2025-03-20T21:09:59.487Z"
   },
   {
    "duration": 13,
    "start_time": "2025-03-20T21:10:35.851Z"
   },
   {
    "duration": 5,
    "start_time": "2025-03-20T21:13:39.798Z"
   },
   {
    "duration": 16,
    "start_time": "2025-03-20T21:17:49.944Z"
   },
   {
    "duration": 18,
    "start_time": "2025-03-20T21:29:52.911Z"
   },
   {
    "duration": 11,
    "start_time": "2025-03-20T21:30:06.604Z"
   },
   {
    "duration": 2,
    "start_time": "2025-03-20T21:32:48.843Z"
   },
   {
    "duration": 8,
    "start_time": "2025-03-20T21:32:59.635Z"
   },
   {
    "duration": 6,
    "start_time": "2025-03-20T21:33:59.447Z"
   },
   {
    "duration": 8,
    "start_time": "2025-03-20T21:34:05.517Z"
   },
   {
    "duration": 20,
    "start_time": "2025-03-20T21:39:45.572Z"
   },
   {
    "duration": 19,
    "start_time": "2025-03-20T21:40:14.565Z"
   },
   {
    "duration": 2,
    "start_time": "2025-03-20T21:42:10.637Z"
   },
   {
    "duration": 37,
    "start_time": "2025-03-20T21:42:10.641Z"
   },
   {
    "duration": 49,
    "start_time": "2025-03-20T21:42:10.681Z"
   },
   {
    "duration": 3,
    "start_time": "2025-03-20T21:42:10.732Z"
   },
   {
    "duration": 4,
    "start_time": "2025-03-20T21:42:10.738Z"
   },
   {
    "duration": 5,
    "start_time": "2025-03-20T21:42:10.743Z"
   },
   {
    "duration": 4,
    "start_time": "2025-03-20T21:42:10.750Z"
   },
   {
    "duration": 8,
    "start_time": "2025-03-20T21:42:10.755Z"
   },
   {
    "duration": 53,
    "start_time": "2025-03-20T21:42:10.764Z"
   },
   {
    "duration": 5,
    "start_time": "2025-03-20T21:42:10.819Z"
   },
   {
    "duration": 5,
    "start_time": "2025-03-20T21:42:10.827Z"
   },
   {
    "duration": 10,
    "start_time": "2025-03-20T21:42:10.833Z"
   },
   {
    "duration": 11,
    "start_time": "2025-03-20T21:42:10.844Z"
   },
   {
    "duration": 6,
    "start_time": "2025-03-20T21:42:10.856Z"
   },
   {
    "duration": 5,
    "start_time": "2025-03-20T21:42:10.863Z"
   },
   {
    "duration": 3,
    "start_time": "2025-03-20T21:42:10.869Z"
   },
   {
    "duration": 6,
    "start_time": "2025-03-20T21:42:10.912Z"
   },
   {
    "duration": 5,
    "start_time": "2025-03-20T21:42:10.920Z"
   },
   {
    "duration": 6,
    "start_time": "2025-03-20T21:42:10.927Z"
   },
   {
    "duration": 2,
    "start_time": "2025-03-20T21:42:10.935Z"
   },
   {
    "duration": 10,
    "start_time": "2025-03-20T21:42:10.939Z"
   },
   {
    "duration": 11,
    "start_time": "2025-03-20T21:42:10.951Z"
   },
   {
    "duration": 8,
    "start_time": "2025-03-20T21:42:10.963Z"
   },
   {
    "duration": 43,
    "start_time": "2025-03-20T21:42:10.973Z"
   },
   {
    "duration": 3,
    "start_time": "2025-03-20T21:42:11.018Z"
   },
   {
    "duration": 13,
    "start_time": "2025-03-20T21:42:11.023Z"
   },
   {
    "duration": 18,
    "start_time": "2025-03-20T21:42:11.038Z"
   },
   {
    "duration": 10,
    "start_time": "2025-03-20T21:42:11.057Z"
   },
   {
    "duration": 4,
    "start_time": "2025-03-20T21:42:11.070Z"
   },
   {
    "duration": 41,
    "start_time": "2025-03-20T21:42:11.075Z"
   },
   {
    "duration": 5,
    "start_time": "2025-03-20T21:42:11.118Z"
   },
   {
    "duration": 7,
    "start_time": "2025-03-20T21:42:11.125Z"
   },
   {
    "duration": 19,
    "start_time": "2025-03-20T21:42:11.134Z"
   },
   {
    "duration": 14,
    "start_time": "2025-03-20T21:43:15.068Z"
   },
   {
    "duration": 8,
    "start_time": "2025-03-20T21:44:12.127Z"
   },
   {
    "duration": 10,
    "start_time": "2025-03-20T21:44:26.351Z"
   },
   {
    "duration": 13,
    "start_time": "2025-03-20T21:45:28.295Z"
   },
   {
    "duration": 3,
    "start_time": "2025-03-20T21:47:36.339Z"
   },
   {
    "duration": 15,
    "start_time": "2025-03-20T21:47:46.621Z"
   },
   {
    "duration": 14,
    "start_time": "2025-03-20T21:48:02.547Z"
   },
   {
    "duration": 11,
    "start_time": "2025-03-20T21:50:51.959Z"
   },
   {
    "duration": 6,
    "start_time": "2025-03-20T21:53:28.221Z"
   },
   {
    "duration": 10,
    "start_time": "2025-03-20T21:53:37.573Z"
   },
   {
    "duration": 5,
    "start_time": "2025-03-20T21:59:42.893Z"
   },
   {
    "duration": 12,
    "start_time": "2025-03-20T21:59:55.191Z"
   },
   {
    "duration": 156,
    "start_time": "2025-03-21T10:47:52.604Z"
   },
   {
    "duration": 2559,
    "start_time": "2025-03-21T10:48:03.953Z"
   },
   {
    "duration": 61,
    "start_time": "2025-03-21T10:48:06.514Z"
   },
   {
    "duration": 54,
    "start_time": "2025-03-21T10:48:06.577Z"
   },
   {
    "duration": 3,
    "start_time": "2025-03-21T10:48:06.633Z"
   },
   {
    "duration": 4,
    "start_time": "2025-03-21T10:48:06.645Z"
   },
   {
    "duration": 4,
    "start_time": "2025-03-21T10:48:06.651Z"
   },
   {
    "duration": 4,
    "start_time": "2025-03-21T10:48:06.656Z"
   },
   {
    "duration": 7,
    "start_time": "2025-03-21T10:48:06.662Z"
   },
   {
    "duration": 12,
    "start_time": "2025-03-21T10:48:06.671Z"
   },
   {
    "duration": 5,
    "start_time": "2025-03-21T10:48:06.684Z"
   },
   {
    "duration": 5,
    "start_time": "2025-03-21T10:48:06.691Z"
   },
   {
    "duration": 51,
    "start_time": "2025-03-21T10:48:06.698Z"
   },
   {
    "duration": 11,
    "start_time": "2025-03-21T10:48:06.751Z"
   },
   {
    "duration": 5,
    "start_time": "2025-03-21T10:48:06.767Z"
   },
   {
    "duration": 5,
    "start_time": "2025-03-21T10:48:06.773Z"
   },
   {
    "duration": 5,
    "start_time": "2025-03-21T10:48:06.780Z"
   },
   {
    "duration": 7,
    "start_time": "2025-03-21T10:48:06.786Z"
   },
   {
    "duration": 6,
    "start_time": "2025-03-21T10:48:06.794Z"
   },
   {
    "duration": 45,
    "start_time": "2025-03-21T10:48:06.802Z"
   },
   {
    "duration": 3,
    "start_time": "2025-03-21T10:48:06.848Z"
   },
   {
    "duration": 12,
    "start_time": "2025-03-21T10:48:06.853Z"
   },
   {
    "duration": 10,
    "start_time": "2025-03-21T10:48:06.866Z"
   },
   {
    "duration": 9,
    "start_time": "2025-03-21T10:48:06.878Z"
   },
   {
    "duration": 7,
    "start_time": "2025-03-21T10:48:06.888Z"
   },
   {
    "duration": 3,
    "start_time": "2025-03-21T10:48:06.896Z"
   },
   {
    "duration": 50,
    "start_time": "2025-03-21T10:48:06.901Z"
   },
   {
    "duration": 18,
    "start_time": "2025-03-21T10:48:06.952Z"
   },
   {
    "duration": 9,
    "start_time": "2025-03-21T10:48:06.971Z"
   },
   {
    "duration": 3,
    "start_time": "2025-03-21T10:48:06.982Z"
   },
   {
    "duration": 8,
    "start_time": "2025-03-21T10:48:06.987Z"
   },
   {
    "duration": 5,
    "start_time": "2025-03-21T10:48:06.997Z"
   },
   {
    "duration": 40,
    "start_time": "2025-03-21T10:48:07.004Z"
   },
   {
    "duration": 20,
    "start_time": "2025-03-21T10:48:07.046Z"
   },
   {
    "duration": 13,
    "start_time": "2025-03-21T10:48:07.068Z"
   },
   {
    "duration": 11,
    "start_time": "2025-03-21T10:48:07.083Z"
   },
   {
    "duration": 3,
    "start_time": "2025-03-21T10:48:07.095Z"
   },
   {
    "duration": 44,
    "start_time": "2025-03-21T10:48:07.099Z"
   },
   {
    "duration": 11,
    "start_time": "2025-03-21T10:48:07.145Z"
   },
   {
    "duration": 7,
    "start_time": "2025-03-21T10:48:07.157Z"
   },
   {
    "duration": 10,
    "start_time": "2025-03-21T10:48:07.165Z"
   },
   {
    "duration": 5,
    "start_time": "2025-03-21T10:48:07.179Z"
   },
   {
    "duration": 11,
    "start_time": "2025-03-21T10:48:07.185Z"
   },
   {
    "duration": 110,
    "start_time": "2025-03-21T10:48:07.198Z"
   },
   {
    "duration": 5,
    "start_time": "2025-03-21T10:48:30.224Z"
   },
   {
    "duration": 4,
    "start_time": "2025-03-21T10:48:44.254Z"
   },
   {
    "duration": 4,
    "start_time": "2025-03-21T10:48:44.890Z"
   },
   {
    "duration": 4,
    "start_time": "2025-03-21T10:48:51.151Z"
   },
   {
    "duration": 3,
    "start_time": "2025-03-21T17:03:50.183Z"
   },
   {
    "duration": 39,
    "start_time": "2025-03-21T17:03:50.187Z"
   },
   {
    "duration": 53,
    "start_time": "2025-03-21T17:03:50.228Z"
   },
   {
    "duration": 3,
    "start_time": "2025-03-21T17:03:50.283Z"
   },
   {
    "duration": 4,
    "start_time": "2025-03-21T17:03:50.288Z"
   },
   {
    "duration": 5,
    "start_time": "2025-03-21T17:03:50.293Z"
   },
   {
    "duration": 3,
    "start_time": "2025-03-21T17:03:50.301Z"
   },
   {
    "duration": 44,
    "start_time": "2025-03-21T17:03:50.305Z"
   },
   {
    "duration": 12,
    "start_time": "2025-03-21T17:03:50.350Z"
   },
   {
    "duration": 5,
    "start_time": "2025-03-21T17:03:50.365Z"
   },
   {
    "duration": 5,
    "start_time": "2025-03-21T17:03:50.371Z"
   },
   {
    "duration": 9,
    "start_time": "2025-03-21T17:03:50.377Z"
   },
   {
    "duration": 11,
    "start_time": "2025-03-21T17:03:50.388Z"
   },
   {
    "duration": 5,
    "start_time": "2025-03-21T17:03:50.401Z"
   },
   {
    "duration": 39,
    "start_time": "2025-03-21T17:03:50.407Z"
   },
   {
    "duration": 3,
    "start_time": "2025-03-21T17:03:50.447Z"
   },
   {
    "duration": 6,
    "start_time": "2025-03-21T17:03:50.452Z"
   },
   {
    "duration": 5,
    "start_time": "2025-03-21T17:03:50.460Z"
   },
   {
    "duration": 6,
    "start_time": "2025-03-21T17:03:50.467Z"
   },
   {
    "duration": 2,
    "start_time": "2025-03-21T17:03:50.475Z"
   },
   {
    "duration": 15,
    "start_time": "2025-03-21T17:03:50.479Z"
   },
   {
    "duration": 50,
    "start_time": "2025-03-21T17:03:50.498Z"
   },
   {
    "duration": 9,
    "start_time": "2025-03-21T17:03:50.550Z"
   },
   {
    "duration": 7,
    "start_time": "2025-03-21T17:03:50.561Z"
   },
   {
    "duration": 4,
    "start_time": "2025-03-21T17:03:50.569Z"
   },
   {
    "duration": 13,
    "start_time": "2025-03-21T17:03:50.576Z"
   },
   {
    "duration": 18,
    "start_time": "2025-03-21T17:03:50.590Z"
   },
   {
    "duration": 9,
    "start_time": "2025-03-21T17:03:50.642Z"
   },
   {
    "duration": 4,
    "start_time": "2025-03-21T17:03:50.653Z"
   },
   {
    "duration": 8,
    "start_time": "2025-03-21T17:03:50.660Z"
   },
   {
    "duration": 5,
    "start_time": "2025-03-21T17:03:50.671Z"
   },
   {
    "duration": 9,
    "start_time": "2025-03-21T17:03:50.677Z"
   },
   {
    "duration": 20,
    "start_time": "2025-03-21T17:03:50.688Z"
   },
   {
    "duration": 47,
    "start_time": "2025-03-21T17:03:50.709Z"
   },
   {
    "duration": 11,
    "start_time": "2025-03-21T17:03:50.757Z"
   },
   {
    "duration": 3,
    "start_time": "2025-03-21T17:03:50.769Z"
   },
   {
    "duration": 14,
    "start_time": "2025-03-21T17:03:50.774Z"
   },
   {
    "duration": 12,
    "start_time": "2025-03-21T17:03:50.790Z"
   },
   {
    "duration": 7,
    "start_time": "2025-03-21T17:03:50.803Z"
   },
   {
    "duration": 14,
    "start_time": "2025-03-21T17:03:50.843Z"
   },
   {
    "duration": 4,
    "start_time": "2025-03-21T17:03:50.859Z"
   },
   {
    "duration": 12,
    "start_time": "2025-03-21T17:03:50.865Z"
   },
   {
    "duration": 5,
    "start_time": "2025-03-21T17:06:58.793Z"
   },
   {
    "duration": 87,
    "start_time": "2025-03-21T17:08:33.481Z"
   },
   {
    "duration": 5,
    "start_time": "2025-03-21T17:15:48.495Z"
   },
   {
    "duration": 1114,
    "start_time": "2025-03-21T17:16:49.270Z"
   },
   {
    "duration": 317,
    "start_time": "2025-03-21T17:18:20.412Z"
   },
   {
    "duration": 378,
    "start_time": "2025-03-21T17:18:32.473Z"
   },
   {
    "duration": 1100,
    "start_time": "2025-03-21T17:20:22.666Z"
   },
   {
    "duration": 1083,
    "start_time": "2025-03-21T17:22:16.337Z"
   },
   {
    "duration": 311,
    "start_time": "2025-03-21T18:46:15.658Z"
   },
   {
    "duration": 3,
    "start_time": "2025-03-21T18:47:49.729Z"
   },
   {
    "duration": 37,
    "start_time": "2025-03-21T18:47:49.734Z"
   },
   {
    "duration": 50,
    "start_time": "2025-03-21T18:47:49.773Z"
   },
   {
    "duration": 20,
    "start_time": "2025-03-21T18:47:49.824Z"
   },
   {
    "duration": 4,
    "start_time": "2025-03-21T18:47:49.847Z"
   },
   {
    "duration": 5,
    "start_time": "2025-03-21T18:47:49.852Z"
   },
   {
    "duration": 4,
    "start_time": "2025-03-21T18:47:49.859Z"
   },
   {
    "duration": 6,
    "start_time": "2025-03-21T18:47:49.865Z"
   },
   {
    "duration": 12,
    "start_time": "2025-03-21T18:47:49.873Z"
   },
   {
    "duration": 5,
    "start_time": "2025-03-21T18:47:49.886Z"
   },
   {
    "duration": 51,
    "start_time": "2025-03-21T18:47:49.893Z"
   },
   {
    "duration": 10,
    "start_time": "2025-03-21T18:47:49.945Z"
   },
   {
    "duration": 11,
    "start_time": "2025-03-21T18:47:49.959Z"
   },
   {
    "duration": 6,
    "start_time": "2025-03-21T18:47:49.971Z"
   },
   {
    "duration": 4,
    "start_time": "2025-03-21T18:47:49.979Z"
   },
   {
    "duration": 2,
    "start_time": "2025-03-21T18:47:49.986Z"
   },
   {
    "duration": 18,
    "start_time": "2025-03-21T18:47:49.990Z"
   },
   {
    "duration": 37,
    "start_time": "2025-03-21T18:47:50.009Z"
   },
   {
    "duration": 6,
    "start_time": "2025-03-21T18:47:50.048Z"
   },
   {
    "duration": 3,
    "start_time": "2025-03-21T18:47:50.055Z"
   },
   {
    "duration": 11,
    "start_time": "2025-03-21T18:47:50.060Z"
   },
   {
    "duration": 11,
    "start_time": "2025-03-21T18:47:50.072Z"
   },
   {
    "duration": 9,
    "start_time": "2025-03-21T18:47:50.084Z"
   },
   {
    "duration": 7,
    "start_time": "2025-03-21T18:47:50.094Z"
   },
   {
    "duration": 2,
    "start_time": "2025-03-21T18:47:50.142Z"
   },
   {
    "duration": 13,
    "start_time": "2025-03-21T18:47:50.146Z"
   },
   {
    "duration": 17,
    "start_time": "2025-03-21T18:47:50.160Z"
   },
   {
    "duration": 8,
    "start_time": "2025-03-21T18:47:50.179Z"
   },
   {
    "duration": 3,
    "start_time": "2025-03-21T18:47:50.189Z"
   },
   {
    "duration": 10,
    "start_time": "2025-03-21T18:47:50.193Z"
   },
   {
    "duration": 5,
    "start_time": "2025-03-21T18:47:50.204Z"
   },
   {
    "duration": 9,
    "start_time": "2025-03-21T18:47:50.243Z"
   },
   {
    "duration": 28,
    "start_time": "2025-03-21T18:47:50.253Z"
   },
   {
    "duration": 21,
    "start_time": "2025-03-21T18:47:50.283Z"
   },
   {
    "duration": 38,
    "start_time": "2025-03-21T18:47:50.306Z"
   },
   {
    "duration": 3,
    "start_time": "2025-03-21T18:47:50.346Z"
   },
   {
    "duration": 19,
    "start_time": "2025-03-21T18:47:50.354Z"
   },
   {
    "duration": 10,
    "start_time": "2025-03-21T18:47:50.375Z"
   },
   {
    "duration": 6,
    "start_time": "2025-03-21T18:47:50.387Z"
   },
   {
    "duration": 9,
    "start_time": "2025-03-21T18:47:50.395Z"
   },
   {
    "duration": 37,
    "start_time": "2025-03-21T18:47:50.406Z"
   },
   {
    "duration": 11,
    "start_time": "2025-03-21T18:47:50.445Z"
   },
   {
    "duration": 52,
    "start_time": "2025-03-21T18:47:50.458Z"
   },
   {
    "duration": 0,
    "start_time": "2025-03-21T18:47:50.512Z"
   },
   {
    "duration": 0,
    "start_time": "2025-03-21T18:47:50.513Z"
   },
   {
    "duration": 0,
    "start_time": "2025-03-21T18:47:50.514Z"
   },
   {
    "duration": 0,
    "start_time": "2025-03-21T18:47:50.515Z"
   },
   {
    "duration": 5,
    "start_time": "2025-03-21T18:49:06.950Z"
   },
   {
    "duration": 117,
    "start_time": "2025-03-21T18:49:23.428Z"
   },
   {
    "duration": 5,
    "start_time": "2025-03-21T18:49:32.424Z"
   },
   {
    "duration": 1056,
    "start_time": "2025-03-21T18:49:33.927Z"
   },
   {
    "duration": 1104,
    "start_time": "2025-03-21T18:49:38.671Z"
   },
   {
    "duration": 46,
    "start_time": "2025-03-21T18:59:27.067Z"
   },
   {
    "duration": 3,
    "start_time": "2025-03-21T18:59:36.262Z"
   },
   {
    "duration": 41,
    "start_time": "2025-03-21T18:59:36.267Z"
   },
   {
    "duration": 69,
    "start_time": "2025-03-21T18:59:36.310Z"
   },
   {
    "duration": 4,
    "start_time": "2025-03-21T18:59:36.382Z"
   },
   {
    "duration": 4,
    "start_time": "2025-03-21T18:59:36.388Z"
   },
   {
    "duration": 6,
    "start_time": "2025-03-21T18:59:36.393Z"
   },
   {
    "duration": 6,
    "start_time": "2025-03-21T18:59:36.402Z"
   },
   {
    "duration": 9,
    "start_time": "2025-03-21T18:59:36.444Z"
   },
   {
    "duration": 15,
    "start_time": "2025-03-21T18:59:36.456Z"
   },
   {
    "duration": 5,
    "start_time": "2025-03-21T18:59:36.473Z"
   },
   {
    "duration": 5,
    "start_time": "2025-03-21T18:59:36.480Z"
   },
   {
    "duration": 11,
    "start_time": "2025-03-21T18:59:36.487Z"
   },
   {
    "duration": 46,
    "start_time": "2025-03-21T18:59:36.499Z"
   },
   {
    "duration": 8,
    "start_time": "2025-03-21T18:59:36.547Z"
   },
   {
    "duration": 4,
    "start_time": "2025-03-21T18:59:36.557Z"
   },
   {
    "duration": 4,
    "start_time": "2025-03-21T18:59:36.563Z"
   },
   {
    "duration": 22,
    "start_time": "2025-03-21T18:59:36.568Z"
   },
   {
    "duration": 6,
    "start_time": "2025-03-21T18:59:36.592Z"
   },
   {
    "duration": 10,
    "start_time": "2025-03-21T18:59:36.600Z"
   },
   {
    "duration": 32,
    "start_time": "2025-03-21T18:59:36.612Z"
   },
   {
    "duration": 12,
    "start_time": "2025-03-21T18:59:36.646Z"
   },
   {
    "duration": 15,
    "start_time": "2025-03-21T18:59:36.660Z"
   },
   {
    "duration": 9,
    "start_time": "2025-03-21T18:59:36.676Z"
   },
   {
    "duration": 7,
    "start_time": "2025-03-21T18:59:36.689Z"
   },
   {
    "duration": 3,
    "start_time": "2025-03-21T18:59:36.698Z"
   },
   {
    "duration": 53,
    "start_time": "2025-03-21T18:59:36.703Z"
   },
   {
    "duration": 19,
    "start_time": "2025-03-21T18:59:36.759Z"
   },
   {
    "duration": 11,
    "start_time": "2025-03-21T18:59:36.780Z"
   },
   {
    "duration": 3,
    "start_time": "2025-03-21T18:59:36.794Z"
   },
   {
    "duration": 44,
    "start_time": "2025-03-21T18:59:36.799Z"
   },
   {
    "duration": 5,
    "start_time": "2025-03-21T18:59:36.845Z"
   },
   {
    "duration": 11,
    "start_time": "2025-03-21T18:59:36.852Z"
   },
   {
    "duration": 23,
    "start_time": "2025-03-21T18:59:36.865Z"
   },
   {
    "duration": 20,
    "start_time": "2025-03-21T18:59:36.890Z"
   },
   {
    "duration": 42,
    "start_time": "2025-03-21T18:59:36.912Z"
   },
   {
    "duration": 4,
    "start_time": "2025-03-21T18:59:36.956Z"
   },
   {
    "duration": 27,
    "start_time": "2025-03-21T18:59:36.962Z"
   },
   {
    "duration": 14,
    "start_time": "2025-03-21T18:59:36.992Z"
   },
   {
    "duration": 36,
    "start_time": "2025-03-21T18:59:37.008Z"
   },
   {
    "duration": 12,
    "start_time": "2025-03-21T18:59:37.046Z"
   },
   {
    "duration": 6,
    "start_time": "2025-03-21T18:59:37.060Z"
   },
   {
    "duration": 13,
    "start_time": "2025-03-21T18:59:37.068Z"
   },
   {
    "duration": 5,
    "start_time": "2025-03-21T18:59:37.083Z"
   },
   {
    "duration": 113,
    "start_time": "2025-03-21T18:59:37.089Z"
   },
   {
    "duration": 5,
    "start_time": "2025-03-21T18:59:37.204Z"
   },
   {
    "duration": 1158,
    "start_time": "2025-03-21T18:59:37.211Z"
   },
   {
    "duration": 1230,
    "start_time": "2025-03-21T18:59:38.371Z"
   },
   {
    "duration": 172,
    "start_time": "2025-03-22T13:03:38.922Z"
   },
   {
    "duration": 2544,
    "start_time": "2025-03-22T13:03:45.462Z"
   },
   {
    "duration": 60,
    "start_time": "2025-03-22T13:03:48.010Z"
   },
   {
    "duration": 53,
    "start_time": "2025-03-22T13:03:48.072Z"
   },
   {
    "duration": 3,
    "start_time": "2025-03-22T13:03:48.127Z"
   },
   {
    "duration": 4,
    "start_time": "2025-03-22T13:03:48.132Z"
   },
   {
    "duration": 5,
    "start_time": "2025-03-22T13:03:48.138Z"
   },
   {
    "duration": 3,
    "start_time": "2025-03-22T13:03:48.145Z"
   },
   {
    "duration": 7,
    "start_time": "2025-03-22T13:03:48.150Z"
   },
   {
    "duration": 54,
    "start_time": "2025-03-22T13:03:48.159Z"
   },
   {
    "duration": 6,
    "start_time": "2025-03-22T13:03:48.218Z"
   },
   {
    "duration": 5,
    "start_time": "2025-03-22T13:03:48.225Z"
   },
   {
    "duration": 10,
    "start_time": "2025-03-22T13:03:48.231Z"
   },
   {
    "duration": 12,
    "start_time": "2025-03-22T13:03:48.242Z"
   },
   {
    "duration": 5,
    "start_time": "2025-03-22T13:03:48.257Z"
   },
   {
    "duration": 5,
    "start_time": "2025-03-22T13:03:48.265Z"
   },
   {
    "duration": 3,
    "start_time": "2025-03-22T13:03:48.306Z"
   },
   {
    "duration": 21,
    "start_time": "2025-03-22T13:03:48.311Z"
   },
   {
    "duration": 6,
    "start_time": "2025-03-22T13:03:48.333Z"
   },
   {
    "duration": 6,
    "start_time": "2025-03-22T13:03:48.340Z"
   },
   {
    "duration": 2,
    "start_time": "2025-03-22T13:03:48.348Z"
   },
   {
    "duration": 10,
    "start_time": "2025-03-22T13:03:48.352Z"
   },
   {
    "duration": 48,
    "start_time": "2025-03-22T13:03:48.363Z"
   },
   {
    "duration": 9,
    "start_time": "2025-03-22T13:03:48.413Z"
   },
   {
    "duration": 7,
    "start_time": "2025-03-22T13:03:48.423Z"
   },
   {
    "duration": 3,
    "start_time": "2025-03-22T13:03:48.431Z"
   },
   {
    "duration": 14,
    "start_time": "2025-03-22T13:03:48.436Z"
   },
   {
    "duration": 18,
    "start_time": "2025-03-22T13:03:48.451Z"
   },
   {
    "duration": 10,
    "start_time": "2025-03-22T13:03:48.506Z"
   },
   {
    "duration": 3,
    "start_time": "2025-03-22T13:03:48.518Z"
   },
   {
    "duration": 8,
    "start_time": "2025-03-22T13:03:48.523Z"
   },
   {
    "duration": 5,
    "start_time": "2025-03-22T13:03:48.533Z"
   },
   {
    "duration": 7,
    "start_time": "2025-03-22T13:03:48.540Z"
   },
   {
    "duration": 20,
    "start_time": "2025-03-22T13:03:48.549Z"
   },
   {
    "duration": 50,
    "start_time": "2025-03-22T13:03:48.571Z"
   },
   {
    "duration": 11,
    "start_time": "2025-03-22T13:03:48.622Z"
   },
   {
    "duration": 3,
    "start_time": "2025-03-22T13:03:48.635Z"
   },
   {
    "duration": 18,
    "start_time": "2025-03-22T13:03:48.640Z"
   },
   {
    "duration": 9,
    "start_time": "2025-03-22T13:03:48.659Z"
   },
   {
    "duration": 5,
    "start_time": "2025-03-22T13:03:48.670Z"
   },
   {
    "duration": 40,
    "start_time": "2025-03-22T13:03:48.676Z"
   },
   {
    "duration": 5,
    "start_time": "2025-03-22T13:03:48.718Z"
   },
   {
    "duration": 12,
    "start_time": "2025-03-22T13:03:48.725Z"
   },
   {
    "duration": 6,
    "start_time": "2025-03-22T13:03:48.739Z"
   },
   {
    "duration": 123,
    "start_time": "2025-03-22T13:03:48.746Z"
   },
   {
    "duration": 5,
    "start_time": "2025-03-22T13:03:48.871Z"
   },
   {
    "duration": 1083,
    "start_time": "2025-03-22T13:03:48.877Z"
   },
   {
    "duration": 85,
    "start_time": "2025-03-22T13:03:49.962Z"
   },
   {
    "duration": 3,
    "start_time": "2025-03-22T13:11:45.126Z"
   },
   {
    "duration": 33,
    "start_time": "2025-03-22T13:11:45.132Z"
   },
   {
    "duration": 59,
    "start_time": "2025-03-22T13:11:45.167Z"
   },
   {
    "duration": 3,
    "start_time": "2025-03-22T13:11:45.228Z"
   },
   {
    "duration": 4,
    "start_time": "2025-03-22T13:11:45.233Z"
   },
   {
    "duration": 4,
    "start_time": "2025-03-22T13:11:45.239Z"
   },
   {
    "duration": 3,
    "start_time": "2025-03-22T13:11:45.245Z"
   },
   {
    "duration": 6,
    "start_time": "2025-03-22T13:11:45.251Z"
   },
   {
    "duration": 49,
    "start_time": "2025-03-22T13:11:45.258Z"
   },
   {
    "duration": 6,
    "start_time": "2025-03-22T13:11:45.309Z"
   },
   {
    "duration": 4,
    "start_time": "2025-03-22T13:11:45.319Z"
   },
   {
    "duration": 9,
    "start_time": "2025-03-22T13:11:45.325Z"
   },
   {
    "duration": 13,
    "start_time": "2025-03-22T13:11:45.335Z"
   },
   {
    "duration": 5,
    "start_time": "2025-03-22T13:11:45.349Z"
   },
   {
    "duration": 4,
    "start_time": "2025-03-22T13:11:45.356Z"
   },
   {
    "duration": 3,
    "start_time": "2025-03-22T13:11:45.361Z"
   },
   {
    "duration": 59,
    "start_time": "2025-03-22T13:11:45.366Z"
   },
   {
    "duration": 6,
    "start_time": "2025-03-22T13:11:45.427Z"
   },
   {
    "duration": 8,
    "start_time": "2025-03-22T13:11:45.435Z"
   },
   {
    "duration": 2,
    "start_time": "2025-03-22T13:11:45.445Z"
   },
   {
    "duration": 10,
    "start_time": "2025-03-22T13:11:45.449Z"
   },
   {
    "duration": 11,
    "start_time": "2025-03-22T13:11:45.460Z"
   },
   {
    "duration": 9,
    "start_time": "2025-03-22T13:11:45.505Z"
   },
   {
    "duration": 7,
    "start_time": "2025-03-22T13:11:45.516Z"
   },
   {
    "duration": 3,
    "start_time": "2025-03-22T13:11:45.525Z"
   },
   {
    "duration": 15,
    "start_time": "2025-03-22T13:11:45.529Z"
   },
   {
    "duration": 17,
    "start_time": "2025-03-22T13:11:45.546Z"
   },
   {
    "duration": 41,
    "start_time": "2025-03-22T13:11:45.564Z"
   },
   {
    "duration": 2,
    "start_time": "2025-03-22T13:11:45.610Z"
   },
   {
    "duration": 11,
    "start_time": "2025-03-22T13:11:45.614Z"
   },
   {
    "duration": 6,
    "start_time": "2025-03-22T13:11:45.626Z"
   },
   {
    "duration": 8,
    "start_time": "2025-03-22T13:11:45.634Z"
   },
   {
    "duration": 19,
    "start_time": "2025-03-22T13:11:45.643Z"
   },
   {
    "duration": 51,
    "start_time": "2025-03-22T13:11:45.664Z"
   },
   {
    "duration": 10,
    "start_time": "2025-03-22T13:11:45.716Z"
   },
   {
    "duration": 4,
    "start_time": "2025-03-22T13:11:45.727Z"
   },
   {
    "duration": 18,
    "start_time": "2025-03-22T13:11:45.732Z"
   },
   {
    "duration": 9,
    "start_time": "2025-03-22T13:11:45.752Z"
   },
   {
    "duration": 5,
    "start_time": "2025-03-22T13:11:45.763Z"
   },
   {
    "duration": 42,
    "start_time": "2025-03-22T13:11:45.770Z"
   },
   {
    "duration": 4,
    "start_time": "2025-03-22T13:11:45.813Z"
   },
   {
    "duration": 12,
    "start_time": "2025-03-22T13:11:45.818Z"
   },
   {
    "duration": 5,
    "start_time": "2025-03-22T13:11:45.831Z"
   },
   {
    "duration": 104,
    "start_time": "2025-03-22T13:11:45.838Z"
   },
   {
    "duration": 4,
    "start_time": "2025-03-22T13:11:45.944Z"
   },
   {
    "duration": 1095,
    "start_time": "2025-03-22T13:11:45.950Z"
   },
   {
    "duration": 14,
    "start_time": "2025-03-22T13:11:47.047Z"
   },
   {
    "duration": 373,
    "start_time": "2025-03-22T13:26:53.314Z"
   },
   {
    "duration": 22,
    "start_time": "2025-03-22T13:28:30.329Z"
   },
   {
    "duration": 1066,
    "start_time": "2025-03-22T13:29:36.661Z"
   },
   {
    "duration": 1168,
    "start_time": "2025-03-22T13:30:07.953Z"
   },
   {
    "duration": 1057,
    "start_time": "2025-03-22T13:35:27.948Z"
   },
   {
    "duration": 12,
    "start_time": "2025-03-22T14:23:59.851Z"
   },
   {
    "duration": 12,
    "start_time": "2025-03-22T14:24:44.115Z"
   },
   {
    "duration": 1042,
    "start_time": "2025-03-22T14:28:03.159Z"
   },
   {
    "duration": 17,
    "start_time": "2025-03-22T14:33:13.860Z"
   },
   {
    "duration": 5,
    "start_time": "2025-03-22T14:35:59.516Z"
   },
   {
    "duration": 151,
    "start_time": "2025-03-22T14:39:27.458Z"
   },
   {
    "duration": 77,
    "start_time": "2025-03-22T14:40:50.043Z"
   },
   {
    "duration": 307,
    "start_time": "2025-03-22T14:45:57.393Z"
   },
   {
    "duration": 120,
    "start_time": "2025-03-22T14:48:59.356Z"
   },
   {
    "duration": 56,
    "start_time": "2025-03-22T14:52:18.483Z"
   },
   {
    "duration": 15,
    "start_time": "2025-03-22T14:53:48.446Z"
   },
   {
    "duration": 22,
    "start_time": "2025-03-22T14:56:30.763Z"
   },
   {
    "duration": 21,
    "start_time": "2025-03-22T15:02:08.596Z"
   },
   {
    "duration": 45,
    "start_time": "2025-03-22T15:02:22.740Z"
   },
   {
    "duration": 252,
    "start_time": "2025-03-22T15:08:11.063Z"
   },
   {
    "duration": 216,
    "start_time": "2025-03-22T15:14:09.640Z"
   },
   {
    "duration": 213,
    "start_time": "2025-03-22T15:16:59.143Z"
   },
   {
    "duration": 387,
    "start_time": "2025-03-22T15:22:24.165Z"
   },
   {
    "duration": 228,
    "start_time": "2025-03-22T15:24:13.543Z"
   },
   {
    "duration": 205,
    "start_time": "2025-03-22T15:28:48.858Z"
   },
   {
    "duration": 10,
    "start_time": "2025-03-22T15:31:29.630Z"
   },
   {
    "duration": 4,
    "start_time": "2025-03-22T15:32:23.063Z"
   },
   {
    "duration": 13,
    "start_time": "2025-03-22T15:35:11.147Z"
   },
   {
    "duration": 6,
    "start_time": "2025-03-22T15:35:14.468Z"
   },
   {
    "duration": 6,
    "start_time": "2025-03-22T15:55:17.248Z"
   },
   {
    "duration": 3,
    "start_time": "2025-03-22T15:55:37.625Z"
   },
   {
    "duration": 37,
    "start_time": "2025-03-22T15:55:37.632Z"
   },
   {
    "duration": 55,
    "start_time": "2025-03-22T15:55:37.672Z"
   },
   {
    "duration": 3,
    "start_time": "2025-03-22T15:55:37.728Z"
   },
   {
    "duration": 4,
    "start_time": "2025-03-22T15:55:37.733Z"
   },
   {
    "duration": 4,
    "start_time": "2025-03-22T15:55:37.739Z"
   },
   {
    "duration": 4,
    "start_time": "2025-03-22T15:55:37.745Z"
   },
   {
    "duration": 8,
    "start_time": "2025-03-22T15:55:37.750Z"
   },
   {
    "duration": 12,
    "start_time": "2025-03-22T15:55:37.805Z"
   },
   {
    "duration": 6,
    "start_time": "2025-03-22T15:55:37.819Z"
   },
   {
    "duration": 5,
    "start_time": "2025-03-22T15:55:37.827Z"
   },
   {
    "duration": 10,
    "start_time": "2025-03-22T15:55:37.833Z"
   },
   {
    "duration": 13,
    "start_time": "2025-03-22T15:55:37.844Z"
   },
   {
    "duration": 6,
    "start_time": "2025-03-22T15:55:37.858Z"
   },
   {
    "duration": 40,
    "start_time": "2025-03-22T15:55:37.867Z"
   },
   {
    "duration": 4,
    "start_time": "2025-03-22T15:55:37.908Z"
   },
   {
    "duration": 20,
    "start_time": "2025-03-22T15:55:37.914Z"
   },
   {
    "duration": 5,
    "start_time": "2025-03-22T15:55:37.935Z"
   },
   {
    "duration": 6,
    "start_time": "2025-03-22T15:55:37.941Z"
   },
   {
    "duration": 3,
    "start_time": "2025-03-22T15:55:37.949Z"
   },
   {
    "duration": 10,
    "start_time": "2025-03-22T15:55:37.953Z"
   },
   {
    "duration": 49,
    "start_time": "2025-03-22T15:55:37.965Z"
   },
   {
    "duration": 12,
    "start_time": "2025-03-22T15:55:38.016Z"
   },
   {
    "duration": 7,
    "start_time": "2025-03-22T15:55:38.029Z"
   },
   {
    "duration": 4,
    "start_time": "2025-03-22T15:55:38.038Z"
   },
   {
    "duration": 15,
    "start_time": "2025-03-22T15:55:38.043Z"
   },
   {
    "duration": 52,
    "start_time": "2025-03-22T15:55:38.060Z"
   },
   {
    "duration": 11,
    "start_time": "2025-03-22T15:55:38.114Z"
   },
   {
    "duration": 3,
    "start_time": "2025-03-22T15:55:38.126Z"
   },
   {
    "duration": 9,
    "start_time": "2025-03-22T15:55:38.131Z"
   },
   {
    "duration": 5,
    "start_time": "2025-03-22T15:55:38.142Z"
   },
   {
    "duration": 10,
    "start_time": "2025-03-22T15:55:38.150Z"
   },
   {
    "duration": 54,
    "start_time": "2025-03-22T15:55:38.161Z"
   },
   {
    "duration": 21,
    "start_time": "2025-03-22T15:55:38.216Z"
   },
   {
    "duration": 12,
    "start_time": "2025-03-22T15:55:38.239Z"
   },
   {
    "duration": 3,
    "start_time": "2025-03-22T15:55:38.252Z"
   },
   {
    "duration": 48,
    "start_time": "2025-03-22T15:55:38.258Z"
   },
   {
    "duration": 11,
    "start_time": "2025-03-22T15:55:38.308Z"
   },
   {
    "duration": 6,
    "start_time": "2025-03-22T15:55:38.321Z"
   },
   {
    "duration": 11,
    "start_time": "2025-03-22T15:55:38.329Z"
   },
   {
    "duration": 5,
    "start_time": "2025-03-22T15:55:38.341Z"
   },
   {
    "duration": 11,
    "start_time": "2025-03-22T15:55:38.352Z"
   },
   {
    "duration": 40,
    "start_time": "2025-03-22T15:55:38.365Z"
   },
   {
    "duration": 81,
    "start_time": "2025-03-22T15:55:38.407Z"
   },
   {
    "duration": 22,
    "start_time": "2025-03-22T15:55:38.504Z"
   },
   {
    "duration": 1114,
    "start_time": "2025-03-22T15:55:38.527Z"
   },
   {
    "duration": 1096,
    "start_time": "2025-03-22T15:55:39.643Z"
   },
   {
    "duration": 11,
    "start_time": "2025-03-22T15:55:40.741Z"
   },
   {
    "duration": 12,
    "start_time": "2025-03-22T15:55:40.754Z"
   },
   {
    "duration": 1039,
    "start_time": "2025-03-22T15:55:40.768Z"
   },
   {
    "duration": 6,
    "start_time": "2025-03-22T15:55:41.809Z"
   },
   {
    "duration": 89,
    "start_time": "2025-03-22T15:55:41.816Z"
   },
   {
    "duration": 6,
    "start_time": "2025-03-22T15:55:41.907Z"
   },
   {
    "duration": 4,
    "start_time": "2025-03-22T15:55:41.915Z"
   },
   {
    "duration": 12,
    "start_time": "2025-03-22T15:56:21.129Z"
   },
   {
    "duration": 429,
    "start_time": "2025-03-22T15:56:42.795Z"
   },
   {
    "duration": 3,
    "start_time": "2025-03-22T15:56:50.470Z"
   },
   {
    "duration": 30,
    "start_time": "2025-03-22T15:56:50.478Z"
   },
   {
    "duration": 95,
    "start_time": "2025-03-22T15:56:50.511Z"
   },
   {
    "duration": 5,
    "start_time": "2025-03-22T15:56:50.608Z"
   },
   {
    "duration": 5,
    "start_time": "2025-03-22T15:56:50.614Z"
   },
   {
    "duration": 5,
    "start_time": "2025-03-22T15:56:50.621Z"
   },
   {
    "duration": 4,
    "start_time": "2025-03-22T15:56:50.627Z"
   },
   {
    "duration": 6,
    "start_time": "2025-03-22T15:56:50.634Z"
   },
   {
    "duration": 11,
    "start_time": "2025-03-22T15:56:50.642Z"
   },
   {
    "duration": 6,
    "start_time": "2025-03-22T15:56:50.654Z"
   },
   {
    "duration": 47,
    "start_time": "2025-03-22T15:56:50.662Z"
   },
   {
    "duration": 10,
    "start_time": "2025-03-22T15:56:50.712Z"
   },
   {
    "duration": 11,
    "start_time": "2025-03-22T15:56:50.724Z"
   },
   {
    "duration": 5,
    "start_time": "2025-03-22T15:56:50.737Z"
   },
   {
    "duration": 3,
    "start_time": "2025-03-22T15:56:50.746Z"
   },
   {
    "duration": 3,
    "start_time": "2025-03-22T15:56:50.750Z"
   },
   {
    "duration": 56,
    "start_time": "2025-03-22T15:56:50.755Z"
   },
   {
    "duration": 5,
    "start_time": "2025-03-22T15:56:50.812Z"
   },
   {
    "duration": 7,
    "start_time": "2025-03-22T15:56:50.819Z"
   },
   {
    "duration": 3,
    "start_time": "2025-03-22T15:56:50.828Z"
   },
   {
    "duration": 9,
    "start_time": "2025-03-22T15:56:50.833Z"
   },
   {
    "duration": 11,
    "start_time": "2025-03-22T15:56:50.844Z"
   },
   {
    "duration": 9,
    "start_time": "2025-03-22T15:56:50.857Z"
   },
   {
    "duration": 39,
    "start_time": "2025-03-22T15:56:50.867Z"
   },
   {
    "duration": 3,
    "start_time": "2025-03-22T15:56:50.908Z"
   },
   {
    "duration": 14,
    "start_time": "2025-03-22T15:56:50.912Z"
   },
   {
    "duration": 18,
    "start_time": "2025-03-22T15:56:50.927Z"
   },
   {
    "duration": 9,
    "start_time": "2025-03-22T15:56:50.947Z"
   },
   {
    "duration": 2,
    "start_time": "2025-03-22T15:56:50.958Z"
   },
   {
    "duration": 9,
    "start_time": "2025-03-22T15:56:50.962Z"
   },
   {
    "duration": 5,
    "start_time": "2025-03-22T15:56:51.005Z"
   },
   {
    "duration": 9,
    "start_time": "2025-03-22T15:56:51.012Z"
   },
   {
    "duration": 20,
    "start_time": "2025-03-22T15:56:51.022Z"
   },
   {
    "duration": 18,
    "start_time": "2025-03-22T15:56:51.044Z"
   },
   {
    "duration": 11,
    "start_time": "2025-03-22T15:56:51.063Z"
   },
   {
    "duration": 4,
    "start_time": "2025-03-22T15:56:51.106Z"
   },
   {
    "duration": 19,
    "start_time": "2025-03-22T15:56:51.112Z"
   },
   {
    "duration": 10,
    "start_time": "2025-03-22T15:56:51.133Z"
   },
   {
    "duration": 6,
    "start_time": "2025-03-22T15:56:51.145Z"
   },
   {
    "duration": 10,
    "start_time": "2025-03-22T15:56:51.153Z"
   },
   {
    "duration": 4,
    "start_time": "2025-03-22T15:56:51.164Z"
   },
   {
    "duration": 11,
    "start_time": "2025-03-22T15:56:51.205Z"
   },
   {
    "duration": 6,
    "start_time": "2025-03-22T15:56:51.217Z"
   },
   {
    "duration": 94,
    "start_time": "2025-03-22T15:56:51.224Z"
   },
   {
    "duration": 22,
    "start_time": "2025-03-22T15:56:51.320Z"
   },
   {
    "duration": 1177,
    "start_time": "2025-03-22T15:56:51.343Z"
   },
   {
    "duration": 1109,
    "start_time": "2025-03-22T15:56:52.523Z"
   },
   {
    "duration": 10,
    "start_time": "2025-03-22T15:56:53.634Z"
   },
   {
    "duration": 11,
    "start_time": "2025-03-22T15:56:53.646Z"
   },
   {
    "duration": 1037,
    "start_time": "2025-03-22T15:56:53.659Z"
   },
   {
    "duration": 5,
    "start_time": "2025-03-22T15:56:54.706Z"
   },
   {
    "duration": 99,
    "start_time": "2025-03-22T15:56:54.713Z"
   },
   {
    "duration": 5,
    "start_time": "2025-03-22T15:56:54.814Z"
   },
   {
    "duration": 8,
    "start_time": "2025-03-22T15:59:47.429Z"
   },
   {
    "duration": 216,
    "start_time": "2025-03-22T16:08:45.492Z"
   },
   {
    "duration": 20,
    "start_time": "2025-03-22T16:52:28.828Z"
   },
   {
    "duration": 16,
    "start_time": "2025-03-22T16:52:43.526Z"
   },
   {
    "duration": 252,
    "start_time": "2025-03-22T17:10:19.422Z"
   },
   {
    "duration": 453,
    "start_time": "2025-03-22T17:12:36.320Z"
   },
   {
    "duration": 260,
    "start_time": "2025-03-22T17:15:51.212Z"
   },
   {
    "duration": 480,
    "start_time": "2025-03-22T17:37:46.548Z"
   },
   {
    "duration": 13,
    "start_time": "2025-03-22T18:00:18.281Z"
   },
   {
    "duration": 4,
    "start_time": "2025-03-22T18:01:21.486Z"
   },
   {
    "duration": 380,
    "start_time": "2025-03-22T18:16:49.169Z"
   },
   {
    "duration": 173,
    "start_time": "2025-03-22T18:38:46.857Z"
   },
   {
    "duration": 17,
    "start_time": "2025-03-22T18:45:35.217Z"
   },
   {
    "duration": 9,
    "start_time": "2025-03-22T18:46:34.812Z"
   },
   {
    "duration": 10,
    "start_time": "2025-03-22T18:51:47.241Z"
   },
   {
    "duration": 10,
    "start_time": "2025-03-22T18:58:50.380Z"
   },
   {
    "duration": 4,
    "start_time": "2025-03-22T19:03:30.320Z"
   },
   {
    "duration": 10,
    "start_time": "2025-03-22T19:03:38.313Z"
   },
   {
    "duration": 3,
    "start_time": "2025-03-22T19:04:37.191Z"
   },
   {
    "duration": 42,
    "start_time": "2025-03-22T19:05:10.969Z"
   },
   {
    "duration": 1329,
    "start_time": "2025-03-22T19:10:14.055Z"
   },
   {
    "duration": 228,
    "start_time": "2025-03-22T19:13:26.519Z"
   },
   {
    "duration": 2617,
    "start_time": "2025-03-25T13:04:06.136Z"
   },
   {
    "duration": 75,
    "start_time": "2025-03-25T13:04:08.755Z"
   },
   {
    "duration": 61,
    "start_time": "2025-03-25T13:04:08.832Z"
   },
   {
    "duration": 3,
    "start_time": "2025-03-25T13:04:08.895Z"
   },
   {
    "duration": 4,
    "start_time": "2025-03-25T13:04:08.925Z"
   },
   {
    "duration": 5,
    "start_time": "2025-03-25T13:04:08.930Z"
   },
   {
    "duration": 3,
    "start_time": "2025-03-25T13:04:08.937Z"
   },
   {
    "duration": 6,
    "start_time": "2025-03-25T13:04:08.942Z"
   },
   {
    "duration": 11,
    "start_time": "2025-03-25T13:04:08.951Z"
   },
   {
    "duration": 5,
    "start_time": "2025-03-25T13:04:08.963Z"
   },
   {
    "duration": 6,
    "start_time": "2025-03-25T13:04:08.970Z"
   },
   {
    "duration": 46,
    "start_time": "2025-03-25T13:04:08.978Z"
   },
   {
    "duration": 14,
    "start_time": "2025-03-25T13:04:09.026Z"
   },
   {
    "duration": 5,
    "start_time": "2025-03-25T13:04:09.044Z"
   },
   {
    "duration": 3,
    "start_time": "2025-03-25T13:04:09.052Z"
   },
   {
    "duration": 3,
    "start_time": "2025-03-25T13:04:09.057Z"
   },
   {
    "duration": 25,
    "start_time": "2025-03-25T13:04:09.062Z"
   },
   {
    "duration": 38,
    "start_time": "2025-03-25T13:04:09.088Z"
   },
   {
    "duration": 7,
    "start_time": "2025-03-25T13:04:09.127Z"
   },
   {
    "duration": 4,
    "start_time": "2025-03-25T13:04:09.135Z"
   },
   {
    "duration": 11,
    "start_time": "2025-03-25T13:04:09.140Z"
   },
   {
    "duration": 11,
    "start_time": "2025-03-25T13:04:09.153Z"
   },
   {
    "duration": 9,
    "start_time": "2025-03-25T13:04:09.166Z"
   },
   {
    "duration": 7,
    "start_time": "2025-03-25T13:04:09.177Z"
   },
   {
    "duration": 40,
    "start_time": "2025-03-25T13:04:09.186Z"
   },
   {
    "duration": 15,
    "start_time": "2025-03-25T13:04:09.227Z"
   },
   {
    "duration": 18,
    "start_time": "2025-03-25T13:04:09.244Z"
   },
   {
    "duration": 10,
    "start_time": "2025-03-25T13:04:09.264Z"
   },
   {
    "duration": 2,
    "start_time": "2025-03-25T13:04:09.276Z"
   },
   {
    "duration": 9,
    "start_time": "2025-03-25T13:04:09.280Z"
   },
   {
    "duration": 37,
    "start_time": "2025-03-25T13:04:09.291Z"
   },
   {
    "duration": 8,
    "start_time": "2025-03-25T13:04:09.330Z"
   },
   {
    "duration": 20,
    "start_time": "2025-03-25T13:04:09.340Z"
   },
   {
    "duration": 18,
    "start_time": "2025-03-25T13:04:09.362Z"
   },
   {
    "duration": 11,
    "start_time": "2025-03-25T13:04:09.382Z"
   },
   {
    "duration": 29,
    "start_time": "2025-03-25T13:04:09.395Z"
   },
   {
    "duration": 22,
    "start_time": "2025-03-25T13:04:09.425Z"
   },
   {
    "duration": 10,
    "start_time": "2025-03-25T13:04:09.448Z"
   },
   {
    "duration": 7,
    "start_time": "2025-03-25T13:04:09.460Z"
   },
   {
    "duration": 11,
    "start_time": "2025-03-25T13:04:09.469Z"
   },
   {
    "duration": 4,
    "start_time": "2025-03-25T13:04:09.485Z"
   },
   {
    "duration": 43,
    "start_time": "2025-03-25T13:04:09.491Z"
   },
   {
    "duration": 4,
    "start_time": "2025-03-25T13:04:09.536Z"
   },
   {
    "duration": 96,
    "start_time": "2025-03-25T13:04:09.542Z"
   },
   {
    "duration": 21,
    "start_time": "2025-03-25T13:04:09.639Z"
   },
   {
    "duration": 1158,
    "start_time": "2025-03-25T13:04:09.662Z"
   },
   {
    "duration": 1120,
    "start_time": "2025-03-25T13:04:10.823Z"
   },
   {
    "duration": 12,
    "start_time": "2025-03-25T13:04:11.946Z"
   },
   {
    "duration": 12,
    "start_time": "2025-03-25T13:04:11.960Z"
   },
   {
    "duration": 1026,
    "start_time": "2025-03-25T13:04:11.974Z"
   },
   {
    "duration": 6,
    "start_time": "2025-03-25T13:04:13.001Z"
   },
   {
    "duration": 105,
    "start_time": "2025-03-25T13:04:13.009Z"
   },
   {
    "duration": 11,
    "start_time": "2025-03-25T13:04:13.115Z"
   },
   {
    "duration": 10,
    "start_time": "2025-03-25T13:04:13.127Z"
   },
   {
    "duration": 229,
    "start_time": "2025-03-25T13:04:13.138Z"
   },
   {
    "duration": 5,
    "start_time": "2025-03-25T13:04:13.369Z"
   },
   {
    "duration": 312,
    "start_time": "2025-03-25T13:04:13.376Z"
   },
   {
    "duration": 508,
    "start_time": "2025-03-25T13:04:13.690Z"
   },
   {
    "duration": 364,
    "start_time": "2025-03-25T13:04:14.200Z"
   },
   {
    "duration": 178,
    "start_time": "2025-03-25T13:04:14.566Z"
   },
   {
    "duration": 9,
    "start_time": "2025-03-25T13:04:14.746Z"
   },
   {
    "duration": 50,
    "start_time": "2025-03-25T13:04:14.757Z"
   },
   {
    "duration": 1434,
    "start_time": "2025-03-25T13:04:14.809Z"
   },
   {
    "duration": 5,
    "start_time": "2025-03-25T13:04:16.245Z"
   },
   {
    "duration": 0,
    "start_time": "2025-03-25T13:04:16.252Z"
   },
   {
    "duration": 0,
    "start_time": "2025-03-25T13:04:16.253Z"
   },
   {
    "duration": 10,
    "start_time": "2025-03-25T13:05:03.777Z"
   },
   {
    "duration": 2,
    "start_time": "2025-03-25T13:06:42.973Z"
   },
   {
    "duration": 109,
    "start_time": "2025-03-25T13:07:57.334Z"
   },
   {
    "duration": 13,
    "start_time": "2025-03-25T13:08:46.215Z"
   },
   {
    "duration": 12,
    "start_time": "2025-03-25T13:08:51.607Z"
   }
  ],
  "kernelspec": {
   "display_name": "Python 3 (ipykernel)",
   "language": "python",
   "name": "python3"
  },
  "language_info": {
   "codemirror_mode": {
    "name": "ipython",
    "version": 3
   },
   "file_extension": ".py",
   "mimetype": "text/x-python",
   "name": "python",
   "nbconvert_exporter": "python",
   "pygments_lexer": "ipython3",
   "version": "3.9.19"
  },
  "toc": {
   "base_numbering": 1,
   "nav_menu": {},
   "number_sections": true,
   "sideBar": true,
   "skip_h1_title": true,
   "title_cell": "Table of Contents",
   "title_sidebar": "Contents",
   "toc_cell": false,
   "toc_position": {},
   "toc_section_display": true,
   "toc_window_display": false
  }
 },
 "nbformat": 4,
 "nbformat_minor": 2
}
